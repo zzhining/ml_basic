{
  "nbformat": 4,
  "nbformat_minor": 0,
  "metadata": {
    "colab": {
      "provenance": [],
      "collapsed_sections": [],
      "toc_visible": true,
      "authorship_tag": "ABX9TyPQUG+TOXFl8a/13KihY7PR",
      "include_colab_link": true
    },
    "kernelspec": {
      "name": "python3",
      "display_name": "Python 3"
    },
    "language_info": {
      "name": "python"
    }
  },
  "cells": [
    {
      "cell_type": "markdown",
      "metadata": {
        "id": "view-in-github",
        "colab_type": "text"
      },
      "source": [
        "<a href=\"https://colab.research.google.com/github/zzhining/ml_basic/blob/main/pca_skeleton.ipynb\" target=\"_parent\"><img src=\"https://colab.research.google.com/assets/colab-badge.svg\" alt=\"Open In Colab\"/></a>"
      ]
    },
    {
      "cell_type": "markdown",
      "source": [
        "# PCA\n",
        "\n",
        "**[참고자료]** \n",
        "- [sklearn pca](https://scikit-learn.org/stable/modules/generated/sklearn.decomposition.PCA.html)"
      ],
      "metadata": {
        "id": "imT3Z5yUJ9lu"
      }
    },
    {
      "cell_type": "markdown",
      "source": [
        "# [실습 01] Iris Dataset"
      ],
      "metadata": {
        "id": "3IyHdA0IOB8a"
      }
    },
    {
      "cell_type": "markdown",
      "source": [
        "## 실습 목표\n",
        "---\n",
        "- 차원 축소의 필요성 및 효과에 대해 이해합니다.\n",
        "- PCA를 수행하여 차원 축소하는 방법에 대해 실습합니다."
      ],
      "metadata": {
        "id": "UHhc5UFvOGLv"
      }
    },
    {
      "cell_type": "markdown",
      "source": [
        "## 실습 목차\n",
        "---\n",
        "\n",
        "1. **데이터 읽기:** iris 데이터를 불러오고 Dataframe 구조를 확인\n",
        "\n",
        "2. **데이터 전처리:** 머신러닝 모델에 필요한 입력값 형식으로 데이터 처리\n",
        "\n",
        "3. **머신러닝 모델 학습:** 분류 모델을 사용하여 학습 수행, 평가 및 예측 수행\n",
        "\n",
        "3. **PCA 적용 후 머신러닝 모델 학습:** PCA로 차원 축소한 변수의 성능 비교"
      ],
      "metadata": {
        "id": "1BQ_OljEPC-m"
      }
    },
    {
      "cell_type": "markdown",
      "source": [
        "## 실습 개요\n",
        "---\n",
        "머신러닝 프로세스 과정을 이해하고, 데이터 전처리, 학습, 평가 단계를 구현합니다."
      ],
      "metadata": {
        "id": "Ocp7oKQUPFta"
      }
    },
    {
      "cell_type": "markdown",
      "source": [
        "## 1. 데이터 읽기\n",
        "---\n"
      ],
      "metadata": {
        "id": "B0ApTH_ZPaOR"
      }
    },
    {
      "cell_type": "markdown",
      "source": [
        "\n",
        "### 1.1 라이브러리 불러오기\n",
        "---\n",
        "머신러닝에 필요한 주요 라이브러리를 불러옵니다.\n",
        "\n",
        " - **numpy**: 수치형 데이터를 배열 구조로 처리하기 위한 라이브러리\n",
        " - **pandas**: 데이터프레임을 다루기 위한 라이브러리\n",
        " - **matplotlib.pyplot**: 데이터시각화를 위한 라이브러리\n",
        " - **seaborn**: 데이터시각화를 위한 라이브러리"
      ],
      "metadata": {
        "id": "qhYogNVH9nvv"
      }
    },
    {
      "cell_type": "code",
      "source": [
        "import numpy as np\n",
        "import pandas as pd\n",
        "import matplotlib.pyplot as plt\n",
        "import seaborn as sns\n",
        "\n",
        "from sklearn.datasets import load_iris\n",
        "\n",
        "seed = 42"
      ],
      "metadata": {
        "id": "Zl_2ot5-OApi"
      },
      "execution_count": null,
      "outputs": []
    },
    {
      "cell_type": "markdown",
      "source": [
        "### 1.2 데이터 불러오기\n",
        "---\n",
        "pandas를 사용하여 dataframe 형태로 데이터를 불러옵니다. 데이터프레임을 담을 변수는 `df`로 설정합니다."
      ],
      "metadata": {
        "id": "f4C6vS2IPdA9"
      }
    },
    {
      "cell_type": "code",
      "source": [
        "# 사이킷런 내장 데이터 셋 API 호출\n",
        "iris = load_iris()\n",
        "df = pd.DataFrame(iris.data , columns=iris.feature_names)\n",
        "df['species']=iris.target\n",
        "df.head()"
      ],
      "metadata": {
        "id": "5EW716aKN_R_"
      },
      "execution_count": null,
      "outputs": []
    },
    {
      "cell_type": "markdown",
      "source": [
        "\n",
        "### 1.3 데이터 탐색\n",
        "---\n",
        "\n",
        "`df`의 컬럼별 요약정보(info)를 확인합니다. 각 컬럼별 데이터 타입과 결측치 여부를 확인합니다."
      ],
      "metadata": {
        "id": "Qpyq2NnGRaov"
      }
    },
    {
      "cell_type": "code",
      "source": [],
      "metadata": {
        "id": "jgmtXk2IO3cR"
      },
      "execution_count": null,
      "outputs": []
    },
    {
      "cell_type": "code",
      "source": [],
      "metadata": {
        "id": "wwpqlylFO3Rl"
      },
      "execution_count": null,
      "outputs": []
    },
    {
      "cell_type": "code",
      "source": [],
      "metadata": {
        "id": "2UFwj-c4O3Or"
      },
      "execution_count": null,
      "outputs": []
    },
    {
      "cell_type": "markdown",
      "source": [
        "## 2. 데이터 전처리(원본)\n",
        "----\n",
        "머신러닝을 하기 위한 데이터 전처리를 수행합니다. 독립변수(X)와 종속변수(Y)로 각 컬럼을 나누고, 학습용 데이터와 테스트용 데이터로 분할하는 데이터 분할을 수행합니다. 독립변수(X)에 대해서 정규화를 수행합니다."
      ],
      "metadata": {
        "id": "MnbDL8AmRfwR"
      }
    },
    {
      "cell_type": "markdown",
      "source": [
        "### 2.1 종속변수, 독립변수 할당\n",
        "-----"
      ],
      "metadata": {
        "id": "fXDeqINnRz9B"
      }
    },
    {
      "cell_type": "code",
      "source": [],
      "metadata": {
        "id": "8fmCiGnHO5e4"
      },
      "execution_count": null,
      "outputs": []
    },
    {
      "cell_type": "markdown",
      "source": [
        "X에 `species`를 제외한 모든 컬럼이 할당되었습니다."
      ],
      "metadata": {
        "id": "zltlKroSSAPp"
      }
    },
    {
      "cell_type": "markdown",
      "source": [
        "### 2.2 학습용, 테스트용 데이터 분할\n",
        "-----\n",
        "train_test_split()을 사용하여 전처리가 완료된 데이터를 분할합니다."
      ],
      "metadata": {
        "id": "yJR49JtbSL8F"
      }
    },
    {
      "cell_type": "code",
      "source": [],
      "metadata": {
        "id": "LnQi0YqDO74h"
      },
      "execution_count": null,
      "outputs": []
    },
    {
      "cell_type": "code",
      "source": [],
      "metadata": {
        "id": "34El4lxhPGro"
      },
      "execution_count": null,
      "outputs": []
    },
    {
      "cell_type": "markdown",
      "source": [
        "150개의 데이터가 학습용 데이터 120개, 테스트용 데이터 30개로 분할되었습니다."
      ],
      "metadata": {
        "id": "-rVyvcqhSUvO"
      }
    },
    {
      "cell_type": "code",
      "source": [],
      "metadata": {
        "id": "uN6a3RXZO9FR"
      },
      "execution_count": null,
      "outputs": []
    },
    {
      "cell_type": "code",
      "source": [],
      "metadata": {
        "id": "DDjgg4kpPGZZ"
      },
      "execution_count": null,
      "outputs": []
    },
    {
      "cell_type": "markdown",
      "source": [
        "0과 1의 비율이 학습용 데이터셋과 테스트용 데이터 셋 모두 약 59:41로 기존 데이터의 비율과 동일하게 분할되었습니다."
      ],
      "metadata": {
        "id": "1VjJLVgBSkfh"
      }
    },
    {
      "cell_type": "markdown",
      "source": [
        "## 3. 머신러닝 모델 수행(원본)\n",
        "-----\n",
        "\n",
        "RandomForestClassifier 알고리즘을 사용하여 분류(classifier) 모델을 생성하는 머신러닝 학습을 수행합니다."
      ],
      "metadata": {
        "id": "7XwzBwwsSpG9"
      }
    },
    {
      "cell_type": "markdown",
      "source": [
        "\n",
        "### 3.1 학습\n",
        "\n",
        "RandomForestClassifier 클래스의 기본 매개변수를 사용하여 모델을 학습시킵니다."
      ],
      "metadata": {
        "id": "a3dq3e2NXm4l"
      }
    },
    {
      "cell_type": "code",
      "source": [],
      "metadata": {
        "id": "93wDIStwPCYp"
      },
      "execution_count": null,
      "outputs": []
    },
    {
      "cell_type": "code",
      "source": [],
      "metadata": {
        "id": "idcrMb8kPFzU"
      },
      "execution_count": null,
      "outputs": []
    },
    {
      "cell_type": "markdown",
      "source": [
        "### 3.2 평가\n",
        "-----"
      ],
      "metadata": {
        "id": "lHCU9YGUS4VJ"
      }
    },
    {
      "cell_type": "code",
      "source": [],
      "metadata": {
        "id": "DMxOscmxPFiw"
      },
      "execution_count": null,
      "outputs": []
    },
    {
      "cell_type": "code",
      "source": [],
      "metadata": {
        "id": "0f6z-QfqPFE5"
      },
      "execution_count": null,
      "outputs": []
    },
    {
      "cell_type": "markdown",
      "source": [
        "### 3.3 예측\n",
        "-----"
      ],
      "metadata": {
        "id": "Cd3pkulFTaXe"
      }
    },
    {
      "cell_type": "code",
      "source": [],
      "metadata": {
        "id": "GKic6GRoPIpB"
      },
      "execution_count": null,
      "outputs": []
    },
    {
      "cell_type": "markdown",
      "source": [
        "예측값과 실제값의 분포를 확인하기 위해 혼동행렬을 사용하여 시각화 합니다."
      ],
      "metadata": {
        "id": "uCM_dHQPTfp3"
      }
    },
    {
      "cell_type": "code",
      "source": [
        "from sklearn.metrics import confusion_matrix\n",
        "from sklearn.metrics import ConfusionMatrixDisplay\n",
        "\n",
        "\n",
        "\n",
        "\n"
      ],
      "metadata": {
        "id": "vHA1J3cYTpAL"
      },
      "execution_count": null,
      "outputs": []
    },
    {
      "cell_type": "markdown",
      "source": [
        "## 4. 데이터 전처리 - 차원축소(PCA)\n",
        "----\n",
        "PCA를 사용하여 차원축소를 진행합니다."
      ],
      "metadata": {
        "id": "86FJHq6g8SJ8"
      }
    },
    {
      "cell_type": "markdown",
      "source": [
        "### 4.1 차원축소(PCA)"
      ],
      "metadata": {
        "id": "SJFZJEdl8voi"
      }
    },
    {
      "cell_type": "code",
      "source": [
        "from sklearn.decomposition import PCA\n",
        "\n"
      ],
      "metadata": {
        "id": "lV5pwA5Q8FNV"
      },
      "execution_count": null,
      "outputs": []
    },
    {
      "cell_type": "code",
      "source": [],
      "metadata": {
        "id": "HmfJ8dlOPS80"
      },
      "execution_count": null,
      "outputs": []
    },
    {
      "cell_type": "code",
      "source": [],
      "metadata": {
        "id": "-W5PVKkGPS1b"
      },
      "execution_count": null,
      "outputs": []
    },
    {
      "cell_type": "code",
      "source": [],
      "metadata": {
        "id": "FrpT5NJ1PSy4"
      },
      "execution_count": null,
      "outputs": []
    },
    {
      "cell_type": "code",
      "source": [],
      "metadata": {
        "id": "mV2XVsHOPSwF"
      },
      "execution_count": null,
      "outputs": []
    },
    {
      "cell_type": "markdown",
      "source": [
        "### 4.2 종속변수, 독립변수 할당\n",
        "----------\n"
      ],
      "metadata": {
        "id": "uA2zerOOTzut"
      }
    },
    {
      "cell_type": "code",
      "source": [],
      "metadata": {
        "id": "W9STLXWzPUNc"
      },
      "execution_count": null,
      "outputs": []
    },
    {
      "cell_type": "code",
      "source": [],
      "metadata": {
        "id": "EG-oCsZpPUIA"
      },
      "execution_count": null,
      "outputs": []
    },
    {
      "cell_type": "code",
      "source": [],
      "metadata": {
        "id": "34xGw3hoPUGK"
      },
      "execution_count": null,
      "outputs": []
    },
    {
      "cell_type": "markdown",
      "source": [
        "### 4.3 학습용, 테스트용 데이터 분할\n",
        "----------"
      ],
      "metadata": {
        "id": "RoQVtcuZ9RD5"
      }
    },
    {
      "cell_type": "code",
      "source": [],
      "metadata": {
        "id": "DUlVFPyZPVK4"
      },
      "execution_count": null,
      "outputs": []
    },
    {
      "cell_type": "code",
      "source": [],
      "metadata": {
        "id": "3dXEVu-vPVIc"
      },
      "execution_count": null,
      "outputs": []
    },
    {
      "cell_type": "markdown",
      "source": [
        "## 5. 머신러닝 모델 수행(PCA)\n",
        "-----"
      ],
      "metadata": {
        "id": "jpDUoOp2T-4N"
      }
    },
    {
      "cell_type": "markdown",
      "source": [
        "### 5.1 학습\n",
        "---"
      ],
      "metadata": {
        "id": "V3QIqVAR9tyh"
      }
    },
    {
      "cell_type": "code",
      "source": [],
      "metadata": {
        "id": "FxPUu8HzPVYs"
      },
      "execution_count": null,
      "outputs": []
    },
    {
      "cell_type": "markdown",
      "source": [
        "### 5.2 평가\n",
        "---"
      ],
      "metadata": {
        "id": "MjAP-ZIV92AN"
      }
    },
    {
      "cell_type": "code",
      "source": [],
      "metadata": {
        "id": "GJPHbWFiPW-A"
      },
      "execution_count": null,
      "outputs": []
    },
    {
      "cell_type": "markdown",
      "source": [
        "### 5.3 예측\n",
        "-----"
      ],
      "metadata": {
        "id": "RiAjTV1EUI4r"
      }
    },
    {
      "cell_type": "code",
      "source": [],
      "metadata": {
        "id": "4cuM8AjZGTPD"
      },
      "execution_count": null,
      "outputs": []
    },
    {
      "cell_type": "markdown",
      "source": [
        "# [실습 02] \n",
        "\n",
        "- 데이터셋1 : https://www.kaggle.com/datasets/mlg-ulb/creditcardfraud\n",
        "- 데이터셋2 : 유방암 데이터 셋\n",
        "- EDA\n",
        "    * 모델 생성을 위해 고려해야할 요소 및 전처리 활동은 무엇이 있을까?\n",
        "- PCA를 사용하여 차원 축소 \n",
        "    * 몇 개의 차원으로 축소하는 것이 좋을까?\n"
      ],
      "metadata": {
        "id": "3OGEjrdr-o3F"
      }
    },
    {
      "cell_type": "code",
      "source": [
        "credit_df = pd.read_csv('creditcard.csv')\n",
        "credit_df.head()"
      ],
      "metadata": {
        "id": "Pjwb0MIJMNHF"
      },
      "execution_count": null,
      "outputs": []
    },
    {
      "cell_type": "code",
      "source": [],
      "metadata": {
        "id": "02-Ar0z4PmSI"
      },
      "execution_count": null,
      "outputs": []
    },
    {
      "cell_type": "code",
      "source": [],
      "metadata": {
        "id": "Carewr_jPmPQ"
      },
      "execution_count": null,
      "outputs": []
    },
    {
      "cell_type": "code",
      "source": [
        "from sklearn.datasets import load_breast_cancer\n",
        "breast_cancer = load_breast_cancer()\n",
        "\n",
        "breast_cancer_df = pd.DataFrame(data=breast_cancer.data, columns=breast_cancer.feature_names)\n",
        "breast_cancer_df['label'] = breast_cancer.target\n",
        "breast_cancer_df.head()"
      ],
      "metadata": {
        "id": "XTWOP3fsIB6U"
      },
      "execution_count": null,
      "outputs": []
    },
    {
      "cell_type": "code",
      "source": [],
      "metadata": {
        "id": "X0q6pK1DEwMk"
      },
      "execution_count": null,
      "outputs": []
    }
  ]
}