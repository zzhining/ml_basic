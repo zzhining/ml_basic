{
  "nbformat": 4,
  "nbformat_minor": 0,
  "metadata": {
    "colab": {
      "private_outputs": true,
      "provenance": [],
      "toc_visible": true,
      "authorship_tag": "ABX9TyPkXjLJvN0FMM6eNXda9dJB",
      "include_colab_link": true
    },
    "kernelspec": {
      "name": "python3",
      "display_name": "Python 3"
    },
    "language_info": {
      "name": "python"
    }
  },
  "cells": [
    {
      "cell_type": "markdown",
      "metadata": {
        "id": "view-in-github",
        "colab_type": "text"
      },
      "source": [
        "<a href=\"https://colab.research.google.com/github/zzhining/ml_basic/blob/main/customer_sales.ipynb\" target=\"_parent\"><img src=\"https://colab.research.google.com/assets/colab-badge.svg\" alt=\"Open In Colab\"/></a>"
      ]
    },
    {
      "cell_type": "markdown",
      "source": [
        "# 고객 이탈율 예측 모델"
      ],
      "metadata": {
        "id": "5xWsuim3u185"
      }
    },
    {
      "cell_type": "markdown",
      "source": [
        "**데이터 셋**\n",
        "- ID: 고객ID\n",
        "- gender: 성별\n",
        "- sales: 총매출액\n",
        "- days: 거래기간\n",
        "- frequency: 방문빈도\n",
        "- discount_freq: 할인권 사용 횟수\n",
        "- discount_price: 할인 금액\n",
        "- label: 탈회 여부\n",
        "\n",
        "**목표**\n",
        "- 주어진 데이터를 사용하여 고객의 탈회 여부를 예측하는 모델을 만든다. \n",
        "- 탈회 여부를 예측하는데 가장 큰 영향을 주는 속성이 무엇인지 알아본다.\n",
        "\n",
        "**모델**\n",
        "- DecisionTreeClassifier\n",
        "- RandomForestClassifier\n",
        "- XGBClassifier"
      ],
      "metadata": {
        "id": "LzXpJ-04x76c"
      }
    },
    {
      "cell_type": "markdown",
      "source": [
        "## 데이터 불러오기"
      ],
      "metadata": {
        "id": "JcgftHd4u6bx"
      }
    },
    {
      "cell_type": "code",
      "execution_count": null,
      "metadata": {
        "id": "fXiUbcpQmBfv"
      },
      "outputs": [],
      "source": [
        "import pandas as pd\n",
        "import seaborn as sns\n",
        "import matplotlib.pyplot as plt\n",
        "\n",
        "df = pd.read_csv('https://raw.githubusercontent.com/zzhining/ml_basic/main/dataset/customer_sales.csv')\n",
        "df.head()"
      ]
    },
    {
      "cell_type": "markdown",
      "source": [
        "## 데이터 탐색"
      ],
      "metadata": {
        "id": "OjXxYZiXu9Rj"
      }
    },
    {
      "cell_type": "code",
      "source": [
        "df.shape"
      ],
      "metadata": {
        "id": "6gscgu2hmHYe"
      },
      "execution_count": null,
      "outputs": []
    },
    {
      "cell_type": "code",
      "source": [
        "df.info()"
      ],
      "metadata": {
        "id": "6dpeT9kJnXUe"
      },
      "execution_count": null,
      "outputs": []
    },
    {
      "cell_type": "code",
      "source": [
        "sns.countplot(x = 'gender', hue = 'label', data = df)"
      ],
      "metadata": {
        "id": "Q2M57uhKvcmN"
      },
      "execution_count": null,
      "outputs": []
    },
    {
      "cell_type": "code",
      "source": [
        "fig, ax = plt.subplots(figsize=(10, 4))\n",
        "sns.countplot(x = 'discount_freq', hue = 'label', data = df, ax=ax)"
      ],
      "metadata": {
        "id": "pT7yE0h8v3Ob"
      },
      "execution_count": null,
      "outputs": []
    },
    {
      "cell_type": "code",
      "source": [
        "sns.histplot(x = 'frequency', hue = 'label', kde = True, data = df)"
      ],
      "metadata": {
        "id": "n042fZfjwaqB"
      },
      "execution_count": null,
      "outputs": []
    },
    {
      "cell_type": "code",
      "source": [
        "sns.histplot(x = 'sales', hue = 'label', kde = True, data = df)"
      ],
      "metadata": {
        "id": "rwo-o0zOwC-7"
      },
      "execution_count": null,
      "outputs": []
    },
    {
      "cell_type": "code",
      "source": [
        "sns.histplot(x = 'days', hue = 'label', kde = True, data = df)"
      ],
      "metadata": {
        "id": "5cP8WlpLL5WX"
      },
      "execution_count": null,
      "outputs": []
    },
    {
      "cell_type": "markdown",
      "source": [
        "## 데이터 전처리"
      ],
      "metadata": {
        "id": "tvBge5T-L8TK"
      }
    },
    {
      "cell_type": "code",
      "source": [
        "df.isnull().sum()"
      ],
      "metadata": {
        "id": "NgKiT5ilMDcO"
      },
      "execution_count": null,
      "outputs": []
    },
    {
      "cell_type": "code",
      "source": [
        "df.describe()"
      ],
      "metadata": {
        "id": "Q8Y9fY3QMLrk"
      },
      "execution_count": null,
      "outputs": []
    },
    {
      "cell_type": "code",
      "source": [
        "df.drop(['ID'], axis=1, inplace = True)"
      ],
      "metadata": {
        "id": "jyfcHLB7ngzz"
      },
      "execution_count": null,
      "outputs": []
    },
    {
      "cell_type": "code",
      "source": [
        "df.head()"
      ],
      "metadata": {
        "id": "tdcq397znsyo"
      },
      "execution_count": null,
      "outputs": []
    },
    {
      "cell_type": "markdown",
      "source": [
        "## 데이터 분할"
      ],
      "metadata": {
        "id": "L7-zDyHJvDH_"
      }
    },
    {
      "cell_type": "code",
      "source": [
        "# 변수 지정(독립변수/종속변수)\n",
        "X = df.iloc[:, :-1]\n",
        "y = df['label']"
      ],
      "metadata": {
        "id": "y_vdT3AemZJI"
      },
      "execution_count": null,
      "outputs": []
    },
    {
      "cell_type": "code",
      "source": [
        "from sklearn.model_selection import train_test_split\n",
        "\n",
        "# 학습용 데이터와 테스트용 데이터의 분할\n",
        "X_train, X_test, y_train, y_test = train_test_split(X, y, random_state=42, stratify = y)"
      ],
      "metadata": {
        "id": "oztfDAopmd2X"
      },
      "execution_count": null,
      "outputs": []
    },
    {
      "cell_type": "markdown",
      "source": [
        "## DecisionTreeClassifier"
      ],
      "metadata": {
        "id": "PYhL9hkbuxaf"
      }
    },
    {
      "cell_type": "code",
      "source": [
        "from sklearn.tree import DecisionTreeClassifier\n",
        "\n",
        "tree_model = DecisionTreeClassifier(random_state=42, max_depth = 3)\n",
        "tree_model.fit(X_train , y_train)"
      ],
      "metadata": {
        "id": "mBecv0Pqmfg7"
      },
      "execution_count": null,
      "outputs": []
    },
    {
      "cell_type": "code",
      "source": [
        "y_pred = tree_model.predict(X_test)"
      ],
      "metadata": {
        "id": "CvvnaUR0omU0"
      },
      "execution_count": null,
      "outputs": []
    },
    {
      "cell_type": "code",
      "source": [
        "from sklearn.metrics import accuracy_score\n",
        "\n",
        "print(\"테스트셋의 정확도:{:.2f}\".format(accuracy_score(y_test, y_pred)))"
      ],
      "metadata": {
        "id": "7Tfjc2PE3taa"
      },
      "execution_count": null,
      "outputs": []
    },
    {
      "cell_type": "code",
      "source": [
        "from sklearn.tree import export_graphviz\n",
        "from subprocess import call\n",
        "from IPython.display import Image\n",
        "\n",
        "# 의사결정나무 모델을 dot 파일로 추출\n",
        "export_graphviz(tree_model, out_file='tree.dot', class_names= ['keep', 'leave'], \\\n",
        "                feature_names = df.columns[:-1], impurity=True, filled=True)\n",
        "\n",
        "# dot 파일을 .png로 변환\n",
        "call(['dot', '-Tpng', 'tree.dot', '-o', 'tree.png'])\n",
        "\n",
        "# png 출력\n",
        "Image(filename = 'tree.png')"
      ],
      "metadata": {
        "id": "s2CjgQ-EoP0B"
      },
      "execution_count": null,
      "outputs": []
    },
    {
      "cell_type": "code",
      "source": [
        "feature_name = df.columns[:-1]\n",
        "feature_importances = tree_model.feature_importances_\n",
        "sorted(zip(feature_importances, feature_name), reverse=True)"
      ],
      "metadata": {
        "id": "JRACUDbJoiOZ"
      },
      "execution_count": null,
      "outputs": []
    },
    {
      "cell_type": "code",
      "source": [
        "from sklearn.metrics import confusion_matrix\n",
        "from sklearn.metrics import ConfusionMatrixDisplay\n",
        "\n",
        "# 혼동행렬 생성\n",
        "cm = confusion_matrix(y_test, y_pred)\n",
        "\n",
        "# 혼동행렬 시각화\n",
        "cm_display = ConfusionMatrixDisplay(cm).plot()"
      ],
      "metadata": {
        "id": "faxDQ8F8o9zD"
      },
      "execution_count": null,
      "outputs": []
    },
    {
      "cell_type": "code",
      "source": [
        "from sklearn.metrics import precision_score, recall_score\n",
        "\n",
        "print('정밀도:{:.2f}, 재현율:{:.2f}'.format(precision_score(y_test, y_pred), recall_score(y_test, y_pred)))"
      ],
      "metadata": {
        "id": "ukrzb7ScNd7s"
      },
      "execution_count": null,
      "outputs": []
    },
    {
      "cell_type": "markdown",
      "source": [
        "## RandomForestClassifier"
      ],
      "metadata": {
        "id": "mnTV7l_RvM61"
      }
    },
    {
      "cell_type": "code",
      "source": [
        "# RandomForestClassifier 라이브러리 불러오기\n",
        "from sklearn.ensemble import RandomForestClassifier\n",
        "\n",
        "# 기본 매개변수를 사용하는 RandomForestClassifier 생성\n",
        "rf = RandomForestClassifier(random_state=1)\n",
        "\n",
        "# 생성한 랜덤포레스트 객체를 학습용 데이터를 사용하여 학습\n",
        "rf.fit(X_train, y_train)"
      ],
      "metadata": {
        "id": "LjTlcFPttSz7"
      },
      "execution_count": null,
      "outputs": []
    },
    {
      "cell_type": "code",
      "source": [
        "# 학습용 데이터 셋의 정확도\n",
        "print(\"train 세트 정확도: {:.3f}\".format(rf.score(X_train, y_train)))\n",
        "\n",
        "# 테스트용 데이터 셋의 정확도\n",
        "print(\"test 세트 정확도: {:.3f}\".format(rf.score(X_test, y_test)))"
      ],
      "metadata": {
        "id": "1NLYgwn2tia1"
      },
      "execution_count": null,
      "outputs": []
    },
    {
      "cell_type": "code",
      "source": [
        "# 혼동행렬\n",
        "y_pred = rf.predict(X_test)\n",
        "cm = confusion_matrix(y_test, y_pred)\n",
        "cm_display = ConfusionMatrixDisplay(cm).plot()"
      ],
      "metadata": {
        "id": "Dl6r9YfvMrsu"
      },
      "execution_count": null,
      "outputs": []
    },
    {
      "cell_type": "code",
      "source": [
        "print('정밀도:{:.2f}, 재현율:{:.2f}'.format(precision_score(y_test, y_pred), recall_score(y_test, y_pred)))"
      ],
      "metadata": {
        "id": "bW0BpUmpN-_J"
      },
      "execution_count": null,
      "outputs": []
    },
    {
      "cell_type": "code",
      "source": [
        "feature_importances = rf.feature_importances_\n",
        "sorted(zip(feature_importances, feature_name), reverse=True)"
      ],
      "metadata": {
        "id": "mUPVLkM8zyEj"
      },
      "execution_count": null,
      "outputs": []
    },
    {
      "cell_type": "markdown",
      "source": [
        "## xgboost"
      ],
      "metadata": {
        "id": "oxrPL5_OvQJv"
      }
    },
    {
      "cell_type": "code",
      "source": [
        "# XGBoost 라이브러리 불러오기\n",
        "import xgboost as xgb\n",
        "\n",
        "# 기본 매개변수를 사용하는 XGBoost 생성\n",
        "xgb_classifier = xgb.XGBClassifier(random_state=42)\n",
        "\n",
        "# 생성한 XGBoost 객체를 학습용 데이터를 사용하여 학습\n",
        "xgb_classifier.fit(X_train, y_train)"
      ],
      "metadata": {
        "id": "x5GEWjs9tlDR"
      },
      "execution_count": null,
      "outputs": []
    },
    {
      "cell_type": "code",
      "source": [
        "# 학습용 데이터 셋의 정확도\n",
        "print(\"train 세트 정확도: {:.3f}\".format(xgb_classifier.score(X_train, y_train)))\n",
        "\n",
        "# 테스트용 데이터 셋의 정확도\n",
        "print(\"test 세트 정확도: {:.3f}\".format(xgb_classifier.score(X_test, y_test)))"
      ],
      "metadata": {
        "id": "FUyqh6Eltopi"
      },
      "execution_count": null,
      "outputs": []
    },
    {
      "cell_type": "code",
      "source": [
        "# 혼동행렬\n",
        "y_pred = xgb_classifier.predict(X_test)\n",
        "cm = confusion_matrix(y_test, y_pred)\n",
        "cm_display = ConfusionMatrixDisplay(cm).plot()\n",
        "\n",
        "print('정밀도:{:.2f}, 재현율:{:.2f}'.format(precision_score(y_test, y_pred), recall_score(y_test, y_pred)))"
      ],
      "metadata": {
        "id": "-Bt3remqOB77"
      },
      "execution_count": null,
      "outputs": []
    },
    {
      "cell_type": "code",
      "source": [
        "from xgboost import XGBClassifier, plot_importance\n",
        "\n",
        "plot_importance(xgb_classifier)"
      ],
      "metadata": {
        "id": "T9-CJDAFzaWy"
      },
      "execution_count": null,
      "outputs": []
    },
    {
      "cell_type": "markdown",
      "source": [
        "## VotingClassifier"
      ],
      "metadata": {
        "id": "c9KEDOJ_vSpv"
      }
    },
    {
      "cell_type": "code",
      "source": [
        "# VotingClassifier 라이브러리 불러오기\n",
        "from sklearn.ensemble import VotingClassifier\n",
        "\n",
        "# 랜덤포레스트와 XGBoost를 앙상블하는 모델 생성\n",
        "voting_classifier = VotingClassifier(estimators=[('RF',rf), ('xgb',xgb_classifier)], voting='hard')\n",
        "\n",
        "# 생성한 VotingClassifier 객체를 학습용 데이터를 사용하여 학습\n",
        "voting_classifier.fit(X_train , y_train)"
      ],
      "metadata": {
        "id": "YOnUdKnStrcr"
      },
      "execution_count": null,
      "outputs": []
    },
    {
      "cell_type": "code",
      "source": [
        "# 학습용 데이터 셋의 정확도\n",
        "print(\"train 세트 정확도: {:.3f}\".format(voting_classifier.score(X_train, y_train)))\n",
        "\n",
        "# 테스트용 데이터 셋의 정확도\n",
        "print(\"test 세트 정확도: {:.3f}\".format(voting_classifier.score(X_test, y_test)))"
      ],
      "metadata": {
        "id": "tkvZe_6Stuby"
      },
      "execution_count": null,
      "outputs": []
    }
  ]
}