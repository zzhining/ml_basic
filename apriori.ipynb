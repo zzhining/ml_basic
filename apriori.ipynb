{
  "nbformat": 4,
  "nbformat_minor": 0,
  "metadata": {
    "colab": {
      "provenance": [],
      "toc_visible": true,
      "include_colab_link": true
    },
    "kernelspec": {
      "name": "python3",
      "display_name": "Python 3"
    },
    "language_info": {
      "name": "python"
    },
    "gpuClass": "standard"
  },
  "cells": [
    {
      "cell_type": "markdown",
      "metadata": {
        "id": "view-in-github",
        "colab_type": "text"
      },
      "source": [
        "<a href=\"https://colab.research.google.com/github/zzhining/ml_basic/blob/main/apriori.ipynb\" target=\"_parent\"><img src=\"https://colab.research.google.com/assets/colab-badge.svg\" alt=\"Open In Colab\"/></a>"
      ]
    },
    {
      "cell_type": "markdown",
      "source": [
        "# 연관 규칙(Association Rule)\n"
      ],
      "metadata": {
        "id": "rpsBWZakqLuA"
      }
    },
    {
      "cell_type": "markdown",
      "source": [
        "![image-20220901110342104](https://t1.daumcdn.net/cfile/tistory/99F2E4335A111D3902)\n"
      ],
      "metadata": {
        "id": "Z82-YB6tqTI-"
      }
    },
    {
      "cell_type": "markdown",
      "source": [
        "## 연관 규칙이란?\n",
        "----\n",
        "- 연관 규칙이란 특정 사건들이 동시에 발생하는 빈도로 상호 연관성을 표현하는 규칙\n",
        "\n",
        "- 빈발 아이템 집합으로 모든 데이터 집합에서 공통적으로 나타나는 아이템을 관찰\n",
        "\n",
        "  - 아이템 간의 관계를  if..then으로 나타냄\n",
        "  - {peanut butter, jelly} → {bread}\n",
        "\n",
        "- 유형 \n",
        "\n",
        "  - 장바구니 분석: A를 산 사람이 B도 같이 산다 \n",
        "  - 서열 분석: A를 사고나서 B를 산다 \n",
        "  "
      ],
      "metadata": {
        "id": "t4T6JEJqqYGs"
      }
    },
    {
      "cell_type": "markdown",
      "source": [
        "\n",
        "## 연관 규칙사례\n",
        "----\n",
        "- 암 데이터 분석에서 단백질 서열과 자주 발견되는 흥미로운 **DNA의 패턴 찾기**\n",
        "----\n",
        "- 사기 신용카드나 보험과 복합해 발생하는 의료 청구 발견하기\n",
        "----\n",
        "- 휴대폰 서비스를 정지하거나 케이블 텔레비전 패키지를 업그레이드하려는 **행위의 사전 조합 식별**하기 \n",
        "----\n",
        "- 구매 패턴 분석하기\n",
        "\n",
        "| 거래ID | 구매 항목                      |\n",
        "| ------ | ------------------------------ |\n",
        "| 1      | 버거, 감자튀김, 샐러드         |\n",
        "| 2      | 버거, 감자튀김, 콜라           |\n",
        "| 3      | 샐러드, 과일                   |\n",
        "| 4      | 파스타, 과일, 버터, 샐러드     |\n",
        "| 5      | 과일, 주스, 샐러드             |\n",
        "| 6      | 버거, 감자튀김, 콜라, 마요네즈 |\n",
        "\n",
        "```\n",
        "  {버거} → {감자튀김},  {샐러드} → {과일}, {버거, 감자튀김} → {콜라}\n",
        "```\n",
        "----\n",
        "\n",
        "  - 영화 추천\n",
        "\n",
        "| User ID | Movies Liked                   |\n",
        "| ------- | ------------------------------ |\n",
        "| 1       | Movie1, Movie2, Movie3, Movie4 |\n",
        "| 2       | Movie1, Movie2                 |\n",
        "| 3       | Movie1, Movie2, Movie4         |\n",
        "| 4       | Movie1, Movie2,                |\n",
        "| 5       | Movie2, Movie4                 |\n",
        "| 6       | Movie1, Movie3                 |\n",
        "\n",
        "  **가능한 추천 항목**\n",
        "  ```\n",
        "  {Movie1} → {Movie2},  {Movie2} → {Movie4}, {Movie1} → {Movie3}\n",
        "  ```\n",
        "----\n",
        "  "
      ],
      "metadata": {
        "id": "zJSvIR1Cqtmq"
      }
    },
    {
      "cell_type": "markdown",
      "source": [
        "## 지지도(Support)\n",
        "\n",
        "- 전체 거래항목 중 상품 A와 상품 B를 동시에 포함하여 거래하는 비율\n",
        "\n",
        "$$\n",
        "support(A,B)=P(A∩B)\n",
        "$$\n"
      ],
      "metadata": {
        "id": "tNxqNwVXrEHn"
      }
    },
    {
      "cell_type": "markdown",
      "source": [
        "---\n",
        "## 신뢰도(Confidence)\n",
        "\n",
        "- 상품 A를 포함하는 거래 중 A와 B가 동시에 거래되는 비중\n",
        "- 상품 A를 구매했을 때, 상품 B를 구매할 확률이 어느 정도 되는지를 확인\n",
        "<br><br>\n",
        " $$\n",
        "  confidence(A→B)=P(A∩B) /P(A)\n",
        "  $$\n"
      ],
      "metadata": {
        "id": "pkv_hBXjrH6H"
      }
    },
    {
      "cell_type": "markdown",
      "source": [
        "----\n",
        "## 향상도(Lift)\n",
        "\n",
        "- A가 주어지지 않았을 때 B의 확률 대비, A가 주어졌을 때 B의 확률 증가 비율\n",
        "- A와 B가 동시에 일어난 횟수 / A, B가 독립된 사건일 때, A, B가 동시에 일어날 확률\n",
        "\n",
        "$$\n",
        "lift(A→B)=P(A∩B)/P(A)⋅P(B) = P(B|A)/P(B)\n",
        "$$\n",
        "\n",
        "<br><br>\n",
        "\n",
        "\n",
        "    * Lift = 1 : 서로 관련 없는 경우(두 품목이 서로 독립관계)\n",
        "\n",
        "    * Lift  > 1 : 두 품목이 양의 상관관계\n",
        "\n",
        "    * Lift < 1 : 두 품목이 음의 상관관계 \n"
      ],
      "metadata": {
        "id": "UFrvmMKYrQRO"
      }
    },
    {
      "cell_type": "markdown",
      "source": [
        "### 연관규칙분석 사례 1\n",
        "----\n",
        "**A 구두와 B 바지의 연관규칙 분석**\n",
        "\n",
        "|           | 지지도                                                | 신뢰도                                              | 향상도                                                       |\n",
        "| --------- | ----------------------------------------------------- | --------------------------------------------------- | ------------------------------------------------------------ |\n",
        "| 분석 값   | 0.03                                                  | 0.58                                                | 2.81                                                         |\n",
        "| 분석 결과 | 전체 고객 중 3%의 고객이 A구두와 B 바지를 같이 구매함 | A구두를 구매한 고객 중 58%의 고객이 B 바지를 구매함 | 전체 고객 중 B 바지를 구매한 고객의 비율보다<br /> A구두를 구매한 고객 중 B바지를 구매한 고객의 비율이 2.81배 높음 |\n",
        "\n",
        "**분석 결과 활용**\n",
        "\n",
        "- A 구두를 구매한 고객에게 B바지를 추천\n",
        "- B바지의 마케팅 대상을 선정할 때, A구두를 구매한 고객을 선정\n",
        "- A 구두와 B바지를 패키지 상품으로 구성\n",
        "\n"
      ],
      "metadata": {
        "id": "rtftJfAKrt1g"
      }
    },
    {
      "cell_type": "markdown",
      "source": [
        "### 연관규칙분석 사례 2\n",
        "----\n",
        "**30대와 사망과의 연관규칙**(타이타닉 데이터)\n",
        "\n",
        "| ID   | 승객 정보               |\n",
        "| ---- | ----------------------- |\n",
        "| 1    | 3등석, 남자, 22세, 사망 |\n",
        "| 2    | 1등석, 여자, 38세, 생존 |\n",
        "| 3    | 3등석, 여자, 26세, 생존 |\n",
        "| 4    | 1등석, 여자, 35세, 생존 |\n",
        "| 5    | 3등석, 남자, 35세, 사망 |\n",
        "\n",
        "\n",
        "\n",
        "|         | 지지도                                         | 신뢰도                                                 | 향상도                                                       |\n",
        "| ------- | ---------------------------------------------- | ------------------------------------------------------ | ------------------------------------------------------------ |\n",
        "| 분석 값 | (30대∩사망) / 전체 정보 수<br /> = 1 / 5 = 20% | (30대 ∩사망) / 30대가 포함된 정보 수<br /> = 1/3 = 33% | 지지도 / (30대 확률 * 사망 확률)<br /> = 0.2 / (0.6*0.4) = 0.83 |\n",
        "\n",
        "<br>\n",
        "\n",
        "**해석**\n",
        "\n",
        "- 30대이면서 사망한 케이스는 전체 데이터 중 20% 차지함 \n",
        "- 30대 중 33%의 탑승객이 사망함\n",
        "- 30대와 사망와의 지지도는 0.83으로 1보다 작기 때문에 음의 상관관계임, 즉 30대와 사망률은 반비례\n"
      ],
      "metadata": {
        "id": "WAZEA6Cgry9x"
      }
    },
    {
      "cell_type": "markdown",
      "source": [
        "# Apriori 알고리즘\n",
        "----\n",
        "- **빈발항목집합**(frequent item sets, 최소지지도 이상을 갖는 항목집합) 만을 고려하여 데이터 간 연관관계를 밝히기 위한 방법\n",
        "\n",
        "  - 모든 가능한 항목집합의 개수를 줄임\n",
        "  - 아이템 수가 증가할수록 모든 경우의 수에 대해 지지도, 신뢰도, 향상도를 계산하는 것이 어려우므로, 이를 개선하기 위해 빈발 집합 (frequent item sets)만을 고려하여 연관규칙을 생성\n",
        "  - 최소지지도 요건을 만족하지 못하는 아이템 집합의 규칙은 계산하지 않음\n",
        "  - 컨텐츠 기반 추천 (contents-based recommendation)의 기본)\n",
        "\n",
        "- **효율적인 연관규칙 탐색**을 위한 수단\n",
        "\n",
        "  - 거래에서 나타나는 모든 항목들의 가능한 부분집합의 개수나 연관규칙의 개수가 item 이 증가할 때마다 지수적으로 증가\n",
        "\n",
        "  - 한 항목이 자주 발생한다면, 이 항목집합의 모든 부분집합 역시 자주 발생하는 빈발항목집합임\n",
        "  - 한 항목이 자주 발생하지 않는다면, 이 항목집합을 포함하는 모든 집합은 자주 발생하지 않는 비빈발항목집합임\n",
        "\n",
        "\n",
        "\n",
        "**장점**\n",
        "\n",
        "- 매우 대량의 거래 데이터와 작동이 이상적으로 적합하다\n",
        "- 쉽게 이해할 수 있는 결과를 내놓는다\n",
        "- ‘데이터 마이닝’에 유용하고 데이터베이스 안에 예상하지 못한 지식을 발견한다\n",
        "\n",
        "**단점**\n",
        "\n",
        "- 작은 데이터셋에 유용하지 않다\n",
        "- 상식과 통찰력을 구별해야 한다\n",
        "- 무작위 패턴에서 거짓된 결과를 끄집어내기 쉽다\n"
      ],
      "metadata": {
        "id": "JDm0r5EPr1yN"
      }
    },
    {
      "cell_type": "markdown",
      "source": [
        "## Apriori 알고리즘 적용 사례 \n",
        "----\n",
        "```\n",
        "다음 구매 내역을 분석하여 가장 연관성이 높은 항목을 Apriori 알고리즘으로 도출하시오\n",
        "```\n",
        "\n",
        "| ID   | Items                    |\n",
        "| ---- | ------------------------ |\n",
        "| 1    | 달걀, 라면, 참치캔       |\n",
        "| 2    | 라면, 햇반               |\n",
        "| 3    | 라면, 콜라               |\n",
        "| 4    | 달걀,라면, 햇반          |\n",
        "| 5    | 달걀, 콜라               |\n",
        "| 6    | 라면, 콜라               |\n",
        "| 7    | 라면, 햇반               |\n",
        "| 8    | 달걀, 라면, 콜라, 참치캔 |\n",
        "| 9    | 달걀, 라면, 콜라         |\n",
        "| 10   | 양파                     |\n",
        "\n",
        "\n",
        "---\n",
        "1. **최소 지지도 요건 설정**: `0.2`로 설정\n",
        "\n",
        "2. **최소 지지도 요건 만족하지 못하는 요소 제거**\n",
        "\n",
        "   - 라면: 0.8, 달걀: 0.5, 콜라: 0.5, 햇반: 0.3, 참치캔: 0.2, 양파: 0.1\n",
        "   - 양파 (0.1)는 최소지지도 요건을 만족하지 못하므로 제외\n",
        "\n",
        "3. **최소 지지도 요건을 만족하는 2개짜리 아이템 집합 생성**\n",
        "\n",
        "| **구분**   | **라면** | **달걀** | **콜라** | **햇반** | **참치캔** |\n",
        "| ---------- | -------- | -------- | -------- | -------- | ---------- |\n",
        "| **라면**   |          | 0.4      | 0.4      | 0.2      | 0.2        |\n",
        "| **달걀**   |          |          | 0.3      | 0        | 0.2        |\n",
        "| **콜라**   |          |          |          | 0        | 0.1        |\n",
        "| **햇반**   |          |          |          |          | 0          |\n",
        "| **참치캔** |          |          |          |          |            |\n",
        "\n",
        "4. **최소 지지도 요건(0.2) 만족하지 못하는 요소 제거**\n",
        "\n",
        "   - (달걀, 햇반), (콜라, 햇반), (콜라, 참치캔), (햇반, 참치캔)\n",
        "\n",
        "5. **상기 과정 반복**\n",
        "\n",
        "   - 최소 지지도 요건 (0.2)을 나타내는 아이템 집합이 없을 때 까지 아이템 집합의 크기를 1씩 증가\n",
        "\n",
        "6. **상위 연관 규칙 도출**\n",
        "\n",
        "   - `{참치캔}→{달걀, 라면}` : 지지도(0.2), 신뢰도(0.1), 향상도(2.5)\n",
        "   - 참치캔을 구매하는 소비자는 달걀과 라면을 동시에 살 확률이 높다\n",
        "\n"
      ],
      "metadata": {
        "id": "B5Lc-_Ivr3xt"
      }
    },
    {
      "cell_type": "markdown",
      "source": [
        "## Apriori 환경 설정\n",
        "\n",
        "- apyori 인스톨\n",
        "- [데이터 셋](https://drive.google.com/file/d/1y5DYn0dGoSbC22xowBq2d4po6h1JxcTQ/view)"
      ],
      "metadata": {
        "id": "1a5cMe91okG9"
      }
    },
    {
      "cell_type": "code",
      "source": [
        "!pip install apyori"
      ],
      "metadata": {
        "id": "tJOV07R0nL24",
        "colab": {
          "base_uri": "https://localhost:8080/"
        },
        "outputId": "ba5653a5-fcf2-4a3c-def5-796f5eac17b8"
      },
      "execution_count": 1,
      "outputs": [
        {
          "output_type": "stream",
          "name": "stdout",
          "text": [
            "Looking in indexes: https://pypi.org/simple, https://us-python.pkg.dev/colab-wheels/public/simple/\n",
            "Requirement already satisfied: apyori in /usr/local/lib/python3.8/dist-packages (1.1.2)\n"
          ]
        }
      ]
    },
    {
      "cell_type": "code",
      "execution_count": 2,
      "metadata": {
        "id": "2qk_h8xVnARA"
      },
      "outputs": [],
      "source": [
        "import numpy as np\n",
        "import matplotlib.pyplot as plt\n",
        "import pandas as pd\n",
        "from apyori import apriori"
      ]
    },
    {
      "cell_type": "code",
      "source": [
        "!gdown https://drive.google.com/uc?id=1y5DYn0dGoSbC22xowBq2d4po6h1JxcTQ"
      ],
      "metadata": {
        "colab": {
          "base_uri": "https://localhost:8080/"
        },
        "id": "QnN5f55XudJ_",
        "outputId": "206ec473-7f73-4b5b-f681-0050986c0cb0"
      },
      "execution_count": 3,
      "outputs": [
        {
          "output_type": "stream",
          "name": "stdout",
          "text": [
            "Downloading...\n",
            "From: https://drive.google.com/uc?id=1y5DYn0dGoSbC22xowBq2d4po6h1JxcTQ\n",
            "To: /content/store_data.csv\n",
            "\r  0% 0.00/303k [00:00<?, ?B/s]\r100% 303k/303k [00:00<00:00, 111MB/s]\n"
          ]
        }
      ]
    },
    {
      "cell_type": "code",
      "source": [
        "df = pd.read_csv('store_data.csv', header = None)"
      ],
      "metadata": {
        "id": "uFmo7uWJnD1A"
      },
      "execution_count": 4,
      "outputs": []
    },
    {
      "cell_type": "code",
      "source": [
        "df.head()"
      ],
      "metadata": {
        "id": "RizO3s7tnb3h",
        "colab": {
          "base_uri": "https://localhost:8080/",
          "height": 206
        },
        "outputId": "4d659bc3-fc4d-4ed7-e455-d7e3a776f8b7"
      },
      "execution_count": 5,
      "outputs": [
        {
          "output_type": "execute_result",
          "data": {
            "text/plain": [
              "              0          1           2                 3             4   \\\n",
              "0         shrimp    almonds     avocado    vegetables mix  green grapes   \n",
              "1        burgers  meatballs        eggs               NaN           NaN   \n",
              "2        chutney        NaN         NaN               NaN           NaN   \n",
              "3         turkey    avocado         NaN               NaN           NaN   \n",
              "4  mineral water       milk  energy bar  whole wheat rice     green tea   \n",
              "\n",
              "                 5     6               7             8             9   \\\n",
              "0  whole weat flour  yams  cottage cheese  energy drink  tomato juice   \n",
              "1               NaN   NaN             NaN           NaN           NaN   \n",
              "2               NaN   NaN             NaN           NaN           NaN   \n",
              "3               NaN   NaN             NaN           NaN           NaN   \n",
              "4               NaN   NaN             NaN           NaN           NaN   \n",
              "\n",
              "               10         11     12     13             14      15  \\\n",
              "0  low fat yogurt  green tea  honey  salad  mineral water  salmon   \n",
              "1             NaN        NaN    NaN    NaN            NaN     NaN   \n",
              "2             NaN        NaN    NaN    NaN            NaN     NaN   \n",
              "3             NaN        NaN    NaN    NaN            NaN     NaN   \n",
              "4             NaN        NaN    NaN    NaN            NaN     NaN   \n",
              "\n",
              "                  16               17       18         19  \n",
              "0  antioxydant juice  frozen smoothie  spinach  olive oil  \n",
              "1                NaN              NaN      NaN        NaN  \n",
              "2                NaN              NaN      NaN        NaN  \n",
              "3                NaN              NaN      NaN        NaN  \n",
              "4                NaN              NaN      NaN        NaN  "
            ],
            "text/html": [
              "\n",
              "  <div id=\"df-22ddda83-c336-4c25-970b-7dd4515b74e1\">\n",
              "    <div class=\"colab-df-container\">\n",
              "      <div>\n",
              "<style scoped>\n",
              "    .dataframe tbody tr th:only-of-type {\n",
              "        vertical-align: middle;\n",
              "    }\n",
              "\n",
              "    .dataframe tbody tr th {\n",
              "        vertical-align: top;\n",
              "    }\n",
              "\n",
              "    .dataframe thead th {\n",
              "        text-align: right;\n",
              "    }\n",
              "</style>\n",
              "<table border=\"1\" class=\"dataframe\">\n",
              "  <thead>\n",
              "    <tr style=\"text-align: right;\">\n",
              "      <th></th>\n",
              "      <th>0</th>\n",
              "      <th>1</th>\n",
              "      <th>2</th>\n",
              "      <th>3</th>\n",
              "      <th>4</th>\n",
              "      <th>5</th>\n",
              "      <th>6</th>\n",
              "      <th>7</th>\n",
              "      <th>8</th>\n",
              "      <th>9</th>\n",
              "      <th>10</th>\n",
              "      <th>11</th>\n",
              "      <th>12</th>\n",
              "      <th>13</th>\n",
              "      <th>14</th>\n",
              "      <th>15</th>\n",
              "      <th>16</th>\n",
              "      <th>17</th>\n",
              "      <th>18</th>\n",
              "      <th>19</th>\n",
              "    </tr>\n",
              "  </thead>\n",
              "  <tbody>\n",
              "    <tr>\n",
              "      <th>0</th>\n",
              "      <td>shrimp</td>\n",
              "      <td>almonds</td>\n",
              "      <td>avocado</td>\n",
              "      <td>vegetables mix</td>\n",
              "      <td>green grapes</td>\n",
              "      <td>whole weat flour</td>\n",
              "      <td>yams</td>\n",
              "      <td>cottage cheese</td>\n",
              "      <td>energy drink</td>\n",
              "      <td>tomato juice</td>\n",
              "      <td>low fat yogurt</td>\n",
              "      <td>green tea</td>\n",
              "      <td>honey</td>\n",
              "      <td>salad</td>\n",
              "      <td>mineral water</td>\n",
              "      <td>salmon</td>\n",
              "      <td>antioxydant juice</td>\n",
              "      <td>frozen smoothie</td>\n",
              "      <td>spinach</td>\n",
              "      <td>olive oil</td>\n",
              "    </tr>\n",
              "    <tr>\n",
              "      <th>1</th>\n",
              "      <td>burgers</td>\n",
              "      <td>meatballs</td>\n",
              "      <td>eggs</td>\n",
              "      <td>NaN</td>\n",
              "      <td>NaN</td>\n",
              "      <td>NaN</td>\n",
              "      <td>NaN</td>\n",
              "      <td>NaN</td>\n",
              "      <td>NaN</td>\n",
              "      <td>NaN</td>\n",
              "      <td>NaN</td>\n",
              "      <td>NaN</td>\n",
              "      <td>NaN</td>\n",
              "      <td>NaN</td>\n",
              "      <td>NaN</td>\n",
              "      <td>NaN</td>\n",
              "      <td>NaN</td>\n",
              "      <td>NaN</td>\n",
              "      <td>NaN</td>\n",
              "      <td>NaN</td>\n",
              "    </tr>\n",
              "    <tr>\n",
              "      <th>2</th>\n",
              "      <td>chutney</td>\n",
              "      <td>NaN</td>\n",
              "      <td>NaN</td>\n",
              "      <td>NaN</td>\n",
              "      <td>NaN</td>\n",
              "      <td>NaN</td>\n",
              "      <td>NaN</td>\n",
              "      <td>NaN</td>\n",
              "      <td>NaN</td>\n",
              "      <td>NaN</td>\n",
              "      <td>NaN</td>\n",
              "      <td>NaN</td>\n",
              "      <td>NaN</td>\n",
              "      <td>NaN</td>\n",
              "      <td>NaN</td>\n",
              "      <td>NaN</td>\n",
              "      <td>NaN</td>\n",
              "      <td>NaN</td>\n",
              "      <td>NaN</td>\n",
              "      <td>NaN</td>\n",
              "    </tr>\n",
              "    <tr>\n",
              "      <th>3</th>\n",
              "      <td>turkey</td>\n",
              "      <td>avocado</td>\n",
              "      <td>NaN</td>\n",
              "      <td>NaN</td>\n",
              "      <td>NaN</td>\n",
              "      <td>NaN</td>\n",
              "      <td>NaN</td>\n",
              "      <td>NaN</td>\n",
              "      <td>NaN</td>\n",
              "      <td>NaN</td>\n",
              "      <td>NaN</td>\n",
              "      <td>NaN</td>\n",
              "      <td>NaN</td>\n",
              "      <td>NaN</td>\n",
              "      <td>NaN</td>\n",
              "      <td>NaN</td>\n",
              "      <td>NaN</td>\n",
              "      <td>NaN</td>\n",
              "      <td>NaN</td>\n",
              "      <td>NaN</td>\n",
              "    </tr>\n",
              "    <tr>\n",
              "      <th>4</th>\n",
              "      <td>mineral water</td>\n",
              "      <td>milk</td>\n",
              "      <td>energy bar</td>\n",
              "      <td>whole wheat rice</td>\n",
              "      <td>green tea</td>\n",
              "      <td>NaN</td>\n",
              "      <td>NaN</td>\n",
              "      <td>NaN</td>\n",
              "      <td>NaN</td>\n",
              "      <td>NaN</td>\n",
              "      <td>NaN</td>\n",
              "      <td>NaN</td>\n",
              "      <td>NaN</td>\n",
              "      <td>NaN</td>\n",
              "      <td>NaN</td>\n",
              "      <td>NaN</td>\n",
              "      <td>NaN</td>\n",
              "      <td>NaN</td>\n",
              "      <td>NaN</td>\n",
              "      <td>NaN</td>\n",
              "    </tr>\n",
              "  </tbody>\n",
              "</table>\n",
              "</div>\n",
              "      <button class=\"colab-df-convert\" onclick=\"convertToInteractive('df-22ddda83-c336-4c25-970b-7dd4515b74e1')\"\n",
              "              title=\"Convert this dataframe to an interactive table.\"\n",
              "              style=\"display:none;\">\n",
              "        \n",
              "  <svg xmlns=\"http://www.w3.org/2000/svg\" height=\"24px\"viewBox=\"0 0 24 24\"\n",
              "       width=\"24px\">\n",
              "    <path d=\"M0 0h24v24H0V0z\" fill=\"none\"/>\n",
              "    <path d=\"M18.56 5.44l.94 2.06.94-2.06 2.06-.94-2.06-.94-.94-2.06-.94 2.06-2.06.94zm-11 1L8.5 8.5l.94-2.06 2.06-.94-2.06-.94L8.5 2.5l-.94 2.06-2.06.94zm10 10l.94 2.06.94-2.06 2.06-.94-2.06-.94-.94-2.06-.94 2.06-2.06.94z\"/><path d=\"M17.41 7.96l-1.37-1.37c-.4-.4-.92-.59-1.43-.59-.52 0-1.04.2-1.43.59L10.3 9.45l-7.72 7.72c-.78.78-.78 2.05 0 2.83L4 21.41c.39.39.9.59 1.41.59.51 0 1.02-.2 1.41-.59l7.78-7.78 2.81-2.81c.8-.78.8-2.07 0-2.86zM5.41 20L4 18.59l7.72-7.72 1.47 1.35L5.41 20z\"/>\n",
              "  </svg>\n",
              "      </button>\n",
              "      \n",
              "  <style>\n",
              "    .colab-df-container {\n",
              "      display:flex;\n",
              "      flex-wrap:wrap;\n",
              "      gap: 12px;\n",
              "    }\n",
              "\n",
              "    .colab-df-convert {\n",
              "      background-color: #E8F0FE;\n",
              "      border: none;\n",
              "      border-radius: 50%;\n",
              "      cursor: pointer;\n",
              "      display: none;\n",
              "      fill: #1967D2;\n",
              "      height: 32px;\n",
              "      padding: 0 0 0 0;\n",
              "      width: 32px;\n",
              "    }\n",
              "\n",
              "    .colab-df-convert:hover {\n",
              "      background-color: #E2EBFA;\n",
              "      box-shadow: 0px 1px 2px rgba(60, 64, 67, 0.3), 0px 1px 3px 1px rgba(60, 64, 67, 0.15);\n",
              "      fill: #174EA6;\n",
              "    }\n",
              "\n",
              "    [theme=dark] .colab-df-convert {\n",
              "      background-color: #3B4455;\n",
              "      fill: #D2E3FC;\n",
              "    }\n",
              "\n",
              "    [theme=dark] .colab-df-convert:hover {\n",
              "      background-color: #434B5C;\n",
              "      box-shadow: 0px 1px 3px 1px rgba(0, 0, 0, 0.15);\n",
              "      filter: drop-shadow(0px 1px 2px rgba(0, 0, 0, 0.3));\n",
              "      fill: #FFFFFF;\n",
              "    }\n",
              "  </style>\n",
              "\n",
              "      <script>\n",
              "        const buttonEl =\n",
              "          document.querySelector('#df-22ddda83-c336-4c25-970b-7dd4515b74e1 button.colab-df-convert');\n",
              "        buttonEl.style.display =\n",
              "          google.colab.kernel.accessAllowed ? 'block' : 'none';\n",
              "\n",
              "        async function convertToInteractive(key) {\n",
              "          const element = document.querySelector('#df-22ddda83-c336-4c25-970b-7dd4515b74e1');\n",
              "          const dataTable =\n",
              "            await google.colab.kernel.invokeFunction('convertToInteractive',\n",
              "                                                     [key], {});\n",
              "          if (!dataTable) return;\n",
              "\n",
              "          const docLinkHtml = 'Like what you see? Visit the ' +\n",
              "            '<a target=\"_blank\" href=https://colab.research.google.com/notebooks/data_table.ipynb>data table notebook</a>'\n",
              "            + ' to learn more about interactive tables.';\n",
              "          element.innerHTML = '';\n",
              "          dataTable['output_type'] = 'display_data';\n",
              "          await google.colab.output.renderOutput(dataTable, element);\n",
              "          const docLink = document.createElement('div');\n",
              "          docLink.innerHTML = docLinkHtml;\n",
              "          element.appendChild(docLink);\n",
              "        }\n",
              "      </script>\n",
              "    </div>\n",
              "  </div>\n",
              "  "
            ]
          },
          "metadata": {},
          "execution_count": 5
        }
      ]
    },
    {
      "cell_type": "code",
      "source": [
        "apriori?"
      ],
      "metadata": {
        "id": "ABwBI4Y0eCD_"
      },
      "execution_count": 6,
      "outputs": []
    },
    {
      "cell_type": "code",
      "source": [
        "records = []\n",
        "for i in range(0,len(df)):\n",
        "  dataset = []\n",
        "  for j in range(0, len(df.columns)):\n",
        "    if df.values[i,j] is not np.NaN:\n",
        "      dataset.append(df.values[i,j])\n",
        "    else:\n",
        "      break;\n",
        "  records.append(dataset)"
      ],
      "metadata": {
        "id": "cNUaELOEoHvC"
      },
      "execution_count": 7,
      "outputs": []
    },
    {
      "cell_type": "code",
      "source": [
        "records[1]"
      ],
      "metadata": {
        "id": "RjpLzu2K3Gyx",
        "colab": {
          "base_uri": "https://localhost:8080/"
        },
        "outputId": "9e0e10f5-5cbd-4227-dc11-680a543511e6"
      },
      "execution_count": 8,
      "outputs": [
        {
          "output_type": "execute_result",
          "data": {
            "text/plain": [
              "['burgers', 'meatballs', 'eggs']"
            ]
          },
          "metadata": {},
          "execution_count": 8
        }
      ]
    },
    {
      "cell_type": "code",
      "source": [
        "association_rules = apriori(records, min_support=0.0045, min_confidence=0.2, min_lift=3, min_length=2)\n",
        "association_results = list(association_rules)"
      ],
      "metadata": {
        "id": "bg2O7AaxoNP3"
      },
      "execution_count": 9,
      "outputs": []
    },
    {
      "cell_type": "code",
      "source": [
        "print(len(association_results))\n",
        "print(association_results[0])"
      ],
      "metadata": {
        "id": "xAyHpHiKoUjE",
        "colab": {
          "base_uri": "https://localhost:8080/"
        },
        "outputId": "298ac06f-716c-47ce-8cc9-a3f3d2a45d4f"
      },
      "execution_count": 10,
      "outputs": [
        {
          "output_type": "stream",
          "name": "stdout",
          "text": [
            "24\n",
            "RelationRecord(items=frozenset({'chicken', 'light cream'}), support=0.004532728969470737, ordered_statistics=[OrderedStatistic(items_base=frozenset({'light cream'}), items_add=frozenset({'chicken'}), confidence=0.29059829059829057, lift=4.84395061728395)])\n"
          ]
        }
      ]
    },
    {
      "cell_type": "code",
      "source": [
        "for item in association_results:\n",
        "    pair = item[0] \n",
        "    items = [x for x in pair]\n",
        "    print(\"Rule: {} -> {}\".format(items[0], items[1]))\n",
        "    print(\"Support: {:.4f}\".format((item[1])))\n",
        "    print(\"Confidence: {:.4f}\".format(item[2][0][2]))\n",
        "    print(\"Lift: {:.4f}\".format(item[2][0][3]))\n",
        "    print(\"=====================================\")"
      ],
      "metadata": {
        "id": "YzM8VNROoaPf",
        "colab": {
          "base_uri": "https://localhost:8080/"
        },
        "outputId": "47d1ae30-d38c-4457-f8a5-5c2277cbc134"
      },
      "execution_count": 11,
      "outputs": [
        {
          "output_type": "stream",
          "name": "stdout",
          "text": [
            "Rule: chicken -> light cream\n",
            "Support: 0.0045\n",
            "Confidence: 0.2906\n",
            "Lift: 4.8440\n",
            "=====================================\n",
            "Rule: escalope -> mushroom cream sauce\n",
            "Support: 0.0057\n",
            "Confidence: 0.3007\n",
            "Lift: 3.7908\n",
            "=====================================\n",
            "Rule: escalope -> pasta\n",
            "Support: 0.0059\n",
            "Confidence: 0.3729\n",
            "Lift: 4.7008\n",
            "=====================================\n",
            "Rule: ground beef -> herb & pepper\n",
            "Support: 0.0160\n",
            "Confidence: 0.3235\n",
            "Lift: 3.2920\n",
            "=====================================\n",
            "Rule: ground beef -> tomato sauce\n",
            "Support: 0.0053\n",
            "Confidence: 0.3774\n",
            "Lift: 3.8407\n",
            "=====================================\n",
            "Rule: olive oil -> whole wheat pasta\n",
            "Support: 0.0080\n",
            "Confidence: 0.2715\n",
            "Lift: 4.1224\n",
            "=====================================\n",
            "Rule: shrimp -> pasta\n",
            "Support: 0.0051\n",
            "Confidence: 0.3220\n",
            "Lift: 4.5067\n",
            "=====================================\n",
            "Rule: chocolate -> shrimp\n",
            "Support: 0.0053\n",
            "Confidence: 0.2326\n",
            "Lift: 3.2545\n",
            "=====================================\n",
            "Rule: cooking oil -> spaghetti\n",
            "Support: 0.0048\n",
            "Confidence: 0.5714\n",
            "Lift: 3.2820\n",
            "=====================================\n",
            "Rule: ground beef -> spaghetti\n",
            "Support: 0.0087\n",
            "Confidence: 0.3110\n",
            "Lift: 3.1653\n",
            "=====================================\n",
            "Rule: olive oil -> milk\n",
            "Support: 0.0048\n",
            "Confidence: 0.2034\n",
            "Lift: 3.0883\n",
            "=====================================\n",
            "Rule: shrimp -> frozen vegetables\n",
            "Support: 0.0072\n",
            "Confidence: 0.3051\n",
            "Lift: 3.2006\n",
            "=====================================\n",
            "Rule: olive oil -> spaghetti\n",
            "Support: 0.0057\n",
            "Confidence: 0.2057\n",
            "Lift: 3.1240\n",
            "=====================================\n",
            "Rule: spaghetti -> shrimp\n",
            "Support: 0.0060\n",
            "Confidence: 0.2153\n",
            "Lift: 3.0131\n",
            "=====================================\n",
            "Rule: spaghetti -> tomatoes\n",
            "Support: 0.0067\n",
            "Confidence: 0.2392\n",
            "Lift: 3.4980\n",
            "=====================================\n",
            "Rule: ground beef -> spaghetti\n",
            "Support: 0.0053\n",
            "Confidence: 0.3226\n",
            "Lift: 3.2831\n",
            "=====================================\n",
            "Rule: ground beef -> herb & pepper\n",
            "Support: 0.0067\n",
            "Confidence: 0.3906\n",
            "Lift: 3.9757\n",
            "=====================================\n",
            "Rule: ground beef -> spaghetti\n",
            "Support: 0.0064\n",
            "Confidence: 0.3934\n",
            "Lift: 4.0044\n",
            "=====================================\n",
            "Rule: olive oil -> ground beef\n",
            "Support: 0.0049\n",
            "Confidence: 0.2242\n",
            "Lift: 3.4049\n",
            "=====================================\n",
            "Rule: ground beef -> spaghetti\n",
            "Support: 0.0060\n",
            "Confidence: 0.5233\n",
            "Lift: 3.0053\n",
            "=====================================\n",
            "Rule: olive oil -> spaghetti\n",
            "Support: 0.0072\n",
            "Confidence: 0.2030\n",
            "Lift: 3.0825\n",
            "=====================================\n",
            "Rule: olive oil -> mineral water\n",
            "Support: 0.0052\n",
            "Confidence: 0.2254\n",
            "Lift: 3.4230\n",
            "=====================================\n",
            "Rule: olive oil -> spaghetti\n",
            "Support: 0.0051\n",
            "Confidence: 0.2011\n",
            "Lift: 3.0529\n",
            "=====================================\n",
            "Rule: spaghetti -> milk\n",
            "Support: 0.0045\n",
            "Confidence: 0.2881\n",
            "Lift: 3.0228\n",
            "=====================================\n"
          ]
        }
      ]
    },
    {
      "cell_type": "code",
      "source": [],
      "metadata": {
        "id": "XXexhHlJvkUK"
      },
      "execution_count": 11,
      "outputs": []
    }
  ]
}