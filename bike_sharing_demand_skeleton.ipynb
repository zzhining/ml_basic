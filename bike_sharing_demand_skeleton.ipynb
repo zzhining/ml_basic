{
  "cells": [
    {
      "cell_type": "markdown",
      "metadata": {
        "id": "view-in-github",
        "colab_type": "text"
      },
      "source": [
        "<a href=\"https://colab.research.google.com/github/zzhining/ml_basic/blob/main/bike_sharing_demand_skeleton.ipynb\" target=\"_parent\"><img src=\"https://colab.research.google.com/assets/colab-badge.svg\" alt=\"Open In Colab\"/></a>"
      ]
    },
    {
      "cell_type": "markdown",
      "metadata": {
        "id": "7a-Kcp-uz4Ov"
      },
      "source": [
        "# Bike Sharing Demand\n",
        "\n",
        "- [데이터 설명](https://www.kaggle.com/c/bike-sharing-demand)\n"
      ]
    },
    {
      "cell_type": "markdown",
      "source": [
        "\n",
        "## Step1. LinearRegressor"
      ],
      "metadata": {
        "id": "sgIjN2zA1yLW"
      }
    },
    {
      "cell_type": "code",
      "execution_count": 1,
      "metadata": {
        "colab": {
          "base_uri": "https://localhost:8080/",
          "height": 206
        },
        "id": "MllepfCNz4Oz",
        "outputId": "533ee0f1-964d-4bd4-8789-4ce02b1ec3f2"
      },
      "outputs": [
        {
          "output_type": "execute_result",
          "data": {
            "text/plain": [
              "              datetime  season  holiday  workingday  weather  temp   atemp  \\\n",
              "0  2011-01-01 00:00:00       1        0           0        1  9.84  14.395   \n",
              "1  2011-01-01 01:00:00       1        0           0        1  9.02  13.635   \n",
              "2  2011-01-01 02:00:00       1        0           0        1  9.02  13.635   \n",
              "3  2011-01-01 03:00:00       1        0           0        1  9.84  14.395   \n",
              "4  2011-01-01 04:00:00       1        0           0        1  9.84  14.395   \n",
              "\n",
              "   humidity  windspeed  casual  registered  count  \n",
              "0        81        0.0       3          13     16  \n",
              "1        80        0.0       8          32     40  \n",
              "2        80        0.0       5          27     32  \n",
              "3        75        0.0       3          10     13  \n",
              "4        75        0.0       0           1      1  "
            ],
            "text/html": [
              "\n",
              "  <div id=\"df-6dc370a0-6f28-4811-9776-5c01cb8c668d\">\n",
              "    <div class=\"colab-df-container\">\n",
              "      <div>\n",
              "<style scoped>\n",
              "    .dataframe tbody tr th:only-of-type {\n",
              "        vertical-align: middle;\n",
              "    }\n",
              "\n",
              "    .dataframe tbody tr th {\n",
              "        vertical-align: top;\n",
              "    }\n",
              "\n",
              "    .dataframe thead th {\n",
              "        text-align: right;\n",
              "    }\n",
              "</style>\n",
              "<table border=\"1\" class=\"dataframe\">\n",
              "  <thead>\n",
              "    <tr style=\"text-align: right;\">\n",
              "      <th></th>\n",
              "      <th>datetime</th>\n",
              "      <th>season</th>\n",
              "      <th>holiday</th>\n",
              "      <th>workingday</th>\n",
              "      <th>weather</th>\n",
              "      <th>temp</th>\n",
              "      <th>atemp</th>\n",
              "      <th>humidity</th>\n",
              "      <th>windspeed</th>\n",
              "      <th>casual</th>\n",
              "      <th>registered</th>\n",
              "      <th>count</th>\n",
              "    </tr>\n",
              "  </thead>\n",
              "  <tbody>\n",
              "    <tr>\n",
              "      <th>0</th>\n",
              "      <td>2011-01-01 00:00:00</td>\n",
              "      <td>1</td>\n",
              "      <td>0</td>\n",
              "      <td>0</td>\n",
              "      <td>1</td>\n",
              "      <td>9.84</td>\n",
              "      <td>14.395</td>\n",
              "      <td>81</td>\n",
              "      <td>0.0</td>\n",
              "      <td>3</td>\n",
              "      <td>13</td>\n",
              "      <td>16</td>\n",
              "    </tr>\n",
              "    <tr>\n",
              "      <th>1</th>\n",
              "      <td>2011-01-01 01:00:00</td>\n",
              "      <td>1</td>\n",
              "      <td>0</td>\n",
              "      <td>0</td>\n",
              "      <td>1</td>\n",
              "      <td>9.02</td>\n",
              "      <td>13.635</td>\n",
              "      <td>80</td>\n",
              "      <td>0.0</td>\n",
              "      <td>8</td>\n",
              "      <td>32</td>\n",
              "      <td>40</td>\n",
              "    </tr>\n",
              "    <tr>\n",
              "      <th>2</th>\n",
              "      <td>2011-01-01 02:00:00</td>\n",
              "      <td>1</td>\n",
              "      <td>0</td>\n",
              "      <td>0</td>\n",
              "      <td>1</td>\n",
              "      <td>9.02</td>\n",
              "      <td>13.635</td>\n",
              "      <td>80</td>\n",
              "      <td>0.0</td>\n",
              "      <td>5</td>\n",
              "      <td>27</td>\n",
              "      <td>32</td>\n",
              "    </tr>\n",
              "    <tr>\n",
              "      <th>3</th>\n",
              "      <td>2011-01-01 03:00:00</td>\n",
              "      <td>1</td>\n",
              "      <td>0</td>\n",
              "      <td>0</td>\n",
              "      <td>1</td>\n",
              "      <td>9.84</td>\n",
              "      <td>14.395</td>\n",
              "      <td>75</td>\n",
              "      <td>0.0</td>\n",
              "      <td>3</td>\n",
              "      <td>10</td>\n",
              "      <td>13</td>\n",
              "    </tr>\n",
              "    <tr>\n",
              "      <th>4</th>\n",
              "      <td>2011-01-01 04:00:00</td>\n",
              "      <td>1</td>\n",
              "      <td>0</td>\n",
              "      <td>0</td>\n",
              "      <td>1</td>\n",
              "      <td>9.84</td>\n",
              "      <td>14.395</td>\n",
              "      <td>75</td>\n",
              "      <td>0.0</td>\n",
              "      <td>0</td>\n",
              "      <td>1</td>\n",
              "      <td>1</td>\n",
              "    </tr>\n",
              "  </tbody>\n",
              "</table>\n",
              "</div>\n",
              "      <button class=\"colab-df-convert\" onclick=\"convertToInteractive('df-6dc370a0-6f28-4811-9776-5c01cb8c668d')\"\n",
              "              title=\"Convert this dataframe to an interactive table.\"\n",
              "              style=\"display:none;\">\n",
              "        \n",
              "  <svg xmlns=\"http://www.w3.org/2000/svg\" height=\"24px\"viewBox=\"0 0 24 24\"\n",
              "       width=\"24px\">\n",
              "    <path d=\"M0 0h24v24H0V0z\" fill=\"none\"/>\n",
              "    <path d=\"M18.56 5.44l.94 2.06.94-2.06 2.06-.94-2.06-.94-.94-2.06-.94 2.06-2.06.94zm-11 1L8.5 8.5l.94-2.06 2.06-.94-2.06-.94L8.5 2.5l-.94 2.06-2.06.94zm10 10l.94 2.06.94-2.06 2.06-.94-2.06-.94-.94-2.06-.94 2.06-2.06.94z\"/><path d=\"M17.41 7.96l-1.37-1.37c-.4-.4-.92-.59-1.43-.59-.52 0-1.04.2-1.43.59L10.3 9.45l-7.72 7.72c-.78.78-.78 2.05 0 2.83L4 21.41c.39.39.9.59 1.41.59.51 0 1.02-.2 1.41-.59l7.78-7.78 2.81-2.81c.8-.78.8-2.07 0-2.86zM5.41 20L4 18.59l7.72-7.72 1.47 1.35L5.41 20z\"/>\n",
              "  </svg>\n",
              "      </button>\n",
              "      \n",
              "  <style>\n",
              "    .colab-df-container {\n",
              "      display:flex;\n",
              "      flex-wrap:wrap;\n",
              "      gap: 12px;\n",
              "    }\n",
              "\n",
              "    .colab-df-convert {\n",
              "      background-color: #E8F0FE;\n",
              "      border: none;\n",
              "      border-radius: 50%;\n",
              "      cursor: pointer;\n",
              "      display: none;\n",
              "      fill: #1967D2;\n",
              "      height: 32px;\n",
              "      padding: 0 0 0 0;\n",
              "      width: 32px;\n",
              "    }\n",
              "\n",
              "    .colab-df-convert:hover {\n",
              "      background-color: #E2EBFA;\n",
              "      box-shadow: 0px 1px 2px rgba(60, 64, 67, 0.3), 0px 1px 3px 1px rgba(60, 64, 67, 0.15);\n",
              "      fill: #174EA6;\n",
              "    }\n",
              "\n",
              "    [theme=dark] .colab-df-convert {\n",
              "      background-color: #3B4455;\n",
              "      fill: #D2E3FC;\n",
              "    }\n",
              "\n",
              "    [theme=dark] .colab-df-convert:hover {\n",
              "      background-color: #434B5C;\n",
              "      box-shadow: 0px 1px 3px 1px rgba(0, 0, 0, 0.15);\n",
              "      filter: drop-shadow(0px 1px 2px rgba(0, 0, 0, 0.3));\n",
              "      fill: #FFFFFF;\n",
              "    }\n",
              "  </style>\n",
              "\n",
              "      <script>\n",
              "        const buttonEl =\n",
              "          document.querySelector('#df-6dc370a0-6f28-4811-9776-5c01cb8c668d button.colab-df-convert');\n",
              "        buttonEl.style.display =\n",
              "          google.colab.kernel.accessAllowed ? 'block' : 'none';\n",
              "\n",
              "        async function convertToInteractive(key) {\n",
              "          const element = document.querySelector('#df-6dc370a0-6f28-4811-9776-5c01cb8c668d');\n",
              "          const dataTable =\n",
              "            await google.colab.kernel.invokeFunction('convertToInteractive',\n",
              "                                                     [key], {});\n",
              "          if (!dataTable) return;\n",
              "\n",
              "          const docLinkHtml = 'Like what you see? Visit the ' +\n",
              "            '<a target=\"_blank\" href=https://colab.research.google.com/notebooks/data_table.ipynb>data table notebook</a>'\n",
              "            + ' to learn more about interactive tables.';\n",
              "          element.innerHTML = '';\n",
              "          dataTable['output_type'] = 'display_data';\n",
              "          await google.colab.output.renderOutput(dataTable, element);\n",
              "          const docLink = document.createElement('div');\n",
              "          docLink.innerHTML = docLinkHtml;\n",
              "          element.appendChild(docLink);\n",
              "        }\n",
              "      </script>\n",
              "    </div>\n",
              "  </div>\n",
              "  "
            ]
          },
          "metadata": {},
          "execution_count": 1
        }
      ],
      "source": [
        "import numpy as np\n",
        "import pandas as pd\n",
        "import seaborn as sns\n",
        "import matplotlib.pyplot as plt\n",
        "import warnings\n",
        "warnings.filterwarnings(\"ignore\", category=RuntimeWarning)\n",
        "\n",
        "bike_df = pd.read_csv('https://raw.githubusercontent.com/zzhining/data_visualization/main/dataset/bike_sharing_demand_train.csv')\n",
        "bike_df.head(5)"
      ]
    },
    {
      "cell_type": "markdown",
      "metadata": {
        "id": "bx1J9e2kz4O1"
      },
      "source": [
        "**Data Fields**\n",
        "\n",
        "- datetime - 대여날짜 및 시간 \n",
        "- season - 계절 (1 = 봄, 2 = 여름, 3 = 가을, 4 = 겨울 ) \n",
        "- holiday - 휴일 \n",
        "- workingday - 평일(주말과 휴일을 제외한 날) \n",
        "- weather - 날씨 \n",
        "    * 1: 맑음, 대체로 흐림, 일부 흐림 \\\n",
        "    * 2: 안개 + 흐림, 안개 + 깨진 구름, 안개 + 구름이 거의 없음, 안개 \n",
        "    * 3: 가벼운 눈, 가벼운 비 + 뇌우 + 흩어진 구름, 가벼운 비 + 흩어진 구름 \n",
        "    * 4: 폭우 + 얼음 팔레트 + 뇌우 + 안개, 눈 + 안개 \n",
        "- temp - 섭씨 온도 \n",
        "- atemp - 체감 온도 \n",
        "- humidity - 상대 습도 \n",
        "- windspeed - 풍속 \n",
        "- casual - 미등록 사용자의 대여 횟수 \n",
        "- registered - 등록된 사용자의 대여 횟수 \n",
        "- count - 총 대여수"
      ]
    },
    {
      "cell_type": "markdown",
      "metadata": {
        "id": "Qg5gjUtIz4O2"
      },
      "source": [
        "### [Q1] 분석할 데이터는 몇 개의 feature, 몇 개의 데이터로 구성되어 있습니까?"
      ]
    },
    {
      "cell_type": "code",
      "execution_count": null,
      "metadata": {
        "id": "aY43WAgiz4O2"
      },
      "outputs": [],
      "source": [
        "#[Q1]을 해결하기 위한 코드를 작성하세요\n"
      ]
    },
    {
      "cell_type": "markdown",
      "metadata": {
        "id": "OXnj0DSBz4O2"
      },
      "source": [
        "### [Q2] bike_df의 데이터 중 숫자가 아닌 데이터가 포함된 필드가 있습니까?"
      ]
    },
    {
      "cell_type": "code",
      "execution_count": null,
      "metadata": {
        "id": "xIh3XdHRz4O3"
      },
      "outputs": [],
      "source": [
        "#[Q2]을 해결하기 위한 코드를 작성하세요\n"
      ]
    },
    {
      "cell_type": "markdown",
      "metadata": {
        "id": "9wruwRe0z4O3"
      },
      "source": [
        "### [Q3]'datetime'에 있는 값을 'year', 'month', 'day', 'hour' 필드에 파싱하여 넣어주세요.\n",
        "예)\n",
        "2011-01-01 00:00:00 -> 2011\t1\t1\t0\n",
        "\n",
        "(힌트)\n",
        "python의 'datetime64' 포맷을 활용해보세요"
      ]
    },
    {
      "cell_type": "code",
      "execution_count": null,
      "metadata": {
        "id": "gT5xFgvIz4O4"
      },
      "outputs": [],
      "source": [
        "#[Q3]을 해결하기 위한 코드를 작성하세요\n"
      ]
    },
    {
      "cell_type": "markdown",
      "metadata": {
        "id": "8GY-LUOez4O4"
      },
      "source": [
        "### [Q4] 각 데이터 필드의 값을 확인하시고, 불필요한 필드는 제거해주세요\n",
        "\n",
        "(힌트)\n",
        "dataframe의 drop()"
      ]
    },
    {
      "cell_type": "code",
      "execution_count": null,
      "metadata": {
        "id": "4neIPNdNz4O4"
      },
      "outputs": [],
      "source": [
        "#[Q4]을 해결하기 위한 코드를 작성하세요\n"
      ]
    },
    {
      "cell_type": "markdown",
      "metadata": {
        "id": "c-jXsOCmz4O5"
      },
      "source": [
        "### [Q5] 모델을 만들기 위해 train set과 test set으로 분리해주세요.\n",
        " 1) 종속변수y 에 해당하는 값을 Y로 할당    \n",
        " 2) 독립변수x 에 해당하는 값을 X로 할당  \n",
        " 3) train_test_split 함수를 사용해서 분리(train:test = 7:3, random_state=0)"
      ]
    },
    {
      "cell_type": "code",
      "execution_count": null,
      "metadata": {
        "id": "e63u9du9z4O5"
      },
      "outputs": [],
      "source": [
        "from sklearn.model_selection import train_test_split\n",
        "from sklearn.linear_model import LinearRegression\n",
        "\n",
        "#[Q5]을 해결하기 위한 코드를 작성하세요\n"
      ]
    },
    {
      "cell_type": "markdown",
      "metadata": {
        "id": "vS1Zxcdyz4O5"
      },
      "source": [
        "### [Q6] LinearRegression을 사용하여 예측하는 모델을 학습시킵니다."
      ]
    },
    {
      "cell_type": "code",
      "execution_count": null,
      "metadata": {
        "id": "DyqB9WPuz4O6"
      },
      "outputs": [],
      "source": [
        "#[Q6]을 해결하기 위한 코드를 작성하세요\n"
      ]
    },
    {
      "cell_type": "markdown",
      "metadata": {
        "id": "9YSy1zQdz4O6"
      },
      "source": [
        "### [Q7] 모델을 사용하여 테스트 셋으로 분리한 값(X_test)의 예측값을 구합니다."
      ]
    },
    {
      "cell_type": "code",
      "execution_count": null,
      "metadata": {
        "id": "qAiPn09Gz4O6"
      },
      "outputs": [],
      "source": [
        "#[Q7]을 해결하기 위한 코드를 작성하세요\n"
      ]
    },
    {
      "cell_type": "markdown",
      "metadata": {
        "id": "7ELSQuqQz4O6"
      },
      "source": [
        "### [Q8] 모델의 정확도를 측정합니다. \n",
        "이 대회에서 정확도 평가는 RMSLE(Root Mean Squared Log Error)입니다. RMSLE는 아래 함수를 사용하세요"
      ]
    },
    {
      "cell_type": "code",
      "execution_count": null,
      "metadata": {
        "id": "IXKDV6XHz4O7"
      },
      "outputs": [],
      "source": [
        "def rmsle(y, pred):\n",
        "    log_y = np.log1p(y)\n",
        "    log_pred = np.log1p(pred)\n",
        "    squared_error = (log_y - log_pred) ** 2\n",
        "    rmsle = np.sqrt(np.mean(squared_error))\n",
        "    print('RMSLE: {0:.4f}'.format(rmsle))\n",
        "    return rmsle"
      ]
    },
    {
      "cell_type": "code",
      "execution_count": null,
      "metadata": {
        "id": "sVAlrfWmz4O7"
      },
      "outputs": [],
      "source": [
        "#[Q8]을 해결하기 위한 코드를 작성하세요\n"
      ]
    },
    {
      "cell_type": "markdown",
      "metadata": {
        "id": "7spB0lWIz4O7"
      },
      "source": [
        "## Step2. 모델 성능 개선하기"
      ]
    },
    {
      "cell_type": "markdown",
      "metadata": {
        "id": "iDu6BI39z4O8"
      },
      "source": [
        "### [Q1] 예측값과 실제값의 차이가 가장 많이 나는 데이터 5개 출력\n",
        "아래 함수를 실행시켜 보세요"
      ]
    },
    {
      "cell_type": "code",
      "execution_count": null,
      "metadata": {
        "id": "uSDeYGG_z4O8"
      },
      "outputs": [],
      "source": [
        "def get_top5_error_data(y_test, pred):\n",
        "    # DataFrame에 컬럼들로 실제 대여횟수(count)와 예측 값을 서로 비교 할 수 있도록 생성. \n",
        "    result_df = pd.DataFrame(y_test.values, columns=['real_count'])\n",
        "    result_df['predicted_count']= np.round(pred)\n",
        "    result_df['diff'] = np.abs(result_df['real_count'] - result_df['predicted_count'])\n",
        "    # 예측값과 실제값이 가장 큰 데이터 순으로 출력. \n",
        "    print(result_df.sort_values('diff', ascending=False)[:5])"
      ]
    },
    {
      "cell_type": "code",
      "execution_count": null,
      "metadata": {
        "id": "QbRV7Yonz4O8"
      },
      "outputs": [],
      "source": [
        "#[Q1]을 해결하기 위한 코드를 작성하세요\n"
      ]
    },
    {
      "cell_type": "markdown",
      "metadata": {
        "id": "zAq4Lv8mz4O8"
      },
      "source": [
        "### [Q2] Y값 분포 시각화하기\n",
        "\n",
        "(힌트) 히스토그램을 그려보세요."
      ]
    },
    {
      "cell_type": "code",
      "execution_count": null,
      "metadata": {
        "id": "z3YFzhc6z4O8"
      },
      "outputs": [],
      "source": [
        "#[Q2]을 해결하기 위한 코드를 작성하세요\n"
      ]
    },
    {
      "cell_type": "markdown",
      "metadata": {
        "id": "D73Xuf4uz4O9"
      },
      "source": [
        "### [Q3] Y의 로그값 분포 시각화하기\n",
        "\n",
        "(힌트) 히스토그램을 그려보세요.  \n",
        "(힌트) 로그변환: numpy의 log1p() 함수\n"
      ]
    },
    {
      "cell_type": "code",
      "execution_count": null,
      "metadata": {
        "id": "CjgpGKUMz4O9"
      },
      "outputs": [],
      "source": [
        "#[Q3]을 해결하기 위한 코드를 작성하세요\n"
      ]
    },
    {
      "cell_type": "markdown",
      "metadata": {
        "id": "pqAE6gh5z4O9"
      },
      "source": [
        "### [Q4] Y의 로그값을 사용하여 모델 만들어보기\n",
        "\n",
        "* 모델 학습, 예측, 평가는 get_model_predict()를 이용하세요."
      ]
    },
    {
      "cell_type": "code",
      "execution_count": null,
      "metadata": {
        "id": "yGRTRuMoz4O9"
      },
      "outputs": [],
      "source": [
        "def get_model_predict(model, X_train, X_test, y_train, y_test, is_expm1=False):\n",
        "    model.fit(X_train, y_train)\n",
        "    pred = model.predict(X_test)\n",
        "    if is_expm1 :\n",
        "        # 테스트 데이터 셋의 Target 값은 Log 변환되었으므로 다시 expm1를 이용하여 원래 scale로 변환\n",
        "        y_test = np.expm1(y_test)\n",
        "        # 예측 값 역시 Log 변환된 타겟 기반으로 학습되어 예측되었으므로 다시 exmpl으로 scale변환\n",
        "        pred = np.expm1(pred)\n",
        "    print('###',model.__class__.__name__,'###')\n",
        "    rmsle(y_test, pred)"
      ]
    },
    {
      "cell_type": "code",
      "execution_count": null,
      "metadata": {
        "id": "OXEfTEFQz4O9"
      },
      "outputs": [],
      "source": [
        "#[Q4]을 해결하기 위한 코드를 작성하세요\n"
      ]
    },
    {
      "cell_type": "markdown",
      "metadata": {
        "id": "jJS6M312z4O9"
      },
      "source": [
        "### [Q5] 선형회귀모델에서 가장 영향을 많으 주는 종속변수 알아보기\n",
        "아래 함수를 실행시키세요"
      ]
    },
    {
      "cell_type": "code",
      "execution_count": null,
      "metadata": {
        "scrolled": true,
        "id": "exn5iuguz4O9"
      },
      "outputs": [],
      "source": [
        "def plotFeatureList(model, X):\n",
        "    coef = pd.Series(model.coef_, index=X.columns)\n",
        "    coef_sort = coef.sort_values(ascending=False)\n",
        "    sns.barplot(x=coef_sort.values, y=coef_sort.index)"
      ]
    },
    {
      "cell_type": "code",
      "execution_count": null,
      "metadata": {
        "id": "1VHHYLyez4O-"
      },
      "outputs": [],
      "source": [
        "#[Q5]을 해결하기 위한 코드를 작성하세요\n"
      ]
    },
    {
      "cell_type": "markdown",
      "metadata": {
        "id": "ccVazDuPz4O-"
      },
      "source": [
        "### [Q6] 수치형 데이터 중 카테고리형 데이터 One Hot Encoding 하기"
      ]
    },
    {
      "cell_type": "code",
      "execution_count": null,
      "metadata": {
        "id": "g84QIRXhz4O-"
      },
      "outputs": [],
      "source": [
        "#[Q6]을 해결하기 위한 코드를 작성하세요\n"
      ]
    },
    {
      "cell_type": "markdown",
      "metadata": {
        "id": "s6kLerz-z4O-"
      },
      "source": [
        "### [Q7] One Hot Encoding 적용된 feature 데이터 세트 기반으로 학습/예측 \n",
        "\n",
        " * 데이터 분할\n",
        " * 학습: LinearRegression, RandomForestRegressor, GradientBoostingRegressor, XGBRegressor, LGBMRegressor\n",
        " * 예측\n",
        " * 평가"
      ]
    },
    {
      "cell_type": "code",
      "execution_count": null,
      "metadata": {
        "scrolled": true,
        "id": "OSxLlQBsz4O-"
      },
      "outputs": [],
      "source": [
        "from sklearn.ensemble import RandomForestRegressor, GradientBoostingRegressor\n",
        "from xgboost import XGBRegressor\n",
        "from lightgbm import LGBMRegressor"
      ]
    },
    {
      "cell_type": "code",
      "execution_count": null,
      "metadata": {
        "id": "5YwgEXEzz4O-"
      },
      "outputs": [],
      "source": [
        "#[Q7]을 해결하기 위한 코드를 작성하세요\n"
      ]
    },
    {
      "cell_type": "code",
      "execution_count": null,
      "metadata": {
        "id": "CSLMVC3Sz4O_"
      },
      "outputs": [],
      "source": []
    }
  ],
  "metadata": {
    "kernelspec": {
      "display_name": "Python 3",
      "language": "python",
      "name": "python3"
    },
    "language_info": {
      "codemirror_mode": {
        "name": "ipython",
        "version": 3
      },
      "file_extension": ".py",
      "mimetype": "text/x-python",
      "name": "python",
      "nbconvert_exporter": "python",
      "pygments_lexer": "ipython3",
      "version": "3.7.6"
    },
    "toc": {
      "base_numbering": 1,
      "nav_menu": {},
      "number_sections": false,
      "sideBar": true,
      "skip_h1_title": false,
      "title_cell": "Table of Contents",
      "title_sidebar": "Contents",
      "toc_cell": false,
      "toc_position": {
        "height": "calc(100% - 180px)",
        "left": "10px",
        "top": "150px",
        "width": "223px"
      },
      "toc_section_display": true,
      "toc_window_display": false
    },
    "colab": {
      "provenance": [],
      "toc_visible": true,
      "include_colab_link": true
    }
  },
  "nbformat": 4,
  "nbformat_minor": 0
}