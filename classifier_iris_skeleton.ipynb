{
  "cells": [
    {
      "cell_type": "markdown",
      "metadata": {
        "id": "view-in-github",
        "colab_type": "text"
      },
      "source": [
        "<a href=\"https://colab.research.google.com/github/zzhining/ml_basic/blob/main/classifier_iris_skeleton.ipynb\" target=\"_parent\"><img src=\"https://colab.research.google.com/assets/colab-badge.svg\" alt=\"Open In Colab\"/></a>"
      ]
    },
    {
      "cell_type": "markdown",
      "metadata": {
        "id": "ODBKkr4b8-Qz"
      },
      "source": [
        "# 문제 정의\n",
        "\n",
        "[붓꽃 데이터](https://scikit-learn.org/stable/modules/generated/sklearn.datasets.load_iris.html#sklearn.datasets.load_iris)의 품종을 분류하는 문제를 다양한 분류모델을 활용하여 해결해봅니다."
      ]
    },
    {
      "cell_type": "markdown",
      "metadata": {
        "id": "yZ-iQvL88-Q3"
      },
      "source": [
        "## Step0. 준비"
      ]
    },
    {
      "cell_type": "markdown",
      "metadata": {
        "id": "ehSjc1IF8-Q5"
      },
      "source": [
        "### 데이터 로딩"
      ]
    },
    {
      "cell_type": "code",
      "execution_count": null,
      "metadata": {
        "id": "mxAgKiZe8-Q6"
      },
      "outputs": [],
      "source": [
        "import pandas as pd\n",
        "from sklearn.datasets import load_iris\n",
        "\n",
        "iris = load_iris()\n",
        "iris_df = pd.DataFrame(data=iris.data, columns=iris.feature_names)\n",
        "iris_df['label'] = iris.target\n",
        "iris_df.head()"
      ]
    },
    {
      "cell_type": "markdown",
      "metadata": {
        "id": "l8MjNzzl8-Q8"
      },
      "source": [
        "## Step1. 데이터 전처리"
      ]
    },
    {
      "cell_type": "markdown",
      "metadata": {
        "id": "RvyJxPbT8-Q9"
      },
      "source": [
        "### EDA"
      ]
    },
    {
      "cell_type": "code",
      "execution_count": null,
      "metadata": {
        "id": "iW6HexLE8-Q9"
      },
      "outputs": [],
      "source": [
        "# 데이터프레임의 요약 정보\n",
        "iris_df.info()"
      ]
    },
    {
      "cell_type": "markdown",
      "metadata": {
        "id": "Zph-vkGX8-Q9"
      },
      "source": [
        "- 데이터는 총 150개의 로우로 구성되어있으며, 컬럼은 5개가 존재한다.\n",
        "- 각 컬럼의 결측치는 존재하지 않는다.\n",
        "\n",
        "- sepal length : 꽃받침의 길이\n",
        "- sepal width : 꽃받침의 너비\n",
        "- petal length : 꽃잎의 길이\n",
        "- petal width : 꽃잎의 너비\n",
        "- label : 품종"
      ]
    },
    {
      "cell_type": "code",
      "execution_count": null,
      "metadata": {
        "id": "_Evuhy_z8-Q9"
      },
      "outputs": [],
      "source": [
        "# 데이터프레임의 통계 정보 \n",
        "iris_df.describe()"
      ]
    },
    {
      "cell_type": "code",
      "execution_count": null,
      "metadata": {
        "id": "OnpYllf58-Q-"
      },
      "outputs": [],
      "source": [
        "# 품종(label) 카테고리 확인\n",
        "iris_df['label'].unique()"
      ]
    },
    {
      "cell_type": "code",
      "execution_count": null,
      "metadata": {
        "id": "V_3R8Chc8-Q-"
      },
      "outputs": [],
      "source": [
        "import seaborn as sns\n",
        "\n",
        "# iris 데이터의 pairplot\n",
        "sns.pairplot(iris_df, hue='label')"
      ]
    },
    {
      "cell_type": "markdown",
      "metadata": {
        "id": "RXtvR8678-Q-"
      },
      "source": [
        "### 결측치처리\n",
        " - 결측치가 존재하지 않음으로 생략"
      ]
    },
    {
      "cell_type": "code",
      "execution_count": null,
      "metadata": {
        "id": "uF7C18Z38-Q-"
      },
      "outputs": [],
      "source": [
        "# 결측치 확인\n",
        "iris_df.isnull().sum()"
      ]
    },
    {
      "cell_type": "markdown",
      "metadata": {
        "id": "Fmnpoc0N8-Q_"
      },
      "source": [
        "### 데이터분할"
      ]
    },
    {
      "cell_type": "code",
      "execution_count": null,
      "metadata": {
        "id": "XkOtHZm78-Q_"
      },
      "outputs": [],
      "source": [
        "from sklearn.model_selection import train_test_split\n",
        "\n",
        "'''\n",
        "코드를 작성해주세요\n",
        "'''\n",
        "\n",
        "# 학습용 데이터와 테스트용 데이터로 나눔\n",
        "X_train, X_test, y_train, y_test = # 코드를 작성해주세요"
      ]
    },
    {
      "cell_type": "markdown",
      "metadata": {
        "id": "Y15euXHQ8-Q_"
      },
      "source": [
        "## Step2. 학습"
      ]
    },
    {
      "cell_type": "markdown",
      "metadata": {
        "id": "m60BwhNh8-RA"
      },
      "source": [
        "### DecisionTree"
      ]
    },
    {
      "cell_type": "code",
      "execution_count": null,
      "metadata": {
        "id": "bkE4SHlI8-RA"
      },
      "outputs": [],
      "source": [
        "from sklearn.tree import DecisionTreeClassifier\n",
        "\n",
        "\n",
        "# DecisionTreeClassifier 객체 생성 \n",
        "tree_model= # 코드를 작성해주세요\n",
        "\n",
        "# 학습 수행 \n",
        "'''\n",
        "코드를 작성해주세요\n",
        "'''"
      ]
    },
    {
      "cell_type": "markdown",
      "metadata": {
        "id": "xb_eHr2-8-RC"
      },
      "source": [
        "## Step3. 평가"
      ]
    },
    {
      "cell_type": "code",
      "execution_count": null,
      "metadata": {
        "id": "5KzKfDCi8-RC"
      },
      "outputs": [],
      "source": [
        "#테스트용 데이터로 모델 평가\n",
        "tree_score = # 코드를 작성해주세요\n",
        "tree_score"
      ]
    },
    {
      "cell_type": "markdown",
      "metadata": {
        "id": "t7UtKDaq8-RD"
      },
      "source": [
        "## Step4. 적용"
      ]
    },
    {
      "cell_type": "code",
      "execution_count": null,
      "metadata": {
        "id": "ohVvuSP78-RE"
      },
      "outputs": [],
      "source": [
        "import numpy as np\n",
        "data = np.array([\n",
        "    [5.4, 4, 1.5, 0.2],\n",
        "    [6.2 , 2.7, 5.1, 1.6],\n",
        "    [6.5, 3.1 , 5.2, 2. ]\n",
        "])\n",
        "\n",
        "y_pred = # 코드를 작성해주세요"
      ]
    },
    {
      "cell_type": "markdown",
      "source": [
        "# 다양한 분류기"
      ],
      "metadata": {
        "id": "zm32VeqM-MoS"
      }
    },
    {
      "cell_type": "markdown",
      "metadata": {
        "id": "Z5wGcvgG8-RB"
      },
      "source": [
        "### RandomForestClassifier"
      ]
    },
    {
      "cell_type": "code",
      "execution_count": null,
      "metadata": {
        "id": "eZYizlNO8-RB"
      },
      "outputs": [],
      "source": [
        "from sklearn.ensemble import RandomForestClassifier\n",
        "\n",
        "'''\n",
        "코드를 작성해주세요\n",
        "'''"
      ]
    },
    {
      "cell_type": "markdown",
      "metadata": {
        "id": "egl4nllo8-RB"
      },
      "source": [
        "### SVC"
      ]
    },
    {
      "cell_type": "code",
      "execution_count": null,
      "metadata": {
        "id": "oCRdVXzf8-RA"
      },
      "outputs": [],
      "source": [
        "from sklearn.svm import SVC\n",
        "\n",
        "'''\n",
        "코드를 작성해주세요\n",
        "'''"
      ]
    },
    {
      "cell_type": "markdown",
      "metadata": {
        "id": "OecZef2m8-RA"
      },
      "source": [
        "### KNN(Nearest Neighbors)"
      ]
    },
    {
      "cell_type": "code",
      "execution_count": null,
      "metadata": {
        "id": "XreEUEsk8-RA"
      },
      "outputs": [],
      "source": [
        "from sklearn.neighbors import KNeighborsClassifier\n",
        "\n",
        "'''\n",
        "코드를 작성해주세요\n",
        "'''"
      ]
    }
  ],
  "metadata": {
    "kernelspec": {
      "display_name": "Python 3",
      "language": "python",
      "name": "python3"
    },
    "language_info": {
      "codemirror_mode": {
        "name": "ipython",
        "version": 3
      },
      "file_extension": ".py",
      "mimetype": "text/x-python",
      "name": "python",
      "nbconvert_exporter": "python",
      "pygments_lexer": "ipython3",
      "version": "3.8.5"
    },
    "toc": {
      "base_numbering": 1,
      "nav_menu": {},
      "number_sections": false,
      "sideBar": true,
      "skip_h1_title": false,
      "title_cell": "Table of Contents",
      "title_sidebar": "Contents",
      "toc_cell": false,
      "toc_position": {
        "height": "calc(100% - 180px)",
        "left": "10px",
        "top": "150px",
        "width": "209px"
      },
      "toc_section_display": true,
      "toc_window_display": true
    },
    "colab": {
      "provenance": [],
      "toc_visible": true,
      "include_colab_link": true
    }
  },
  "nbformat": 4,
  "nbformat_minor": 0
}