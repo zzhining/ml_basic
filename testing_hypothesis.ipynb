{
  "nbformat": 4,
  "nbformat_minor": 0,
  "metadata": {
    "colab": {
      "private_outputs": true,
      "provenance": [],
      "authorship_tag": "ABX9TyPaFmLeizxtyQovyHUJNRjm",
      "include_colab_link": true
    },
    "kernelspec": {
      "name": "python3",
      "display_name": "Python 3"
    },
    "language_info": {
      "name": "python"
    }
  },
  "cells": [
    {
      "cell_type": "markdown",
      "metadata": {
        "id": "view-in-github",
        "colab_type": "text"
      },
      "source": [
        "<a href=\"https://colab.research.google.com/github/zzhining/ml_basic/blob/main/testing_hypothesis.ipynb\" target=\"_parent\"><img src=\"https://colab.research.google.com/assets/colab-badge.svg\" alt=\"Open In Colab\"/></a>"
      ]
    },
    {
      "cell_type": "code",
      "execution_count": null,
      "metadata": {
        "id": "JwtAhyyG4nmy"
      },
      "outputs": [],
      "source": [
        "import numpy\n",
        "from scipy import stats\n",
        "import pandas as pd\n",
        "\n",
        "# 키 데이터 생성 (예시: 20명의 학생 키)\n",
        "height_data = {\n",
        "    'height': [168, 172, 181, 173, 176, 169, 170, 174, 178, 165,\n",
        "          177, 171, 180, 169, 175, 182, 174, 168, 176, 177]\n",
        "}\n",
        "\n",
        "# 데이터프레임으로 변환\n",
        "height_df = pd.DataFrame(height_data)"
      ]
    },
    {
      "cell_type": "code",
      "source": [
        "# 데이터프레임에서 'height' 열을 확인\n",
        "height_df['height']"
      ],
      "metadata": {
        "id": "8BnkjGVt5DLT"
      },
      "execution_count": null,
      "outputs": []
    },
    {
      "cell_type": "code",
      "source": [
        "# 'height' 열을 리스트로 변환\n",
        "height_list = list(height_df['height'])\n",
        "height_list"
      ],
      "metadata": {
        "id": "yvIkoTqp5EDv"
      },
      "execution_count": null,
      "outputs": []
    },
    {
      "cell_type": "code",
      "source": [
        "# 단일 표본 t-검정을 수행\n",
        "result = stats.ttest_1samp(height_list, 175)\n",
        "result"
      ],
      "metadata": {
        "id": "vCcRV_J45GjM"
      },
      "execution_count": null,
      "outputs": []
    },
    {
      "cell_type": "code",
      "source": [
        "# 결과를 출력\n",
        "print('t검정 통계량 = {}, pvalue = {}'.format(result.statistic, result.pvalue))"
      ],
      "metadata": {
        "id": "3OeODxCR5IzL"
      },
      "execution_count": null,
      "outputs": []
    },
    {
      "cell_type": "code",
      "source": [
        "height_df['height2'] = height_df['height'] + 5\n",
        "\n",
        "result2 = stats.ttest_1samp(list(height_df['height2']), 175)\n",
        "print('t검정 통계량 = {}, pvalue = {}'.format(result2.statistic, result2.pvalue))"
      ],
      "metadata": {
        "id": "3tYPWLf85S6M"
      },
      "execution_count": null,
      "outputs": []
    },
    {
      "cell_type": "code",
      "source": [
        "import seaborn as sns\n",
        "\n",
        "sns.histplot(height_df['height'], kde = True, bins = 15)\n",
        "sns.histplot(height_df['height2'], kde = True, bins = 15)"
      ],
      "metadata": {
        "id": "YOuPkea56H5_"
      },
      "execution_count": null,
      "outputs": []
    },
    {
      "cell_type": "code",
      "source": [],
      "metadata": {
        "id": "dw-ZfvJ-6zkb"
      },
      "execution_count": null,
      "outputs": []
    }
  ]
}