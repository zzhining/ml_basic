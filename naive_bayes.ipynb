{
  "nbformat": 4,
  "nbformat_minor": 0,
  "metadata": {
    "colab": {
      "private_outputs": true,
      "provenance": [],
      "authorship_tag": "ABX9TyP4QFcoVOiW4jUNBgFcxFLK",
      "include_colab_link": true
    },
    "kernelspec": {
      "name": "python3",
      "display_name": "Python 3"
    },
    "language_info": {
      "name": "python"
    }
  },
  "cells": [
    {
      "cell_type": "markdown",
      "metadata": {
        "id": "view-in-github",
        "colab_type": "text"
      },
      "source": [
        "<a href=\"https://colab.research.google.com/github/zzhining/ml_basic/blob/main/naive_bayes.ipynb\" target=\"_parent\"><img src=\"https://colab.research.google.com/assets/colab-badge.svg\" alt=\"Open In Colab\"/></a>"
      ]
    },
    {
      "cell_type": "markdown",
      "source": [
        "# 데이터 불러오기"
      ],
      "metadata": {
        "id": "9eSiqyR10lvP"
      }
    },
    {
      "cell_type": "markdown",
      "source": [
        "`fetch_20newsgroups`(20개 뉴스그룹 데이터 세트)는 20개 주제에 대한 약 18,000개의 뉴스그룹 게시물로 구성되어 있으며, 두 개의 하위 집합으로 나뉩니다. 하나는 훈련(또는 개발)용이고 다른 하나는 테스트(또는 성능 평가)용입니다. 훈련 및 테스트 세트 간의 분할은 특정 날짜 전후에 게시된 메시지를 기반으로 합니다."
      ],
      "metadata": {
        "id": "56x698Eo0esH"
      }
    },
    {
      "cell_type": "code",
      "source": [
        "from sklearn.datasets import fetch_20newsgroups\n",
        "newsdata = fetch_20newsgroups(subset = 'train')\n",
        "newsdata_test = fetch_20newsgroups(subset = 'test', shuffle = True)\n",
        "\n",
        "# newsdata.data[:2]\n",
        "newsdata.data[0]"
      ],
      "metadata": {
        "id": "XomtlVNJzMgl"
      },
      "execution_count": null,
      "outputs": []
    },
    {
      "cell_type": "code",
      "source": [
        "print(newsdata.target_names)"
      ],
      "metadata": {
        "id": "T-uO8qnjzelN"
      },
      "execution_count": null,
      "outputs": []
    },
    {
      "cell_type": "code",
      "source": [
        "# 실제 문서 수 확인\n",
        "print(f\"Number of documents in training data: {len(newsdata.data)}\")"
      ],
      "metadata": {
        "id": "LZs-aYWJ11lA"
      },
      "execution_count": null,
      "outputs": []
    },
    {
      "cell_type": "markdown",
      "source": [
        "# 문자열 Vectorize"
      ],
      "metadata": {
        "id": "6Vm_rJPjzmXQ"
      }
    },
    {
      "cell_type": "code",
      "source": [
        "from sklearn.feature_extraction.text import TfidfVectorizer\n",
        "from sklearn.model_selection import train_test_split\n",
        "from sklearn.naive_bayes import MultinomialNB\n",
        "\n",
        "vecotrizer = TfidfVectorizer()"
      ],
      "metadata": {
        "id": "O42J-aMCzizi"
      },
      "execution_count": null,
      "outputs": []
    },
    {
      "cell_type": "code",
      "source": [
        "X_train = vecotrizer.fit_transform(newsdata.data)\n",
        "X_test = vecotrizer.transform(newsdata_test.data)\n",
        "print(X_train.shape, X_test.shape)"
      ],
      "metadata": {
        "id": "25u0goo1z1SX"
      },
      "execution_count": null,
      "outputs": []
    },
    {
      "cell_type": "markdown",
      "source": [
        "`(n_samples, n_features)`\n",
        "\n",
        "- `n_samples (샘플 수)`\n",
        "    - 학습 데이터셋에 포함된 문서의 총 수\n",
        "    - fetch_20newsgroups(subset='train')으로 로드한 학습 데이터셋의 문서 수\n",
        "- `n_features (특징 수)`\n",
        "    - TF-IDF 벡터화 과정에서 생성된 고유한 단어 수\n",
        "    - TfidfVectorizer를 통해 텍스트 데이터를 처리하여 각 문서를 고차원 벡터로 변환된 결과"
      ],
      "metadata": {
        "id": "lNkzBnYd3DwG"
      }
    },
    {
      "cell_type": "code",
      "source": [
        "y_train = newsdata.target\n",
        "y_test = newsdata_test.target"
      ],
      "metadata": {
        "id": "mn3W6EEq2k0C"
      },
      "execution_count": null,
      "outputs": []
    },
    {
      "cell_type": "markdown",
      "source": [
        "# 학습"
      ],
      "metadata": {
        "id": "0lg2tSlL2P5x"
      }
    },
    {
      "cell_type": "code",
      "source": [
        "# MultinomialNB 분류기를 생성하고 학습\n",
        "model = MultinomialNB()\n",
        "model.fit(X_train, y_train)"
      ],
      "metadata": {
        "id": "RK5Ed7AC0FBH"
      },
      "execution_count": null,
      "outputs": []
    },
    {
      "cell_type": "markdown",
      "source": [
        "# 평가"
      ],
      "metadata": {
        "id": "aJcbFmmK2slx"
      }
    },
    {
      "cell_type": "code",
      "source": [
        "from sklearn.metrics import accuracy_score\n",
        "y_pred = model.predict(X_test)\n",
        "accuracy_score(y_test, y_pred)"
      ],
      "metadata": {
        "id": "nZUmdjdH2rjb"
      },
      "execution_count": null,
      "outputs": []
    },
    {
      "cell_type": "code",
      "source": [],
      "metadata": {
        "id": "NmosbtCp4Fi6"
      },
      "execution_count": null,
      "outputs": []
    }
  ]
}