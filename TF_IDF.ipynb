{
  "cells": [
    {
      "cell_type": "markdown",
      "metadata": {
        "id": "view-in-github",
        "colab_type": "text"
      },
      "source": [
        "<a href=\"https://colab.research.google.com/github/zzhining/ml_basic/blob/main/TF_IDF.ipynb\" target=\"_parent\"><img src=\"https://colab.research.google.com/assets/colab-badge.svg\" alt=\"Open In Colab\"/></a>"
      ]
    },
    {
      "cell_type": "code",
      "source": [
        "!pip install konlpy"
      ],
      "metadata": {
        "colab": {
          "base_uri": "https://localhost:8080/"
        },
        "id": "v4wGsD-VrdK9",
        "outputId": "fcb36fc6-2553-4135-d141-0dc1a2e6ab81"
      },
      "execution_count": 2,
      "outputs": [
        {
          "output_type": "stream",
          "name": "stdout",
          "text": [
            "Looking in indexes: https://pypi.org/simple, https://us-python.pkg.dev/colab-wheels/public/simple/\n",
            "Collecting konlpy\n",
            "  Downloading konlpy-0.6.0-py2.py3-none-any.whl (19.4 MB)\n",
            "\u001b[K     |████████████████████████████████| 19.4 MB 12.3 MB/s \n",
            "\u001b[?25hCollecting JPype1>=0.7.0\n",
            "  Downloading JPype1-1.4.1-cp37-cp37m-manylinux_2_12_x86_64.manylinux2010_x86_64.whl (465 kB)\n",
            "\u001b[K     |████████████████████████████████| 465 kB 58.9 MB/s \n",
            "\u001b[?25hRequirement already satisfied: numpy>=1.6 in /usr/local/lib/python3.7/dist-packages (from konlpy) (1.21.6)\n",
            "Requirement already satisfied: lxml>=4.1.0 in /usr/local/lib/python3.7/dist-packages (from konlpy) (4.9.1)\n",
            "Requirement already satisfied: typing-extensions in /usr/local/lib/python3.7/dist-packages (from JPype1>=0.7.0->konlpy) (4.1.1)\n",
            "Requirement already satisfied: packaging in /usr/local/lib/python3.7/dist-packages (from JPype1>=0.7.0->konlpy) (21.3)\n",
            "Requirement already satisfied: pyparsing!=3.0.5,>=2.0.2 in /usr/local/lib/python3.7/dist-packages (from packaging->JPype1>=0.7.0->konlpy) (3.0.9)\n",
            "Installing collected packages: JPype1, konlpy\n",
            "Successfully installed JPype1-1.4.1 konlpy-0.6.0\n"
          ]
        }
      ]
    },
    {
      "cell_type": "markdown",
      "metadata": {
        "id": "i38WGcSC9fwF"
      },
      "source": [
        "# One-hot Encoding"
      ]
    },
    {
      "cell_type": "code",
      "execution_count": 4,
      "metadata": {
        "id": "rU22awb19fwH",
        "outputId": "d2d672d9-7643-4ab9-b00d-eb85c9450032",
        "colab": {
          "base_uri": "https://localhost:8080/"
        }
      },
      "outputs": [
        {
          "output_type": "stream",
          "name": "stdout",
          "text": [
            "['한국', '의', '수도', '는', '서울', '이다']\n"
          ]
        }
      ],
      "source": [
        "from konlpy.tag import Okt\n",
        "tokenizer = Okt()  \n",
        "tokens = tokenizer.morphs(\"한국의 수도는 서울이다\")\n",
        "\n",
        "print(tokens)"
      ]
    },
    {
      "cell_type": "code",
      "execution_count": 5,
      "metadata": {
        "id": "zglXNQD69fwI",
        "outputId": "5d1ddb9d-905e-4f4e-edc7-f2452b96fb91",
        "colab": {
          "base_uri": "https://localhost:8080/"
        }
      },
      "outputs": [
        {
          "output_type": "stream",
          "name": "stdout",
          "text": [
            "{'한국': 0, '의': 1, '수도': 2, '는': 3, '서울': 4, '이다': 5}\n"
          ]
        }
      ],
      "source": [
        "# 단어-인덱스 딕셔너리\n",
        "word_to_index = {}\n",
        "\n",
        "# 토큰을 인덱스로 변환\n",
        "for token in tokens:\n",
        "    if token not in word_to_index.keys():\n",
        "        word_to_index[token] = len(word_to_index)\n",
        "        \n",
        "print(word_to_index)\n"
      ]
    },
    {
      "cell_type": "code",
      "execution_count": 6,
      "metadata": {
        "id": "b8cfN52-9fwJ"
      },
      "outputs": [],
      "source": [
        "# 원핫인코딩으로 변환\n",
        "def convert_ohe(word, word_to_index):\n",
        "    \n",
        "    # 벡터를 단어의 개수만큼 0으로 초기화\n",
        "    vector = [0]*(len(word_to_index))\n",
        "    \n",
        "    # 단어의 인덱스 위치에 1 설정\n",
        "    vector[word_to_index[word]] = 1\n",
        "    \n",
        "    return vector"
      ]
    },
    {
      "cell_type": "code",
      "execution_count": 7,
      "metadata": {
        "id": "wuA9Nmvf9fwJ",
        "outputId": "f0f71a6b-a496-4af1-ec5a-f3212d8102e5",
        "colab": {
          "base_uri": "https://localhost:8080/"
        }
      },
      "outputs": [
        {
          "output_type": "execute_result",
          "data": {
            "text/plain": [
              "[0, 0, 0, 0, 1, 0]"
            ]
          },
          "metadata": {},
          "execution_count": 7
        }
      ],
      "source": [
        "convert_ohe(\"서울\", word_to_index)\n"
      ]
    },
    {
      "cell_type": "markdown",
      "metadata": {
        "id": "suDQ_6iO9fwJ"
      },
      "source": [
        "<br>\n",
        "<br>\n",
        "\n",
        "# Bag-of-Words"
      ]
    },
    {
      "cell_type": "code",
      "execution_count": 8,
      "metadata": {
        "id": "CDELvci49fwK",
        "outputId": "ffa6ef5e-4312-41c8-887c-cf0f53b9661a",
        "colab": {
          "base_uri": "https://localhost:8080/"
        }
      },
      "outputs": [
        {
          "output_type": "stream",
          "name": "stdout",
          "text": [
            "['인공', '지능', '은', '사람', '의', '지능', '을', '기계', '에', '구현', '하였다']\n"
          ]
        }
      ],
      "source": [
        "tokenizer = Okt()  \n",
        "text = \"인공지능은 사람의 지능을 기계에 구현하였다\"\n",
        "tokens = tokenizer.morphs(text)\n",
        "\n",
        "print(tokens)\n"
      ]
    },
    {
      "cell_type": "code",
      "execution_count": 9,
      "metadata": {
        "id": "rlETyDP49fwL",
        "outputId": "0a125da0-725c-40b2-81d8-508ba534bce9",
        "colab": {
          "base_uri": "https://localhost:8080/"
        }
      },
      "outputs": [
        {
          "output_type": "stream",
          "name": "stdout",
          "text": [
            "{'인공': 0, '지능': 1, '은': 2, '사람': 3, '의': 4, '을': 5, '기계': 6, '에': 7, '구현': 8, '하였다': 9}\n"
          ]
        }
      ],
      "source": [
        "# 단어-인덱스 딕셔너리\n",
        "word_to_index = {}\n",
        "\n",
        "# 토큰을 인덱스로 변환\n",
        "for token in tokens:\n",
        "    if token not in word_to_index.keys():\n",
        "        word_to_index[token] = len(word_to_index)\n",
        "        \n",
        "print(word_to_index)\n"
      ]
    },
    {
      "cell_type": "code",
      "execution_count": 10,
      "metadata": {
        "id": "u8BAu_YS9fwL"
      },
      "outputs": [],
      "source": [
        "# BoW로 변환\n",
        "def convert_bow(sentence, word_to_index):\n",
        "    \n",
        "    # 벡터를 단어의 개수만큼 0으로 초기화\n",
        "    vector = [0]*(len(word_to_index))\n",
        "\n",
        "    # 문장을 토큰으로 분리\n",
        "    tokenizer = Okt()\n",
        "    tokens = tokenizer.morphs(sentence)\n",
        "    \n",
        "    # 단어의 인덱스 위치에 1 설정\n",
        "    for token in tokens:\n",
        "        if token in word_to_index.keys():\n",
        "            vector[word_to_index[token]] += 1\n",
        "    \n",
        "    return vector"
      ]
    },
    {
      "cell_type": "code",
      "execution_count": 11,
      "metadata": {
        "id": "6tDJmbzn9fwM",
        "outputId": "29c4bc50-10db-49d0-835c-b87e83c32674",
        "colab": {
          "base_uri": "https://localhost:8080/"
        }
      },
      "outputs": [
        {
          "output_type": "execute_result",
          "data": {
            "text/plain": [
              "[1, 2, 1, 1, 1, 1, 1, 1, 1, 1]"
            ]
          },
          "metadata": {},
          "execution_count": 11
        }
      ],
      "source": [
        "convert_bow(\"인공지능은 사람의 지능을 기계에 구현하였다\", word_to_index)\n"
      ]
    },
    {
      "cell_type": "code",
      "execution_count": 12,
      "metadata": {
        "id": "ASWoy5T69fwM",
        "outputId": "59fda662-005e-4cb9-8230-fe011ac19957",
        "colab": {
          "base_uri": "https://localhost:8080/"
        }
      },
      "outputs": [
        {
          "output_type": "execute_result",
          "data": {
            "text/plain": [
              "[1, 2, 1, 0, 1, 1, 1, 0, 0, 0]"
            ]
          },
          "metadata": {},
          "execution_count": 12
        }
      ],
      "source": [
        "convert_bow(\"인공지능은 기계의 지능을 말한다\", word_to_index)\n"
      ]
    },
    {
      "cell_type": "markdown",
      "metadata": {
        "id": "WBxuo8gh9fwN"
      },
      "source": [
        "<br>\n",
        "<br>\n",
        "\n",
        "# CountVectorizer"
      ]
    },
    {
      "cell_type": "code",
      "execution_count": 13,
      "metadata": {
        "id": "JxUv17IJ9fwN",
        "outputId": "2f3f047c-5df4-459a-d2ba-691e554501c1",
        "colab": {
          "base_uri": "https://localhost:8080/"
        }
      },
      "outputs": [
        {
          "output_type": "stream",
          "name": "stdout",
          "text": [
            "인공 지능 은 사람 의 지능 을 기계 에 구현 하였다\n"
          ]
        }
      ],
      "source": [
        "# 토큰을 문자열로 변환\n",
        "sentence = \" \".join(tokens)\n",
        "\n",
        "print(sentence)\n"
      ]
    },
    {
      "cell_type": "code",
      "execution_count": 14,
      "metadata": {
        "id": "B3o6V6ND9fwN",
        "outputId": "e16f9261-c889-463b-97a8-8853354d4b75",
        "colab": {
          "base_uri": "https://localhost:8080/"
        }
      },
      "outputs": [
        {
          "output_type": "stream",
          "name": "stdout",
          "text": [
            "['인공 지능 은 사람 의 지능 을 기계 에 구현 하였다']\n"
          ]
        }
      ],
      "source": [
        "# CountVectorizer의 입력에 맞게 배열로 변경\n",
        "sentences = []\n",
        "sentences.append(sentence)\n",
        "\n",
        "print(sentences)\n"
      ]
    },
    {
      "cell_type": "code",
      "execution_count": 15,
      "metadata": {
        "id": "iYxEHWTP9fwO",
        "outputId": "dbcbb6e2-191c-4296-e9f9-230d4141ed39",
        "colab": {
          "base_uri": "https://localhost:8080/"
        }
      },
      "outputs": [
        {
          "output_type": "stream",
          "name": "stdout",
          "text": [
            "{'인공': 7, '지능': 8, '은': 4, '사람': 2, '의': 6, '을': 5, '기계': 1, '에': 3, '구현': 0, '하였다': 9}\n"
          ]
        }
      ],
      "source": [
        "from sklearn.feature_extraction.text import CountVectorizer\n",
        "\n",
        "# 1글자도 인식이 되도록 토큰 패턴 변경\n",
        "cv = CountVectorizer(token_pattern = r\"(?u)\\b\\w+\\b\")\n",
        "cv.fit(sentences)\n",
        "\n",
        "print(cv.vocabulary_)\n"
      ]
    },
    {
      "cell_type": "code",
      "execution_count": 16,
      "metadata": {
        "id": "FYqV04yn9fwO"
      },
      "outputs": [],
      "source": [
        "# CountVectorizer로 변환\n",
        "def convert_cv(sentence, cv):\n",
        "    \n",
        "    # 문장을 토큰으로 분리\n",
        "    tokenizer = Okt()\n",
        "    tokens = tokenizer.morphs(sentence)\n",
        "    \n",
        "    # 토큰을 문자열로 변환\n",
        "    sentence = \" \".join(tokens)\n",
        "    \n",
        "    # CountVectorizer의 입력에 맞게 배열로 변경\n",
        "    sentences = []\n",
        "    sentences.append(sentence)\n",
        "    \n",
        "    # 벡터 변환\n",
        "    vector = cv.transform(sentences).toarray()    \n",
        "    \n",
        "    return vector"
      ]
    },
    {
      "cell_type": "code",
      "execution_count": 17,
      "metadata": {
        "id": "VFtg1E_d9fwO",
        "outputId": "b8bb5756-5fc3-46b7-bc70-f3cc43ba693e",
        "colab": {
          "base_uri": "https://localhost:8080/"
        }
      },
      "outputs": [
        {
          "output_type": "execute_result",
          "data": {
            "text/plain": [
              "array([[1, 1, 1, 1, 1, 1, 1, 1, 2, 1]])"
            ]
          },
          "metadata": {},
          "execution_count": 17
        }
      ],
      "source": [
        "convert_cv(\"인공지능은 사람의 지능을 기계에 구현하였다\", cv)\n"
      ]
    },
    {
      "cell_type": "code",
      "execution_count": 18,
      "metadata": {
        "id": "W6Mj6J3N9fwP",
        "outputId": "c2ef3b9d-cd54-4057-e1fd-3876e8f8fb35",
        "colab": {
          "base_uri": "https://localhost:8080/"
        }
      },
      "outputs": [
        {
          "output_type": "execute_result",
          "data": {
            "text/plain": [
              "array([[0, 1, 0, 0, 1, 1, 1, 1, 2, 0]])"
            ]
          },
          "metadata": {},
          "execution_count": 18
        }
      ],
      "source": [
        "convert_cv(\"인공지능은 기계의 지능을 말한다\", cv)\n"
      ]
    },
    {
      "cell_type": "markdown",
      "metadata": {
        "id": "v4qqOY-o9fwP"
      },
      "source": [
        "<br>\n",
        "<br>\n",
        "\n",
        "# TF-IDF"
      ]
    },
    {
      "cell_type": "code",
      "execution_count": 19,
      "metadata": {
        "id": "mY_rD8Vo9fwP",
        "outputId": "be0e3ffa-507c-49b5-f9ae-b9ef55e8e3ef",
        "colab": {
          "base_uri": "https://localhost:8080/"
        }
      },
      "outputs": [
        {
          "output_type": "stream",
          "name": "stdout",
          "text": [
            "{'i': 3, 'like': 4, 'animals': 0, 'food': 1, 'hate': 2, 'math': 5, 'want': 8, 'to': 7, 'study': 6}\n"
          ]
        }
      ],
      "source": [
        "from sklearn.feature_extraction.text import TfidfVectorizer\n",
        "\n",
        "documents = [\n",
        "    \"I like animals\",\n",
        "    \"I like food\",\n",
        "    \"I hate math\",\n",
        "    \"I want to study math\",\n",
        "]\n",
        "\n",
        "# TF-IDF로 벡터화\n",
        "# 1글자도 인식이 되도록 토큰 패턴 변경\n",
        "tf_idf = TfidfVectorizer(token_pattern = r\"(?u)\\b\\w+\\b\")\n",
        "tf_idf.fit(documents)\n",
        "\n",
        "print(tf_idf.vocabulary_)"
      ]
    },
    {
      "cell_type": "code",
      "execution_count": 20,
      "metadata": {
        "id": "55-DDNda9fwQ",
        "outputId": "0781fdad-7c30-4afb-fb79-4855bcebb875",
        "colab": {
          "base_uri": "https://localhost:8080/"
        }
      },
      "outputs": [
        {
          "output_type": "execute_result",
          "data": {
            "text/plain": [
              "array([[0.72664149, 0.        , 0.        , 0.37919167, 0.5728925 ,\n",
              "        0.        , 0.        , 0.        , 0.        ]])"
            ]
          },
          "metadata": {},
          "execution_count": 20
        }
      ],
      "source": [
        "# 다른 문서에도 많이 나온 단어는 낮은 수치\n",
        "tf_idf.transform([\"I like animals\"]).toarray()\n"
      ]
    },
    {
      "cell_type": "code",
      "execution_count": 21,
      "metadata": {
        "id": "-cQ3BljR9fwQ",
        "outputId": "1fdd9e45-4088-4ed2-d55a-b32e57282e5f",
        "colab": {
          "base_uri": "https://localhost:8080/"
        }
      },
      "outputs": [
        {
          "output_type": "execute_result",
          "data": {
            "text/plain": [
              "array([[0.90406978, 0.        , 0.        , 0.23589056, 0.3563895 ,\n",
              "        0.        , 0.        , 0.        , 0.        ]])"
            ]
          },
          "metadata": {},
          "execution_count": 21
        }
      ],
      "source": [
        "# 같은 문서에 많이 나온 단어는 높은 수치\n",
        "tf_idf.transform([\"I like animals and love animals\"]).toarray()\n"
      ]
    },
    {
      "cell_type": "markdown",
      "metadata": {
        "id": "qKX_oC4b9fwQ"
      },
      "source": [
        "<br>\n",
        "<br>\n",
        "\n",
        "# TF-IDF로 유사도 비교\n",
        "\n",
        "- https://www.kaggle.com/fajim123/movies-metadata\n",
        "- https://www.kaggle.com/rounakbanik/movie-recommender-systems/comments\n",
        "- [Easiest way to download kaggle data in Google Colab](https://www.kaggle.com/general/74235)"
      ]
    },
    {
      "cell_type": "code",
      "execution_count": 36,
      "metadata": {
        "id": "si_VJ6Ma9fwR",
        "outputId": "b9ffd00b-4813-4c69-b0b3-139c08672fa8",
        "colab": {
          "base_uri": "https://localhost:8080/"
        }
      },
      "outputs": [
        {
          "output_type": "stream",
          "name": "stdout",
          "text": [
            "<class 'pandas.core.frame.DataFrame'>\n",
            "RangeIndex: 45466 entries, 0 to 45465\n",
            "Data columns (total 24 columns):\n",
            " #   Column                 Non-Null Count  Dtype  \n",
            "---  ------                 --------------  -----  \n",
            " 0   adult                  45466 non-null  object \n",
            " 1   belongs_to_collection  4494 non-null   object \n",
            " 2   budget                 45466 non-null  object \n",
            " 3   genres                 45466 non-null  object \n",
            " 4   homepage               7782 non-null   object \n",
            " 5   id                     45466 non-null  object \n",
            " 6   imdb_id                45449 non-null  object \n",
            " 7   original_language      45455 non-null  object \n",
            " 8   original_title         45466 non-null  object \n",
            " 9   overview               44512 non-null  object \n",
            " 10  popularity             45461 non-null  object \n",
            " 11  poster_path            45080 non-null  object \n",
            " 12  production_companies   45463 non-null  object \n",
            " 13  production_countries   45463 non-null  object \n",
            " 14  release_date           45379 non-null  object \n",
            " 15  revenue                45460 non-null  float64\n",
            " 16  runtime                45203 non-null  float64\n",
            " 17  spoken_languages       45460 non-null  object \n",
            " 18  status                 45379 non-null  object \n",
            " 19  tagline                20412 non-null  object \n",
            " 20  title                  45460 non-null  object \n",
            " 21  video                  45460 non-null  object \n",
            " 22  vote_average           45460 non-null  float64\n",
            " 23  vote_count             45460 non-null  float64\n",
            "dtypes: float64(4), object(20)\n",
            "memory usage: 8.3+ MB\n"
          ]
        }
      ],
      "source": [
        "import pandas as pd\n",
        "\n",
        "# 영화 데이터셋 로드\n",
        "data = pd.read_csv(\"movies_metadata.csv\", low_memory=False)\n",
        "\n",
        "len(data)\n",
        "data.info()"
      ]
    },
    {
      "cell_type": "code",
      "execution_count": 37,
      "metadata": {
        "id": "Ee5UfEyy9fwR",
        "outputId": "1ea23823-932c-4702-d374-803116c982a2",
        "colab": {
          "base_uri": "https://localhost:8080/",
          "height": 751
        }
      },
      "outputs": [
        {
          "output_type": "execute_result",
          "data": {
            "text/plain": [
              "   adult                              belongs_to_collection    budget  \\\n",
              "0  False  {'id': 10194, 'name': 'Toy Story Collection', ...  30000000   \n",
              "1  False                                                NaN  65000000   \n",
              "2  False  {'id': 119050, 'name': 'Grumpy Old Men Collect...         0   \n",
              "3  False                                                NaN  16000000   \n",
              "4  False  {'id': 96871, 'name': 'Father of the Bride Col...         0   \n",
              "\n",
              "                                              genres  \\\n",
              "0  [{'id': 16, 'name': 'Animation'}, {'id': 35, '...   \n",
              "1  [{'id': 12, 'name': 'Adventure'}, {'id': 14, '...   \n",
              "2  [{'id': 10749, 'name': 'Romance'}, {'id': 35, ...   \n",
              "3  [{'id': 35, 'name': 'Comedy'}, {'id': 18, 'nam...   \n",
              "4                     [{'id': 35, 'name': 'Comedy'}]   \n",
              "\n",
              "                               homepage     id    imdb_id original_language  \\\n",
              "0  http://toystory.disney.com/toy-story    862  tt0114709                en   \n",
              "1                                   NaN   8844  tt0113497                en   \n",
              "2                                   NaN  15602  tt0113228                en   \n",
              "3                                   NaN  31357  tt0114885                en   \n",
              "4                                   NaN  11862  tt0113041                en   \n",
              "\n",
              "                original_title  \\\n",
              "0                    Toy Story   \n",
              "1                      Jumanji   \n",
              "2             Grumpier Old Men   \n",
              "3            Waiting to Exhale   \n",
              "4  Father of the Bride Part II   \n",
              "\n",
              "                                            overview  ... release_date  \\\n",
              "0  Led by Woody, Andy's toys live happily in his ...  ...   1995-10-30   \n",
              "1  When siblings Judy and Peter discover an encha...  ...   1995-12-15   \n",
              "2  A family wedding reignites the ancient feud be...  ...   1995-12-22   \n",
              "3  Cheated on, mistreated and stepped on, the wom...  ...   1995-12-22   \n",
              "4  Just when George Banks has recovered from his ...  ...   1995-02-10   \n",
              "\n",
              "       revenue runtime                                   spoken_languages  \\\n",
              "0  373554033.0    81.0           [{'iso_639_1': 'en', 'name': 'English'}]   \n",
              "1  262797249.0   104.0  [{'iso_639_1': 'en', 'name': 'English'}, {'iso...   \n",
              "2          0.0   101.0           [{'iso_639_1': 'en', 'name': 'English'}]   \n",
              "3   81452156.0   127.0           [{'iso_639_1': 'en', 'name': 'English'}]   \n",
              "4   76578911.0   106.0           [{'iso_639_1': 'en', 'name': 'English'}]   \n",
              "\n",
              "     status                                            tagline  \\\n",
              "0  Released                                                NaN   \n",
              "1  Released          Roll the dice and unleash the excitement!   \n",
              "2  Released  Still Yelling. Still Fighting. Still Ready for...   \n",
              "3  Released  Friends are the people who let you be yourself...   \n",
              "4  Released  Just When His World Is Back To Normal... He's ...   \n",
              "\n",
              "                         title  video vote_average vote_count  \n",
              "0                    Toy Story  False          7.7     5415.0  \n",
              "1                      Jumanji  False          6.9     2413.0  \n",
              "2             Grumpier Old Men  False          6.5       92.0  \n",
              "3            Waiting to Exhale  False          6.1       34.0  \n",
              "4  Father of the Bride Part II  False          5.7      173.0  \n",
              "\n",
              "[5 rows x 24 columns]"
            ],
            "text/html": [
              "\n",
              "  <div id=\"df-8926534c-9b63-4af3-b153-855863a3fb08\">\n",
              "    <div class=\"colab-df-container\">\n",
              "      <div>\n",
              "<style scoped>\n",
              "    .dataframe tbody tr th:only-of-type {\n",
              "        vertical-align: middle;\n",
              "    }\n",
              "\n",
              "    .dataframe tbody tr th {\n",
              "        vertical-align: top;\n",
              "    }\n",
              "\n",
              "    .dataframe thead th {\n",
              "        text-align: right;\n",
              "    }\n",
              "</style>\n",
              "<table border=\"1\" class=\"dataframe\">\n",
              "  <thead>\n",
              "    <tr style=\"text-align: right;\">\n",
              "      <th></th>\n",
              "      <th>adult</th>\n",
              "      <th>belongs_to_collection</th>\n",
              "      <th>budget</th>\n",
              "      <th>genres</th>\n",
              "      <th>homepage</th>\n",
              "      <th>id</th>\n",
              "      <th>imdb_id</th>\n",
              "      <th>original_language</th>\n",
              "      <th>original_title</th>\n",
              "      <th>overview</th>\n",
              "      <th>...</th>\n",
              "      <th>release_date</th>\n",
              "      <th>revenue</th>\n",
              "      <th>runtime</th>\n",
              "      <th>spoken_languages</th>\n",
              "      <th>status</th>\n",
              "      <th>tagline</th>\n",
              "      <th>title</th>\n",
              "      <th>video</th>\n",
              "      <th>vote_average</th>\n",
              "      <th>vote_count</th>\n",
              "    </tr>\n",
              "  </thead>\n",
              "  <tbody>\n",
              "    <tr>\n",
              "      <th>0</th>\n",
              "      <td>False</td>\n",
              "      <td>{'id': 10194, 'name': 'Toy Story Collection', ...</td>\n",
              "      <td>30000000</td>\n",
              "      <td>[{'id': 16, 'name': 'Animation'}, {'id': 35, '...</td>\n",
              "      <td>http://toystory.disney.com/toy-story</td>\n",
              "      <td>862</td>\n",
              "      <td>tt0114709</td>\n",
              "      <td>en</td>\n",
              "      <td>Toy Story</td>\n",
              "      <td>Led by Woody, Andy's toys live happily in his ...</td>\n",
              "      <td>...</td>\n",
              "      <td>1995-10-30</td>\n",
              "      <td>373554033.0</td>\n",
              "      <td>81.0</td>\n",
              "      <td>[{'iso_639_1': 'en', 'name': 'English'}]</td>\n",
              "      <td>Released</td>\n",
              "      <td>NaN</td>\n",
              "      <td>Toy Story</td>\n",
              "      <td>False</td>\n",
              "      <td>7.7</td>\n",
              "      <td>5415.0</td>\n",
              "    </tr>\n",
              "    <tr>\n",
              "      <th>1</th>\n",
              "      <td>False</td>\n",
              "      <td>NaN</td>\n",
              "      <td>65000000</td>\n",
              "      <td>[{'id': 12, 'name': 'Adventure'}, {'id': 14, '...</td>\n",
              "      <td>NaN</td>\n",
              "      <td>8844</td>\n",
              "      <td>tt0113497</td>\n",
              "      <td>en</td>\n",
              "      <td>Jumanji</td>\n",
              "      <td>When siblings Judy and Peter discover an encha...</td>\n",
              "      <td>...</td>\n",
              "      <td>1995-12-15</td>\n",
              "      <td>262797249.0</td>\n",
              "      <td>104.0</td>\n",
              "      <td>[{'iso_639_1': 'en', 'name': 'English'}, {'iso...</td>\n",
              "      <td>Released</td>\n",
              "      <td>Roll the dice and unleash the excitement!</td>\n",
              "      <td>Jumanji</td>\n",
              "      <td>False</td>\n",
              "      <td>6.9</td>\n",
              "      <td>2413.0</td>\n",
              "    </tr>\n",
              "    <tr>\n",
              "      <th>2</th>\n",
              "      <td>False</td>\n",
              "      <td>{'id': 119050, 'name': 'Grumpy Old Men Collect...</td>\n",
              "      <td>0</td>\n",
              "      <td>[{'id': 10749, 'name': 'Romance'}, {'id': 35, ...</td>\n",
              "      <td>NaN</td>\n",
              "      <td>15602</td>\n",
              "      <td>tt0113228</td>\n",
              "      <td>en</td>\n",
              "      <td>Grumpier Old Men</td>\n",
              "      <td>A family wedding reignites the ancient feud be...</td>\n",
              "      <td>...</td>\n",
              "      <td>1995-12-22</td>\n",
              "      <td>0.0</td>\n",
              "      <td>101.0</td>\n",
              "      <td>[{'iso_639_1': 'en', 'name': 'English'}]</td>\n",
              "      <td>Released</td>\n",
              "      <td>Still Yelling. Still Fighting. Still Ready for...</td>\n",
              "      <td>Grumpier Old Men</td>\n",
              "      <td>False</td>\n",
              "      <td>6.5</td>\n",
              "      <td>92.0</td>\n",
              "    </tr>\n",
              "    <tr>\n",
              "      <th>3</th>\n",
              "      <td>False</td>\n",
              "      <td>NaN</td>\n",
              "      <td>16000000</td>\n",
              "      <td>[{'id': 35, 'name': 'Comedy'}, {'id': 18, 'nam...</td>\n",
              "      <td>NaN</td>\n",
              "      <td>31357</td>\n",
              "      <td>tt0114885</td>\n",
              "      <td>en</td>\n",
              "      <td>Waiting to Exhale</td>\n",
              "      <td>Cheated on, mistreated and stepped on, the wom...</td>\n",
              "      <td>...</td>\n",
              "      <td>1995-12-22</td>\n",
              "      <td>81452156.0</td>\n",
              "      <td>127.0</td>\n",
              "      <td>[{'iso_639_1': 'en', 'name': 'English'}]</td>\n",
              "      <td>Released</td>\n",
              "      <td>Friends are the people who let you be yourself...</td>\n",
              "      <td>Waiting to Exhale</td>\n",
              "      <td>False</td>\n",
              "      <td>6.1</td>\n",
              "      <td>34.0</td>\n",
              "    </tr>\n",
              "    <tr>\n",
              "      <th>4</th>\n",
              "      <td>False</td>\n",
              "      <td>{'id': 96871, 'name': 'Father of the Bride Col...</td>\n",
              "      <td>0</td>\n",
              "      <td>[{'id': 35, 'name': 'Comedy'}]</td>\n",
              "      <td>NaN</td>\n",
              "      <td>11862</td>\n",
              "      <td>tt0113041</td>\n",
              "      <td>en</td>\n",
              "      <td>Father of the Bride Part II</td>\n",
              "      <td>Just when George Banks has recovered from his ...</td>\n",
              "      <td>...</td>\n",
              "      <td>1995-02-10</td>\n",
              "      <td>76578911.0</td>\n",
              "      <td>106.0</td>\n",
              "      <td>[{'iso_639_1': 'en', 'name': 'English'}]</td>\n",
              "      <td>Released</td>\n",
              "      <td>Just When His World Is Back To Normal... He's ...</td>\n",
              "      <td>Father of the Bride Part II</td>\n",
              "      <td>False</td>\n",
              "      <td>5.7</td>\n",
              "      <td>173.0</td>\n",
              "    </tr>\n",
              "  </tbody>\n",
              "</table>\n",
              "<p>5 rows × 24 columns</p>\n",
              "</div>\n",
              "      <button class=\"colab-df-convert\" onclick=\"convertToInteractive('df-8926534c-9b63-4af3-b153-855863a3fb08')\"\n",
              "              title=\"Convert this dataframe to an interactive table.\"\n",
              "              style=\"display:none;\">\n",
              "        \n",
              "  <svg xmlns=\"http://www.w3.org/2000/svg\" height=\"24px\"viewBox=\"0 0 24 24\"\n",
              "       width=\"24px\">\n",
              "    <path d=\"M0 0h24v24H0V0z\" fill=\"none\"/>\n",
              "    <path d=\"M18.56 5.44l.94 2.06.94-2.06 2.06-.94-2.06-.94-.94-2.06-.94 2.06-2.06.94zm-11 1L8.5 8.5l.94-2.06 2.06-.94-2.06-.94L8.5 2.5l-.94 2.06-2.06.94zm10 10l.94 2.06.94-2.06 2.06-.94-2.06-.94-.94-2.06-.94 2.06-2.06.94z\"/><path d=\"M17.41 7.96l-1.37-1.37c-.4-.4-.92-.59-1.43-.59-.52 0-1.04.2-1.43.59L10.3 9.45l-7.72 7.72c-.78.78-.78 2.05 0 2.83L4 21.41c.39.39.9.59 1.41.59.51 0 1.02-.2 1.41-.59l7.78-7.78 2.81-2.81c.8-.78.8-2.07 0-2.86zM5.41 20L4 18.59l7.72-7.72 1.47 1.35L5.41 20z\"/>\n",
              "  </svg>\n",
              "      </button>\n",
              "      \n",
              "  <style>\n",
              "    .colab-df-container {\n",
              "      display:flex;\n",
              "      flex-wrap:wrap;\n",
              "      gap: 12px;\n",
              "    }\n",
              "\n",
              "    .colab-df-convert {\n",
              "      background-color: #E8F0FE;\n",
              "      border: none;\n",
              "      border-radius: 50%;\n",
              "      cursor: pointer;\n",
              "      display: none;\n",
              "      fill: #1967D2;\n",
              "      height: 32px;\n",
              "      padding: 0 0 0 0;\n",
              "      width: 32px;\n",
              "    }\n",
              "\n",
              "    .colab-df-convert:hover {\n",
              "      background-color: #E2EBFA;\n",
              "      box-shadow: 0px 1px 2px rgba(60, 64, 67, 0.3), 0px 1px 3px 1px rgba(60, 64, 67, 0.15);\n",
              "      fill: #174EA6;\n",
              "    }\n",
              "\n",
              "    [theme=dark] .colab-df-convert {\n",
              "      background-color: #3B4455;\n",
              "      fill: #D2E3FC;\n",
              "    }\n",
              "\n",
              "    [theme=dark] .colab-df-convert:hover {\n",
              "      background-color: #434B5C;\n",
              "      box-shadow: 0px 1px 3px 1px rgba(0, 0, 0, 0.15);\n",
              "      filter: drop-shadow(0px 1px 2px rgba(0, 0, 0, 0.3));\n",
              "      fill: #FFFFFF;\n",
              "    }\n",
              "  </style>\n",
              "\n",
              "      <script>\n",
              "        const buttonEl =\n",
              "          document.querySelector('#df-8926534c-9b63-4af3-b153-855863a3fb08 button.colab-df-convert');\n",
              "        buttonEl.style.display =\n",
              "          google.colab.kernel.accessAllowed ? 'block' : 'none';\n",
              "\n",
              "        async function convertToInteractive(key) {\n",
              "          const element = document.querySelector('#df-8926534c-9b63-4af3-b153-855863a3fb08');\n",
              "          const dataTable =\n",
              "            await google.colab.kernel.invokeFunction('convertToInteractive',\n",
              "                                                     [key], {});\n",
              "          if (!dataTable) return;\n",
              "\n",
              "          const docLinkHtml = 'Like what you see? Visit the ' +\n",
              "            '<a target=\"_blank\" href=https://colab.research.google.com/notebooks/data_table.ipynb>data table notebook</a>'\n",
              "            + ' to learn more about interactive tables.';\n",
              "          element.innerHTML = '';\n",
              "          dataTable['output_type'] = 'display_data';\n",
              "          await google.colab.output.renderOutput(dataTable, element);\n",
              "          const docLink = document.createElement('div');\n",
              "          docLink.innerHTML = docLinkHtml;\n",
              "          element.appendChild(docLink);\n",
              "        }\n",
              "      </script>\n",
              "    </div>\n",
              "  </div>\n",
              "  "
            ]
          },
          "metadata": {},
          "execution_count": 37
        }
      ],
      "source": [
        "# 첫 번째 데이터 출력\n",
        "data.head()"
      ]
    },
    {
      "cell_type": "code",
      "execution_count": 38,
      "metadata": {
        "id": "IKkE0TeO9fwR",
        "outputId": "b9b01776-3e0b-43e5-c9ff-6940d6d55fae",
        "colab": {
          "base_uri": "https://localhost:8080/"
        }
      },
      "outputs": [
        {
          "output_type": "execute_result",
          "data": {
            "text/plain": [
              "42278"
            ]
          },
          "metadata": {},
          "execution_count": 38
        }
      ],
      "source": [
        "len(data['title'].unique())"
      ]
    },
    {
      "cell_type": "code",
      "execution_count": 39,
      "metadata": {
        "id": "iXsni8hj9fwR",
        "outputId": "b0f958c2-2334-456d-9b3c-ffdf76553264",
        "colab": {
          "base_uri": "https://localhost:8080/",
          "height": 54
        }
      },
      "outputs": [
        {
          "output_type": "execute_result",
          "data": {
            "text/plain": [
              "\"Led by Woody, Andy's toys live happily in his room until Andy's birthday brings Buzz Lightyear onto the scene. Afraid of losing his place in Andy's heart, Woody plots against Buzz. But when circumstances separate Buzz and Woody from their owner, the duo eventually learns to put aside their differences.\""
            ],
            "application/vnd.google.colaboratory.intrinsic+json": {
              "type": "string"
            }
          },
          "metadata": {},
          "execution_count": 39
        }
      ],
      "source": [
        "# 첫 번째 데이터의 overview 출력\n",
        "# 영화에 대한 설명\n",
        "data.head(1)[\"overview\"][0]\n"
      ]
    },
    {
      "cell_type": "code",
      "execution_count": 40,
      "metadata": {
        "id": "1r7_1MT69fwS",
        "outputId": "76e2bff6-eff7-4e9d-dcf0-25c89eae424e",
        "colab": {
          "base_uri": "https://localhost:8080/"
        }
      },
      "outputs": [
        {
          "output_type": "execute_result",
          "data": {
            "text/plain": [
              "29"
            ]
          },
          "metadata": {},
          "execution_count": 40
        }
      ],
      "source": [
        "# 데이터의 일부만 사용\n",
        "data = data.head(10000)\n",
        "\n",
        "# Null인 항목의 개수\n",
        "data[\"overview\"].isnull().sum()\n"
      ]
    },
    {
      "cell_type": "code",
      "execution_count": 41,
      "metadata": {
        "id": "WFTzYP1q9fwS"
      },
      "outputs": [],
      "source": [
        "# Null인 항목을 빈 값으로 대체\n",
        "data[\"overview\"] = data[\"overview\"].fillna(\"\")"
      ]
    },
    {
      "cell_type": "code",
      "execution_count": 42,
      "metadata": {
        "id": "ZYrEosag9fwS",
        "outputId": "806a4abe-8aa1-4b79-ad3a-d9cf0191fc77",
        "colab": {
          "base_uri": "https://localhost:8080/"
        }
      },
      "outputs": [
        {
          "output_type": "execute_result",
          "data": {
            "text/plain": [
              "0"
            ]
          },
          "metadata": {},
          "execution_count": 42
        }
      ],
      "source": [
        "# Null인 항목이 없어야 TfidfVectorizer() 가능\n",
        "data[\"overview\"].isnull().sum()\n"
      ]
    },
    {
      "cell_type": "code",
      "execution_count": 43,
      "metadata": {
        "id": "dPmqsdRj9fwS",
        "outputId": "377c911e-466e-4b00-815a-b8f0e4f42e81",
        "colab": {
          "base_uri": "https://localhost:8080/"
        }
      },
      "outputs": [
        {
          "output_type": "stream",
          "name": "stdout",
          "text": [
            "(10000, 32350)\n"
          ]
        }
      ],
      "source": [
        "from sklearn.feature_extraction.text import TfidfVectorizer\n",
        "\n",
        "# TF-IDF 변환\n",
        "tf_idf = TfidfVectorizer(stop_words=\"english\")\n",
        "tf_idf_matrix = tf_idf.fit_transform(data[\"overview\"])\n",
        "\n",
        "# 데이터의 개수 : 10000\n",
        "# 단어의 개수 : 32350\n",
        "print(tf_idf_matrix.shape)\n"
      ]
    },
    {
      "cell_type": "code",
      "execution_count": 44,
      "metadata": {
        "id": "cpiCSSAm9fwS",
        "outputId": "8d45ec73-3ecd-4c88-f2e8-8658671ffa98",
        "colab": {
          "base_uri": "https://localhost:8080/"
        }
      },
      "outputs": [
        {
          "output_type": "stream",
          "name": "stdout",
          "text": [
            "(10000, 10000)\n"
          ]
        }
      ],
      "source": [
        "from sklearn.metrics.pairwise import linear_kernel\n",
        "\n",
        "# 10000 x 10000 서로 내적하여 코사인 유사도를 구함\n",
        "# 각 항목은 두 영화의 유사도를 나타냄\n",
        "cosine_sim = linear_kernel(tf_idf_matrix, tf_idf_matrix)\n",
        "\n",
        "print(cosine_sim.shape)"
      ]
    },
    {
      "cell_type": "code",
      "execution_count": 45,
      "metadata": {
        "id": "xH8yVjin9fwT",
        "outputId": "adde20ad-f8af-4025-dadf-1a4b84f68bb3",
        "colab": {
          "base_uri": "https://localhost:8080/"
        }
      },
      "outputs": [
        {
          "output_type": "stream",
          "name": "stdout",
          "text": [
            "title\n",
            "Toy Story                      0\n",
            "Jumanji                        1\n",
            "Grumpier Old Men               2\n",
            "Waiting to Exhale              3\n",
            "Father of the Bride Part II    4\n",
            "dtype: int64\n"
          ]
        }
      ],
      "source": [
        "# 중복을 제거하여 영화 제목을 시리즈로 생성\n",
        "indices = pd.Series(data.index, index=data[\"title\"]).drop_duplicates()\n",
        "\n",
        "print(indices.head())"
      ]
    },
    {
      "cell_type": "code",
      "execution_count": 46,
      "metadata": {
        "id": "hb0-9-379fwT"
      },
      "outputs": [],
      "source": [
        "# 유사한 영화를 구함\n",
        "def get_similar(title, indices, cosine_sim):\n",
        "\n",
        "    # 영화의 인덱스를 구함\n",
        "    try:\n",
        "        index = indices[title]\n",
        "    except:\n",
        "        return None\n",
        "    \n",
        "    # 해당 영화의 유사도를 배열로 변환\n",
        "    # 0 : 인덱스, 1 : 유사도\n",
        "    scores = list(enumerate(cosine_sim[index]))\n",
        "\n",
        "    # 유사도(x[1] 항목)를 기준으로 높은 순으로 정렬\n",
        "    scores = sorted(scores, key=lambda x: x[1], reverse=True)\n",
        "\n",
        "    # 가장 유사도가 높은 자신을 제외하고 5개를 추출\n",
        "    scores = scores[1:6]\n",
        "\n",
        "    # 인덱스를 구함\n",
        "    indices = [x[0] for x in scores]\n",
        "\n",
        "    # 각 인덱스의 영화 제목을 구함\n",
        "    titles = data[\"title\"].iloc[indices] \n",
        "    \n",
        "    return titles"
      ]
    },
    {
      "cell_type": "code",
      "execution_count": 47,
      "metadata": {
        "id": "kQfYqdna9fwT",
        "outputId": "72bf9c66-5597-4efc-cfb9-85d7aef054a2",
        "colab": {
          "base_uri": "https://localhost:8080/"
        }
      },
      "outputs": [
        {
          "output_type": "execute_result",
          "data": {
            "text/plain": [
              "2997              Toy Story 2\n",
              "8327                The Champ\n",
              "1071    Rebel Without a Cause\n",
              "3057          Man on the Moon\n",
              "1932                Condorman\n",
              "Name: title, dtype: object"
            ]
          },
          "metadata": {},
          "execution_count": 47
        }
      ],
      "source": [
        "get_similar(\"Toy Story\", indices, cosine_sim)\n"
      ]
    },
    {
      "cell_type": "code",
      "execution_count": 48,
      "metadata": {
        "id": "neONa2eJ9fwT",
        "outputId": "08edf47e-1fc3-4c48-fc68-38971fcdde63",
        "colab": {
          "base_uri": "https://localhost:8080/"
        }
      },
      "outputs": [
        {
          "output_type": "execute_result",
          "data": {
            "text/plain": [
              "1154    The Empire Strikes Back\n",
              "1167         Return of the Jedi\n",
              "1267               Mad Dog Time\n",
              "5187        The Triumph of Love\n",
              "309           The Swan Princess\n",
              "Name: title, dtype: object"
            ]
          },
          "metadata": {},
          "execution_count": 48
        }
      ],
      "source": [
        "get_similar(\"Star Wars\", indices, cosine_sim)\n"
      ]
    },
    {
      "cell_type": "code",
      "execution_count": 51,
      "metadata": {
        "id": "bTRPBMG99fwT",
        "outputId": "090adcf8-2bf1-4082-9bef-bc02b403435b",
        "colab": {
          "base_uri": "https://localhost:8080/"
        }
      },
      "outputs": [
        {
          "output_type": "execute_result",
          "data": {
            "text/plain": [
              "0                           셀카봉 스마트폰 삼각대 블루투스 굿\n",
              "1              스마트폰을 웹캠으로 사용하기 (Driodcam/드로이드캠)\n",
              "2                    스마트폰 원격시동 경보기 마이키 링크 아반떼MD\n",
              "3      연이어 출시된 삼성 가성비 스마트폰 갤럭시 A31과 A51, 어떤... \n",
              "4             핸드폰 방수팩 스마트폰 방수케이스로 15M잠수도 문제 없어.\n",
              "                         ...                   \n",
              "236           나도써봤다 :: 엘바 스마트폰 셀카봉 삼각대 짐벌 X-PRO\n",
              "237            스마트폰 용량 늘리기 알짜팁~~2분 투자해  20기가 늘림\n",
              "238    PC, 스마트폰, 닌텐도 스위치 등 다양한 기기 지원! 샥스 S1... \n",
              "239              [해외 주식] 애플, 스마트폰 시장을 '또' 선도한다.\n",
              "240                    스마트폰 렌즈 - APEXEL 에이펙셀 6종\n",
              "Name: Title, Length: 241, dtype: object"
            ]
          },
          "metadata": {},
          "execution_count": 51
        }
      ],
      "source": [
        "'''\n",
        "어휘가 다른 문서에는 별로 등장하지 않고 특정 문서에만 집중적으로 등장할 때 그 어휘야말로 실질적으로 그 문서의 주제를 잘 담고 있는 핵심어라 할 수 있다.\n",
        "'''\n",
        "import pandas as pd\n",
        "df = pd.read_csv('smartphone.csv', encoding='utf-8')\n",
        "galexy_posts = df.get('Title')# + \" \" + df.get('Description')\n",
        "galexy_posts"
      ]
    },
    {
      "cell_type": "code",
      "execution_count": 54,
      "metadata": {
        "id": "dQ52xCVw9fwU",
        "outputId": "9cb15035-1db2-4913-fde1-3ad7d72e1985",
        "colab": {
          "base_uri": "https://localhost:8080/"
        }
      },
      "outputs": [
        {
          "output_type": "execute_result",
          "data": {
            "text/plain": [
              "{'스마트폰': 250,\n",
              " '삼각대': 22,\n",
              " '갤럭시': 20,\n",
              " '사진': 19,\n",
              " '거치': 14,\n",
              " '삼성': 13,\n",
              " '방법': 13,\n",
              " '강의': 13,\n",
              " '살균': 12,\n",
              " '활용': 12}"
            ]
          },
          "metadata": {},
          "execution_count": 54
        }
      ],
      "source": [
        "from konlpy.tag import Okt\n",
        "tagger = Okt()  \n",
        "\n",
        "galexy_stop_words = \"은 이 것 등 더 를 좀 즉 인 옹 때 만 원 이때 개 일 기 시 럭 갤 성 삼 스 폰 트 드 기 이 리 폴 사 전 마 자 플 블 가 중 북 수 팩 년 월 저 탭\"\n",
        "galexy_stop_words = galexy_stop_words.split(' ')\n",
        "galexy_stop_words[0:10]\n",
        "\n",
        "# 불용어 제거\n",
        "galexy_nouns = []\n",
        "for post in galexy_posts:\n",
        "    for noun in tagger.nouns(post):\n",
        "        if noun not in galexy_stop_words:\n",
        "            galexy_nouns.append(noun)\n",
        "\n",
        "galexy_nouns[0:10]\n",
        "\n",
        "from collections import Counter\n",
        "num_top_nouns = 10\n",
        "galexy_nouns_counter = Counter(galexy_nouns)\n",
        "galexy_top_nouns = dict(galexy_nouns_counter.most_common(num_top_nouns))\n",
        "galexy_top_nouns"
      ]
    },
    {
      "cell_type": "code",
      "execution_count": 55,
      "metadata": {
        "id": "9snA7low9fwU",
        "outputId": "c5ef1f69-9dbf-489b-b01c-53abeb62f2e8",
        "colab": {
          "base_uri": "https://localhost:8080/"
        }
      },
      "outputs": [
        {
          "output_type": "execute_result",
          "data": {
            "text/plain": [
              "{'삼각대': 6,\n",
              " '갤럭시': 1,\n",
              " '사진': 4,\n",
              " '거치': 2,\n",
              " '삼성': 7,\n",
              " '방법': 3,\n",
              " '강의': 0,\n",
              " '살균': 5,\n",
              " '활용': 8}"
            ]
          },
          "metadata": {},
          "execution_count": 55
        }
      ],
      "source": [
        "from sklearn.feature_extraction.text import TfidfVectorizer\n",
        "galexy_tfidv = TfidfVectorizer(stop_words=[\"스마트폰\"]).fit(galexy_top_nouns)\n",
        "galexy_tfidv.vocabulary_"
      ]
    },
    {
      "cell_type": "code",
      "execution_count": 56,
      "metadata": {
        "id": "MdwEizlv9fwU",
        "outputId": "c16a4b82-ff35-499b-b864-2999bd26a6a8",
        "colab": {
          "base_uri": "https://localhost:8080/"
        }
      },
      "outputs": [
        {
          "output_type": "stream",
          "name": "stdout",
          "text": [
            "       0         1    2    3    4    5    6         7    8\n",
            "0    0.0  0.000000  0.0  0.0  0.0  0.0  1.0  0.000000  0.0\n",
            "1    0.0  0.000000  0.0  0.0  0.0  0.0  0.0  0.000000  0.0\n",
            "2    0.0  0.000000  0.0  0.0  0.0  0.0  0.0  0.000000  0.0\n",
            "3    0.0  0.707107  0.0  0.0  0.0  0.0  0.0  0.707107  0.0\n",
            "4    0.0  0.000000  0.0  0.0  0.0  0.0  0.0  0.000000  0.0\n",
            "..   ...       ...  ...  ...  ...  ...  ...       ...  ...\n",
            "236  0.0  0.000000  0.0  0.0  0.0  0.0  1.0  0.000000  0.0\n",
            "237  0.0  0.000000  0.0  0.0  0.0  0.0  0.0  0.000000  0.0\n",
            "238  0.0  0.000000  0.0  0.0  0.0  0.0  0.0  0.000000  0.0\n",
            "239  0.0  0.000000  0.0  0.0  0.0  0.0  0.0  0.000000  0.0\n",
            "240  0.0  0.000000  0.0  0.0  0.0  0.0  0.0  0.000000  0.0\n",
            "\n",
            "[241 rows x 9 columns]\n"
          ]
        }
      ],
      "source": [
        "galexy_tfidv.transform(galexy_posts).toarray()\n",
        "\n",
        "print(pd.DataFrame(galexy_tfidv.transform(galexy_posts).toarray()))"
      ]
    },
    {
      "cell_type": "code",
      "execution_count": 53,
      "metadata": {
        "id": "3owJOAi89fwU"
      },
      "outputs": [],
      "source": []
    }
  ],
  "metadata": {
    "kernelspec": {
      "display_name": "Python 3",
      "language": "python",
      "name": "python3"
    },
    "language_info": {
      "codemirror_mode": {
        "name": "ipython",
        "version": 3
      },
      "file_extension": ".py",
      "mimetype": "text/x-python",
      "name": "python",
      "nbconvert_exporter": "python",
      "pygments_lexer": "ipython3",
      "version": "3.7.6"
    },
    "toc": {
      "base_numbering": 1,
      "nav_menu": {},
      "number_sections": false,
      "sideBar": true,
      "skip_h1_title": false,
      "title_cell": "Table of Contents",
      "title_sidebar": "Contents",
      "toc_cell": false,
      "toc_position": {},
      "toc_section_display": true,
      "toc_window_display": false
    },
    "colab": {
      "provenance": [],
      "include_colab_link": true
    }
  },
  "nbformat": 4,
  "nbformat_minor": 0
}