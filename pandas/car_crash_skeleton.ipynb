{
  "nbformat": 4,
  "nbformat_minor": 0,
  "metadata": {
    "colab": {
      "private_outputs": true,
      "provenance": [],
      "toc_visible": true,
      "authorship_tag": "ABX9TyM0/r0FOJjysZZN46l1tfdV",
      "include_colab_link": true
    },
    "kernelspec": {
      "name": "python3",
      "display_name": "Python 3"
    },
    "language_info": {
      "name": "python"
    }
  },
  "cells": [
    {
      "cell_type": "markdown",
      "metadata": {
        "id": "view-in-github",
        "colab_type": "text"
      },
      "source": [
        "<a href=\"https://colab.research.google.com/github/zzhining/ml_basic/blob/main/pandas/car_crash_skeleton.ipynb\" target=\"_parent\"><img src=\"https://colab.research.google.com/assets/colab-badge.svg\" alt=\"Open In Colab\"/></a>"
      ]
    },
    {
      "cell_type": "code",
      "execution_count": null,
      "metadata": {
        "id": "80Ua_LM7qSrL"
      },
      "outputs": [],
      "source": [
        "import seaborn as sns\n",
        "import matplotlib.pyplot as plt\n",
        "import pandas as pd\n",
        "\n",
        "# 데이터셋 로드\n",
        "car_crashes = sns.load_dataset('car_crashes')\n",
        "car_crashes.head()"
      ]
    },
    {
      "cell_type": "markdown",
      "source": [
        "- `total`(총 교통사고 수)\n",
        ":각 주에서 발생한 모든 종류의 교통사고의 총합\n",
        "- `speeding`(속도 위반과 관련된 교통사고 비율):전체 교통사고 중 속도 위반이 원인인 사고의 비율\n",
        "- `alcohol`(음주운전과 관련된 교통사고 비율): 전체 교통사고 중 음주운전이 원인인 사고의 비율\n",
        "- `not_distracted`(주의 분산이 원인이 아닌 교통사고 비율): 전체 교통사고 중 운전자의 주의 분산이 원인이 아닌 사고의 비율\n",
        "- `no_previous`(이전 교통사고 기록이 없는 운전자에 의한 교통사고 비율): 전체 교통사고 중 사고를 일으킨 운전자가 이전에 교통사고 기록이 없는 경우의 비율\n",
        "- `ins_premium`(자동차 보험료): 각 주에서의 평균 자동차 보험료(달러)\n",
        "- `ins_losses`(자동차 보험 청구 손실)\n",
        ": 각 주에서의 평균 자동차 보험 청구 손실(달러)\n",
        "- `abbrev`(주의 약어): 미국 주의 이름을 나타내는 두 글자의 약어(예: AL, TX, CA 등)"
      ],
      "metadata": {
        "id": "9-674vTsEJXZ"
      }
    },
    {
      "cell_type": "markdown",
      "source": [
        "# Q1.결측치 확인\n",
        "\n",
        "`car_crashes` 데이터셋의 결측치를 확인하고, 결측치가 있는 경우 이를 각 컬럼의 평균값으로 대체하세요."
      ],
      "metadata": {
        "id": "vUOlydrqBWzc"
      }
    },
    {
      "cell_type": "code",
      "source": [],
      "metadata": {
        "id": "Lw7-wh8HBVWK"
      },
      "execution_count": null,
      "outputs": []
    },
    {
      "cell_type": "markdown",
      "source": [
        "# Q2. 이상치 처리\n",
        "`car_crashes` 데이터셋에서 이상치를 식별하고, IQR(Interquartile Range) 방법을 사용하여 이상치를 제거하세요."
      ],
      "metadata": {
        "id": "Gk47p9j1Bg8r"
      }
    },
    {
      "cell_type": "code",
      "source": [],
      "metadata": {
        "id": "i3lYZVmoBj7V"
      },
      "execution_count": null,
      "outputs": []
    },
    {
      "cell_type": "markdown",
      "source": [
        "#Q3. 중복 데이터 처리\n",
        "중복된 데이터가 있는지 확인하고, 중복 데이터를 제거하세요."
      ],
      "metadata": {
        "id": "cFRN5_7TBp1H"
      }
    },
    {
      "cell_type": "code",
      "source": [],
      "metadata": {
        "id": "nRywWDDMBty-"
      },
      "execution_count": null,
      "outputs": []
    },
    {
      "cell_type": "markdown",
      "source": [
        "#Q4. 데이터 합치기 (concat)\n",
        "\n",
        "`car_crashes` 데이터셋을 반으로 나눈 후, concat을 사용하여 다시 합치세요."
      ],
      "metadata": {
        "id": "KkvhtHkvBw6D"
      }
    },
    {
      "cell_type": "code",
      "source": [],
      "metadata": {
        "id": "nHWlRrNcB1yX"
      },
      "execution_count": null,
      "outputs": []
    },
    {
      "cell_type": "markdown",
      "source": [
        "#Q5. 데이터 병합 (merge)\n",
        "가상의 추가 주별 인구 데이터(1부터 순차적으로 1씩 증가하는 값을 갖음)를 포함하는 데이터 프레임(`population_data`)을 만들어 `car_crashes` 데이터와 병합하세요."
      ],
      "metadata": {
        "id": "UZNUBJKFB605"
      }
    },
    {
      "cell_type": "code",
      "source": [],
      "metadata": {
        "id": "-7A5iarHB9VX"
      },
      "execution_count": null,
      "outputs": []
    },
    {
      "cell_type": "markdown",
      "source": [
        "#Q6. 그룹화 (groupby)\n",
        "\n",
        "`car_crashes` 데이터셋을 주별로 그룹화하여 평균 속도 위반률을 계산하세요."
      ],
      "metadata": {
        "id": "L4lIdo6yCe0Z"
      }
    },
    {
      "cell_type": "code",
      "source": [],
      "metadata": {
        "id": "p_ZdvnusCiG2"
      },
      "execution_count": null,
      "outputs": []
    },
    {
      "cell_type": "markdown",
      "source": [
        "#Q7. 피벗 (pivot)\n",
        "주별 알코올 관련 사고와 속도 위반률의 피벗 테이블을 만드세요."
      ],
      "metadata": {
        "id": "1HT5nFzLClsv"
      }
    },
    {
      "cell_type": "code",
      "source": [],
      "metadata": {
        "id": "kSKmkfnMCn_5"
      },
      "execution_count": null,
      "outputs": []
    },
    {
      "cell_type": "markdown",
      "source": [
        "#Q8. 원-핫 인코딩 (one hot encoding)\n",
        "\n",
        "`car_crashes` 데이터셋의 주(`State`) 컬럼을 원-핫 인코딩하세요."
      ],
      "metadata": {
        "id": "x6mnS7OvCqpo"
      }
    },
    {
      "cell_type": "code",
      "source": [],
      "metadata": {
        "id": "Wq2tCnHqCuiF"
      },
      "execution_count": null,
      "outputs": []
    },
    {
      "cell_type": "markdown",
      "source": [
        "#Q9. 구간화 (cut)\n",
        "\n",
        "총사고 수(`total`)를 4개의 구간으로 나누고 각 구간에 속한 데이터의 개수를 세세요."
      ],
      "metadata": {
        "id": "RcpdCAxsCx6_"
      }
    },
    {
      "cell_type": "code",
      "source": [],
      "metadata": {
        "id": "S8NOU6A7C2Q0"
      },
      "execution_count": null,
      "outputs": []
    },
    {
      "cell_type": "markdown",
      "source": [
        "#Q10. 주성분 분석 (PCA)\n",
        "\n",
        "PCA를 사용하여 주요 두 개의 성분으로 차원을 축소하세요."
      ],
      "metadata": {
        "id": "5QJVbXRWC6EL"
      }
    },
    {
      "cell_type": "code",
      "source": [],
      "metadata": {
        "id": "jtnwvj1FC6Z5"
      },
      "execution_count": null,
      "outputs": []
    },
    {
      "cell_type": "markdown",
      "source": [
        "# Q11. 시각화\n",
        "총사고 수(`total`)와 속도 위반(`speeding`) 간의 산점도를 그리세요."
      ],
      "metadata": {
        "id": "y52pPbBEDBdk"
      }
    },
    {
      "cell_type": "code",
      "source": [],
      "metadata": {
        "id": "CGcV-CRTDHjn"
      },
      "execution_count": null,
      "outputs": []
    },
    {
      "cell_type": "markdown",
      "source": [
        "#Q12. 히스토그램\n",
        "`total` 컬럼의 히스토그램을 그리세요."
      ],
      "metadata": {
        "id": "aO845TSNDLvM"
      }
    },
    {
      "cell_type": "code",
      "source": [],
      "metadata": {
        "id": "f4ikCkPwDN9C"
      },
      "execution_count": null,
      "outputs": []
    },
    {
      "cell_type": "markdown",
      "source": [
        "#Q13. 박스 플롯\n",
        "주별 알코올 관련 사고(`alcohol`)의 박스 플롯을 그리세요."
      ],
      "metadata": {
        "id": "7wXmQtbQDTg6"
      }
    },
    {
      "cell_type": "code",
      "source": [],
      "metadata": {
        "id": "sydGD7NcDV3W"
      },
      "execution_count": null,
      "outputs": []
    },
    {
      "cell_type": "markdown",
      "source": [
        "#Q14. 히트맵\n",
        "변수들 간의 상관관계를 히트맵으로 시각화하세요.(문자열이 포함된 컬럼을 제외하고 상관관계를 구하세요.)"
      ],
      "metadata": {
        "id": "IqbmxwzCDZlR"
      }
    },
    {
      "cell_type": "code",
      "source": [],
      "metadata": {
        "id": "aTDv9pZoDbT_"
      },
      "execution_count": null,
      "outputs": []
    },
    {
      "cell_type": "markdown",
      "source": [
        "#Q15. 조건부 필터링\n",
        "\n",
        "속도 위반 비율이 6% 이상인 주만 추출하세요."
      ],
      "metadata": {
        "id": "pOUOBBIgDiJx"
      }
    },
    {
      "cell_type": "code",
      "source": [],
      "metadata": {
        "id": "fxIE2CZhDl6L"
      },
      "execution_count": null,
      "outputs": []
    },
    {
      "cell_type": "markdown",
      "source": [
        "#Q16. 새로운 컬럼 생성\n",
        "총사고 수 대비 속도 위반의 비율을 나타내는 새로운 컬럼을 생성하세요."
      ],
      "metadata": {
        "id": "lSBwqWiED0w0"
      }
    },
    {
      "cell_type": "code",
      "source": [],
      "metadata": {
        "id": "FXGogsepDnV-"
      },
      "execution_count": null,
      "outputs": []
    },
    {
      "cell_type": "markdown",
      "source": [
        "#Q17. 데이터 정렬\n",
        "주별 총사고 수를 기준으로 내림차순으로 정렬하세요."
      ],
      "metadata": {
        "id": "eJ4ItJoAD7MB"
      }
    },
    {
      "cell_type": "code",
      "source": [],
      "metadata": {
        "id": "HQyGzhY_D9WQ"
      },
      "execution_count": null,
      "outputs": []
    },
    {
      "cell_type": "markdown",
      "source": [
        "#Q18. 데이터 타입 변환\n",
        "\n",
        "모든 수치 데이터를 정수형으로 변환하세요."
      ],
      "metadata": {
        "id": "mUX0fJ5bEAe3"
      }
    },
    {
      "cell_type": "code",
      "source": [],
      "metadata": {
        "id": "gbFHHVJiECkd"
      },
      "execution_count": null,
      "outputs": []
    },
    {
      "cell_type": "code",
      "source": [],
      "metadata": {
        "id": "yc0I_HQ3F81k"
      },
      "execution_count": null,
      "outputs": []
    }
  ]
}