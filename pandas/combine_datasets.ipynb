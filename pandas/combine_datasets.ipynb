{
  "cells": [
    {
      "cell_type": "markdown",
      "metadata": {
        "id": "view-in-github",
        "colab_type": "text"
      },
      "source": [
        "<a href=\"https://colab.research.google.com/github/zzhining/ml_basic/blob/main/pandas/combine_datasets.ipynb\" target=\"_parent\"><img src=\"https://colab.research.google.com/assets/colab-badge.svg\" alt=\"Open In Colab\"/></a>"
      ]
    },
    {
      "cell_type": "code",
      "execution_count": null,
      "metadata": {
        "id": "CSgLewQ-ICzl"
      },
      "outputs": [],
      "source": [
        "import pandas as pd"
      ]
    },
    {
      "cell_type": "markdown",
      "source": [
        "# Standard join"
      ],
      "metadata": {
        "id": "i5NQU_0NYjX2"
      }
    },
    {
      "cell_type": "markdown",
      "metadata": {
        "id": "W_1gkOTRIC8u"
      },
      "source": [
        "## 데이터 준비"
      ]
    },
    {
      "cell_type": "code",
      "execution_count": null,
      "metadata": {
        "id": "KAKxXb9MIC8v"
      },
      "outputs": [],
      "source": [
        "left1 = pd.DataFrame({'col1': ['a', 'b', 'a', 'a', 'b', 'c'],\n",
        "                      'col2': range(6)})\n",
        "right1 = pd.DataFrame({'col1': ['a', 'b'],\n",
        "                       'col3': [3.5, 7]})"
      ]
    },
    {
      "cell_type": "code",
      "source": [],
      "metadata": {
        "id": "fjxcRN28fvS9"
      },
      "execution_count": null,
      "outputs": []
    },
    {
      "cell_type": "code",
      "source": [],
      "metadata": {
        "id": "NccutW7VfvQK"
      },
      "execution_count": null,
      "outputs": []
    },
    {
      "cell_type": "markdown",
      "source": [
        "## left join"
      ],
      "metadata": {
        "id": "PvMIo8J2Y87r"
      }
    },
    {
      "cell_type": "code",
      "source": [],
      "metadata": {
        "id": "kxaqIZE5ZFHk"
      },
      "execution_count": null,
      "outputs": []
    },
    {
      "cell_type": "markdown",
      "source": [
        "## right join"
      ],
      "metadata": {
        "id": "1_RjahdHZ465"
      }
    },
    {
      "cell_type": "code",
      "source": [],
      "metadata": {
        "id": "SqVw7rv_Z7QK"
      },
      "execution_count": null,
      "outputs": []
    },
    {
      "cell_type": "markdown",
      "source": [
        "## inner join"
      ],
      "metadata": {
        "id": "mbOlSZwTZ-x6"
      }
    },
    {
      "cell_type": "code",
      "source": [],
      "metadata": {
        "id": "E0JJ-F9Ub_TS"
      },
      "execution_count": null,
      "outputs": []
    },
    {
      "cell_type": "markdown",
      "source": [
        "## outer join"
      ],
      "metadata": {
        "id": "g4aemJ4Fb_1g"
      }
    },
    {
      "cell_type": "code",
      "source": [],
      "metadata": {
        "id": "ViuRvW9scBQy"
      },
      "execution_count": null,
      "outputs": []
    },
    {
      "cell_type": "markdown",
      "source": [
        "## filtering join"
      ],
      "metadata": {
        "id": "OMi3BAbpcC-0"
      }
    },
    {
      "cell_type": "code",
      "source": [
        "left2 = pd.DataFrame({'col1': ['a', 'b', 'a', 'a', 'b', 'c'],\n",
        "                      'col2': range(6)})\n",
        "right2 = pd.DataFrame({'col1': ['a', 'b', 'd'],\n",
        "                       'col3': [3.5, 7, 10]})"
      ],
      "metadata": {
        "id": "CUinxTRDcX8I"
      },
      "execution_count": null,
      "outputs": []
    },
    {
      "cell_type": "markdown",
      "source": [
        "`left2`에서 `right2`의 `col1`에 있는 값만 필터링"
      ],
      "metadata": {
        "id": "COEsPknKcwYd"
      }
    },
    {
      "cell_type": "code",
      "source": [],
      "metadata": {
        "id": "trdmIEuBdEW-"
      },
      "execution_count": null,
      "outputs": []
    },
    {
      "cell_type": "markdown",
      "source": [
        "`left2`에서 `right2`의 `col1`에 없는 값만 필터링"
      ],
      "metadata": {
        "id": "yU8877OBdGq_"
      }
    },
    {
      "cell_type": "code",
      "source": [],
      "metadata": {
        "id": "OLCPWTOIdMoq"
      },
      "execution_count": null,
      "outputs": []
    },
    {
      "cell_type": "markdown",
      "source": [
        "## 병합"
      ],
      "metadata": {
        "id": "wyqxwadadWh5"
      }
    },
    {
      "cell_type": "code",
      "source": [
        "left3 = pd.DataFrame({'col1': ['a', 'b', 'c'],\n",
        "                      'col2': [1, 2, 3]})\n",
        "right3 = pd.DataFrame({'col1': ['b', 'c', 'd'],\n",
        "                      'col2': [2, 3, 4]})"
      ],
      "metadata": {
        "id": "3uuBVyrpdaMs"
      },
      "execution_count": null,
      "outputs": []
    },
    {
      "cell_type": "markdown",
      "source": [
        "intersection"
      ],
      "metadata": {
        "id": "xpTyPkMeeGyC"
      }
    },
    {
      "cell_type": "code",
      "source": [],
      "metadata": {
        "id": "3X6m3-x9d7sW"
      },
      "execution_count": null,
      "outputs": []
    },
    {
      "cell_type": "markdown",
      "source": [
        "union"
      ],
      "metadata": {
        "id": "3eEVkXCReJE1"
      }
    },
    {
      "cell_type": "code",
      "source": [],
      "metadata": {
        "id": "PrRGcFiUeKwa"
      },
      "execution_count": null,
      "outputs": []
    },
    {
      "cell_type": "markdown",
      "source": [
        "concat\n",
        "```\n",
        "pd.concat([s1, s2], ignore_index=True)\n",
        "```"
      ],
      "metadata": {
        "id": "em4pdClbeLJg"
      }
    },
    {
      "cell_type": "code",
      "source": [],
      "metadata": {
        "id": "SAvHmoTcfa9B"
      },
      "execution_count": null,
      "outputs": []
    }
  ],
  "metadata": {
    "kernelspec": {
      "display_name": "Python 3",
      "language": "python",
      "name": "python3"
    },
    "language_info": {
      "codemirror_mode": {
        "name": "ipython",
        "version": 3
      },
      "file_extension": ".py",
      "mimetype": "text/x-python",
      "name": "python",
      "nbconvert_exporter": "python",
      "pygments_lexer": "ipython3",
      "version": "3.8.5"
    },
    "toc": {
      "base_numbering": 1,
      "nav_menu": {},
      "number_sections": false,
      "sideBar": true,
      "skip_h1_title": false,
      "title_cell": "Table of Contents",
      "title_sidebar": "Contents",
      "toc_cell": false,
      "toc_position": {
        "height": "calc(100% - 180px)",
        "left": "10px",
        "top": "150px",
        "width": "307.2px"
      },
      "toc_section_display": true,
      "toc_window_display": true
    },
    "colab": {
      "provenance": [],
      "toc_visible": true,
      "include_colab_link": true
    }
  },
  "nbformat": 4,
  "nbformat_minor": 0
}