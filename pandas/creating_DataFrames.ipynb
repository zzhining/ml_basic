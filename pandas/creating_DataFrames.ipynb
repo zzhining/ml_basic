{
  "nbformat": 4,
  "nbformat_minor": 0,
  "metadata": {
    "colab": {
      "private_outputs": true,
      "provenance": [],
      "authorship_tag": "ABX9TyPV7x/8nDSx/03oMJI2wwXU",
      "include_colab_link": true
    },
    "kernelspec": {
      "name": "python3",
      "display_name": "Python 3"
    },
    "language_info": {
      "name": "python"
    }
  },
  "cells": [
    {
      "cell_type": "markdown",
      "metadata": {
        "id": "view-in-github",
        "colab_type": "text"
      },
      "source": [
        "<a href=\"https://colab.research.google.com/github/zzhining/ml_basic/blob/main/pandas/creating_DataFrames.ipynb\" target=\"_parent\"><img src=\"https://colab.research.google.com/assets/colab-badge.svg\" alt=\"Open In Colab\"/></a>"
      ]
    },
    {
      "cell_type": "markdown",
      "source": [
        "# Pandas 패키지 불러오기"
      ],
      "metadata": {
        "id": "s9a3oLB0DJzp"
      }
    },
    {
      "cell_type": "code",
      "execution_count": null,
      "metadata": {
        "id": "g1RtZHDdC-Lq"
      },
      "outputs": [],
      "source": [
        "# import\n"
      ]
    },
    {
      "cell_type": "markdown",
      "source": [
        "# 데이터 프레임 생성하기"
      ],
      "metadata": {
        "id": "Dwo7R6B3DQ38"
      }
    },
    {
      "cell_type": "markdown",
      "source": [
        "## 딕셔너리 타입으로 생성"
      ],
      "metadata": {
        "id": "jLyWCoHhDUWo"
      }
    },
    {
      "cell_type": "code",
      "source": [],
      "metadata": {
        "id": "wIPdtNG7DQRx"
      },
      "execution_count": null,
      "outputs": []
    },
    {
      "cell_type": "markdown",
      "source": [
        "## index와 columns 인자를 사용하여 생성"
      ],
      "metadata": {
        "id": "FnPnNM8yDcbU"
      }
    },
    {
      "cell_type": "code",
      "source": [],
      "metadata": {
        "id": "4t-_UCrBDhrr"
      },
      "execution_count": null,
      "outputs": []
    },
    {
      "cell_type": "markdown",
      "source": [
        "## 기존에 있는 데이터 불러오기\n",
        "`read_csv()`\n",
        "- [실습 csv 미리보기](https://github.com/zzhining/python_data_basic/blob/main/3%EC%9E%A5/005930.KS.csv)\n",
        "- 실습 csv 주소: 'https://raw.githubusercontent.com/zzhining/python_data_basic/main/3%EC%9E%A5/005930.KS.csv'"
      ],
      "metadata": {
        "id": "wXqm5WUUDjGG"
      }
    },
    {
      "cell_type": "code",
      "source": [],
      "metadata": {
        "id": "qZUORTIlDlR3"
      },
      "execution_count": null,
      "outputs": []
    },
    {
      "cell_type": "code",
      "source": [],
      "metadata": {
        "id": "Vtg9oTxbEISS"
      },
      "execution_count": null,
      "outputs": []
    }
  ]
}