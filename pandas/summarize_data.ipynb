{
  "nbformat": 4,
  "nbformat_minor": 0,
  "metadata": {
    "colab": {
      "private_outputs": true,
      "provenance": [],
      "toc_visible": true,
      "authorship_tag": "ABX9TyOrDHZly8Zr8wfx4xQQO/N/",
      "include_colab_link": true
    },
    "kernelspec": {
      "name": "python3",
      "display_name": "Python 3"
    },
    "language_info": {
      "name": "python"
    }
  },
  "cells": [
    {
      "cell_type": "markdown",
      "metadata": {
        "id": "view-in-github",
        "colab_type": "text"
      },
      "source": [
        "<a href=\"https://colab.research.google.com/github/zzhining/ml_basic/blob/main/pandas/summarize_data.ipynb\" target=\"_parent\"><img src=\"https://colab.research.google.com/assets/colab-badge.svg\" alt=\"Open In Colab\"/></a>"
      ]
    },
    {
      "cell_type": "markdown",
      "source": [
        "# 데이터 불러오기"
      ],
      "metadata": {
        "id": "w2lSgVCiFRDk"
      }
    },
    {
      "cell_type": "code",
      "execution_count": null,
      "metadata": {
        "id": "g1RtZHDdC-Lq"
      },
      "outputs": [],
      "source": [
        "import pandas as pd\n",
        "df = pd.read_csv(\"https://raw.githubusercontent.com/zzhining/ml_basic/main/dataset/insurance.csv\")"
      ]
    },
    {
      "cell_type": "markdown",
      "source": [
        "# 데이터 요약\n"
      ],
      "metadata": {
        "id": "Dwo7R6B3DQ38"
      }
    },
    {
      "cell_type": "markdown",
      "source": [
        "## value_counts"
      ],
      "metadata": {
        "id": "jLyWCoHhDUWo"
      }
    },
    {
      "cell_type": "code",
      "source": [],
      "metadata": {
        "id": "wIPdtNG7DQRx"
      },
      "execution_count": null,
      "outputs": []
    },
    {
      "cell_type": "markdown",
      "source": [
        "## len"
      ],
      "metadata": {
        "id": "FnPnNM8yDcbU"
      }
    },
    {
      "cell_type": "code",
      "source": [],
      "metadata": {
        "id": "4t-_UCrBDhrr"
      },
      "execution_count": null,
      "outputs": []
    },
    {
      "cell_type": "markdown",
      "source": [
        "## shape"
      ],
      "metadata": {
        "id": "wXqm5WUUDjGG"
      }
    },
    {
      "cell_type": "code",
      "source": [],
      "metadata": {
        "id": "qZUORTIlDlR3"
      },
      "execution_count": null,
      "outputs": []
    },
    {
      "cell_type": "markdown",
      "source": [
        "## nunique"
      ],
      "metadata": {
        "id": "4XdQDS3MF2fw"
      }
    },
    {
      "cell_type": "code",
      "source": [],
      "metadata": {
        "id": "Vtg9oTxbEISS"
      },
      "execution_count": null,
      "outputs": []
    },
    {
      "cell_type": "markdown",
      "source": [
        "## describe"
      ],
      "metadata": {
        "id": "ox8FjNfbF5KJ"
      }
    },
    {
      "cell_type": "code",
      "source": [],
      "metadata": {
        "id": "w7Ng4rTgF7P3"
      },
      "execution_count": null,
      "outputs": []
    },
    {
      "cell_type": "markdown",
      "source": [
        "## sum"
      ],
      "metadata": {
        "id": "rPVNgE-zF8T7"
      }
    },
    {
      "cell_type": "code",
      "source": [],
      "metadata": {
        "id": "dQY40_mEF9Tz"
      },
      "execution_count": null,
      "outputs": []
    },
    {
      "cell_type": "markdown",
      "source": [
        "## count"
      ],
      "metadata": {
        "id": "eQZpsTfCF9_C"
      }
    },
    {
      "cell_type": "code",
      "source": [],
      "metadata": {
        "id": "5XiJWccJF-vB"
      },
      "execution_count": null,
      "outputs": []
    },
    {
      "cell_type": "markdown",
      "source": [
        "## median"
      ],
      "metadata": {
        "id": "rJ6IyAW5F_wW"
      }
    },
    {
      "cell_type": "code",
      "source": [],
      "metadata": {
        "id": "gK-U5olWGArJ"
      },
      "execution_count": null,
      "outputs": []
    },
    {
      "cell_type": "markdown",
      "source": [
        "## quantile\n",
        "\n",
        "\n",
        "<img src= \"https://upload.wikimedia.org/wikipedia/commons/5/5e/Iqr_with_quantile.png\" width=\"500\" height=\"300\">"
      ],
      "metadata": {
        "id": "k-uQ_l5ZGCTZ"
      }
    },
    {
      "cell_type": "code",
      "source": [],
      "metadata": {
        "id": "v0TfjmLSGD2R"
      },
      "execution_count": null,
      "outputs": []
    },
    {
      "cell_type": "markdown",
      "source": [
        "## min, max"
      ],
      "metadata": {
        "id": "P-M7rcWjGydK"
      }
    },
    {
      "cell_type": "code",
      "source": [],
      "metadata": {
        "id": "-StxD0goG0qE"
      },
      "execution_count": null,
      "outputs": []
    },
    {
      "cell_type": "markdown",
      "source": [
        "## mean"
      ],
      "metadata": {
        "id": "W2xHuFTqG8m2"
      }
    },
    {
      "cell_type": "code",
      "source": [],
      "metadata": {
        "id": "N3UMRjCmG_NH"
      },
      "execution_count": null,
      "outputs": []
    },
    {
      "cell_type": "markdown",
      "source": [
        "## var, std"
      ],
      "metadata": {
        "id": "ERxeUILxG6k-"
      }
    },
    {
      "cell_type": "code",
      "source": [],
      "metadata": {
        "id": "dadn0o2uG50H"
      },
      "execution_count": null,
      "outputs": []
    },
    {
      "cell_type": "markdown",
      "source": [
        "## apply"
      ],
      "metadata": {
        "id": "qq7Z9ra1HjNV"
      }
    },
    {
      "cell_type": "markdown",
      "source": [
        "- 기존에 있는 함수 사용\n",
        "```\n",
        "df.apply(np.sqrt)\n",
        "```\n",
        "\n",
        "- 신규 정의한 함수 사용\n",
        "```\n",
        "df['smoker'].apply(lambda x: 0 if x=='no' else 1)\n",
        "```\n",
        "`lambda (인자): (표현식1) if (조건식) else (표현식2)`"
      ],
      "metadata": {
        "id": "jsK_iKDQIHBj"
      }
    },
    {
      "cell_type": "markdown",
      "source": [
        "# 데이터 시각화"
      ],
      "metadata": {
        "id": "hJP9DgXMHK9k"
      }
    },
    {
      "cell_type": "markdown",
      "source": [
        "## 히스토그램"
      ],
      "metadata": {
        "id": "KEvAECuRHO2P"
      }
    },
    {
      "cell_type": "code",
      "source": [],
      "metadata": {
        "id": "ah0qU_HkHNPD"
      },
      "execution_count": null,
      "outputs": []
    },
    {
      "cell_type": "markdown",
      "source": [
        "## 스캐터플롯"
      ],
      "metadata": {
        "id": "SDB68S3NHQoC"
      }
    },
    {
      "cell_type": "code",
      "source": [],
      "metadata": {
        "id": "oTBH_DyqHaQd"
      },
      "execution_count": null,
      "outputs": []
    }
  ]
}