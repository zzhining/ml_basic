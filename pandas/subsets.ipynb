{
  "nbformat": 4,
  "nbformat_minor": 0,
  "metadata": {
    "colab": {
      "private_outputs": true,
      "provenance": [],
      "toc_visible": true,
      "authorship_tag": "ABX9TyO3VuDUJwu3J3cBzg2MlY9t",
      "include_colab_link": true
    },
    "kernelspec": {
      "name": "python3",
      "display_name": "Python 3"
    },
    "language_info": {
      "name": "python"
    }
  },
  "cells": [
    {
      "cell_type": "markdown",
      "metadata": {
        "id": "view-in-github",
        "colab_type": "text"
      },
      "source": [
        "<a href=\"https://colab.research.google.com/github/zzhining/ml_basic/blob/main/pandas/subsets.ipynb\" target=\"_parent\"><img src=\"https://colab.research.google.com/assets/colab-badge.svg\" alt=\"Open In Colab\"/></a>"
      ]
    },
    {
      "cell_type": "markdown",
      "source": [
        "# 데이터 불러오기"
      ],
      "metadata": {
        "id": "w2lSgVCiFRDk"
      }
    },
    {
      "cell_type": "code",
      "execution_count": null,
      "metadata": {
        "id": "g1RtZHDdC-Lq"
      },
      "outputs": [],
      "source": [
        "import pandas as pd\n",
        "df = pd.read_csv(\"https://raw.githubusercontent.com/zzhining/ml_basic/main/dataset/insurance.csv\")"
      ]
    },
    {
      "cell_type": "markdown",
      "source": [
        "# 데이터 요약"
      ],
      "metadata": {
        "id": "Dwo7R6B3DQ38"
      }
    },
    {
      "cell_type": "code",
      "source": [],
      "metadata": {
        "id": "hSbLGC8YUwTA"
      },
      "execution_count": null,
      "outputs": []
    },
    {
      "cell_type": "code",
      "source": [],
      "metadata": {
        "id": "3ZHgxlyPUwP7"
      },
      "execution_count": null,
      "outputs": []
    },
    {
      "cell_type": "code",
      "source": [],
      "metadata": {
        "id": "_jUBflTAUwNI"
      },
      "execution_count": null,
      "outputs": []
    },
    {
      "cell_type": "code",
      "source": [],
      "metadata": {
        "id": "ammJTLlDUwKN"
      },
      "execution_count": null,
      "outputs": []
    },
    {
      "cell_type": "code",
      "source": [
        "df.head()"
      ],
      "metadata": {
        "id": "Q_G8FEMjUwFL"
      },
      "execution_count": null,
      "outputs": []
    },
    {
      "cell_type": "markdown",
      "source": [
        "# Subset"
      ],
      "metadata": {
        "id": "jLyWCoHhDUWo"
      }
    },
    {
      "cell_type": "markdown",
      "source": [
        "## 특정 조건을 만족하는 값을 구하기\n",
        "\n",
        "age가 63 이상인 row"
      ],
      "metadata": {
        "id": "EEZJkzdsU2MR"
      }
    },
    {
      "cell_type": "code",
      "source": [],
      "metadata": {
        "id": "jNzodmGnVaiS"
      },
      "execution_count": null,
      "outputs": []
    },
    {
      "cell_type": "markdown",
      "source": [
        "## 중복값 제거"
      ],
      "metadata": {
        "id": "FnPnNM8yDcbU"
      }
    },
    {
      "cell_type": "code",
      "source": [],
      "metadata": {
        "id": "4t-_UCrBDhrr"
      },
      "execution_count": null,
      "outputs": []
    },
    {
      "cell_type": "markdown",
      "source": [
        "## 50% 샘플링"
      ],
      "metadata": {
        "id": "wXqm5WUUDjGG"
      }
    },
    {
      "cell_type": "code",
      "source": [],
      "metadata": {
        "id": "qZUORTIlDlR3"
      },
      "execution_count": null,
      "outputs": []
    },
    {
      "cell_type": "markdown",
      "source": [
        "## 10개 샘플링"
      ],
      "metadata": {
        "id": "4XdQDS3MF2fw"
      }
    },
    {
      "cell_type": "code",
      "source": [],
      "metadata": {
        "id": "Vtg9oTxbEISS"
      },
      "execution_count": null,
      "outputs": []
    },
    {
      "cell_type": "markdown",
      "source": [
        "## 특정 컬럼 선택\n",
        "`age`, `smker`, `reqion`"
      ],
      "metadata": {
        "id": "ox8FjNfbF5KJ"
      }
    },
    {
      "cell_type": "code",
      "source": [],
      "metadata": {
        "id": "66pQKXu8VxsX"
      },
      "execution_count": null,
      "outputs": []
    },
    {
      "cell_type": "markdown",
      "source": [
        "## loc"
      ],
      "metadata": {
        "id": "rPVNgE-zF8T7"
      }
    },
    {
      "cell_type": "code",
      "source": [],
      "metadata": {
        "id": "dQY40_mEF9Tz"
      },
      "execution_count": null,
      "outputs": []
    },
    {
      "cell_type": "code",
      "source": [],
      "metadata": {
        "id": "odjRSRsqWAc_"
      },
      "execution_count": null,
      "outputs": []
    },
    {
      "cell_type": "markdown",
      "source": [
        "## iloc"
      ],
      "metadata": {
        "id": "eQZpsTfCF9_C"
      }
    },
    {
      "cell_type": "code",
      "source": [],
      "metadata": {
        "id": "5XiJWccJF-vB"
      },
      "execution_count": null,
      "outputs": []
    },
    {
      "cell_type": "code",
      "source": [],
      "metadata": {
        "id": "7XNCRJm7WAxg"
      },
      "execution_count": null,
      "outputs": []
    },
    {
      "cell_type": "code",
      "source": [],
      "metadata": {
        "id": "oTBH_DyqHaQd"
      },
      "execution_count": null,
      "outputs": []
    }
  ]
}