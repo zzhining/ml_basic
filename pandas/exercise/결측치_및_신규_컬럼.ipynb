{
  "nbformat": 4,
  "nbformat_minor": 0,
  "metadata": {
    "colab": {
      "provenance": [],
      "include_colab_link": true
    },
    "kernelspec": {
      "name": "python3",
      "display_name": "Python 3"
    },
    "language_info": {
      "name": "python"
    }
  },
  "cells": [
    {
      "cell_type": "markdown",
      "metadata": {
        "id": "view-in-github",
        "colab_type": "text"
      },
      "source": [
        "<a href=\"https://colab.research.google.com/github/zzhining/ml_basic/blob/main/pandas/exercise/%EA%B2%B0%EC%B8%A1%EC%B9%98_%EB%B0%8F_%EC%8B%A0%EA%B7%9C_%EC%BB%AC%EB%9F%BC.ipynb\" target=\"_parent\"><img src=\"https://colab.research.google.com/assets/colab-badge.svg\" alt=\"Open In Colab\"/></a>"
      ]
    },
    {
      "cell_type": "code",
      "execution_count": null,
      "metadata": {
        "id": "gyaOENE1kVcw"
      },
      "outputs": [],
      "source": [
        "import pandas as pd\n",
        "\n",
        "data = {\n",
        "    'Date': ['2024-06-01', '2024-06-02', '2024-06-03', '2024-06-04', '2025-06-05'],\n",
        "    'Open': [100, 101, None, 103, 104],\n",
        "    'Close': [102, None, 104, 105, 106],\n",
        "    'Volume': [1500, 1600, None, None, 1800]\n",
        "}\n",
        "df = pd.DataFrame(data)"
      ]
    },
    {
      "cell_type": "code",
      "source": [
        "# 답을 작성하세요.\n",
        "answer1 ="
      ],
      "metadata": {
        "id": "oglbNjSnmvVD"
      },
      "execution_count": null,
      "outputs": []
    },
    {
      "cell_type": "code",
      "source": [
        "# 테스트\n",
        "print(answer1)"
      ],
      "metadata": {
        "id": "gxMZS-3VnCOD"
      },
      "execution_count": null,
      "outputs": []
    },
    {
      "cell_type": "markdown",
      "source": [
        "2. 'Volume' 열의 결측치(None) 값을 0으로 변경하는 코드를 만드세요."
      ],
      "metadata": {
        "id": "XLvdSXmrncf2"
      }
    },
    {
      "cell_type": "code",
      "source": [
        "# 답을 작성하세요.\n",
        "answer2 ="
      ],
      "metadata": {
        "id": "mYadkNvenl6j"
      },
      "execution_count": null,
      "outputs": []
    },
    {
      "cell_type": "code",
      "source": [
        "# 테스트\n",
        "print(answer2)"
      ],
      "metadata": {
        "id": "TcAQmv1qnmPW"
      },
      "execution_count": null,
      "outputs": []
    },
    {
      "cell_type": "markdown",
      "source": [
        "3. 'Open' 열의 결측치를 평균값으로 변경하는 코드를 만드세요."
      ],
      "metadata": {
        "id": "ccZ8kE2lnrOX"
      }
    },
    {
      "cell_type": "code",
      "source": [
        "# 답을 작성하세요.\n",
        "answer3 ="
      ],
      "metadata": {
        "id": "Hcs21sCvn1lb"
      },
      "execution_count": null,
      "outputs": []
    },
    {
      "cell_type": "code",
      "source": [
        "# 테스트\n",
        "print(answer3)"
      ],
      "metadata": {
        "id": "v50ST9xUn6fo"
      },
      "execution_count": null,
      "outputs": []
    },
    {
      "cell_type": "markdown",
      "source": [
        "4. 'Open' 열에 결측치가 있는 행을 제거하는 코드를 만드세요."
      ],
      "metadata": {
        "id": "xYuL5MzDoGcq"
      }
    },
    {
      "cell_type": "code",
      "source": [
        "# 답을 작성하세요.\n",
        "answer4 ="
      ],
      "metadata": {
        "id": "yYS87SYMoLNp"
      },
      "execution_count": null,
      "outputs": []
    },
    {
      "cell_type": "code",
      "source": [
        "# 테스트\n",
        "print(answer4)"
      ],
      "metadata": {
        "id": "iMB84p5qoNfT"
      },
      "execution_count": null,
      "outputs": []
    },
    {
      "cell_type": "code",
      "source": [
        "import pandas as pd\n",
        "\n",
        "data2 = {\n",
        "    'Date': ['2023-01-01', '2023-01-02', '2023-01-03', '2023-01-04', '2023-01-05'],\n",
        "    'Open': [100, 101, 102, 103, 104],\n",
        "    'Close': [102, 103, 104, 105, 106],\n",
        "    'Volume': [1500, 1600, 1700, 1800, 1900]\n",
        "}\n",
        "\n",
        "# 데이터프레임 생성\n",
        "df = pd.DataFrame(data)"
      ],
      "metadata": {
        "id": "xULuxHL_qXNu"
      },
      "execution_count": null,
      "outputs": []
    },
    {
      "cell_type": "markdown",
      "source": [
        "5. 'Open' 열을 3개의 구간(100, 101, 103, 104) 으로 나누는 코드를 작성하세요."
      ],
      "metadata": {
        "id": "AqaOOa7ZsEeh"
      }
    },
    {
      "cell_type": "code",
      "source": [
        "# 답을 작성하세요.\n",
        "answer5 ="
      ],
      "metadata": {
        "id": "jf38jbVKsEBW"
      },
      "execution_count": null,
      "outputs": []
    },
    {
      "cell_type": "code",
      "source": [
        "# 테스트\n",
        "print(answer5)"
      ],
      "metadata": {
        "id": "-oyU8lTysTQZ"
      },
      "execution_count": null,
      "outputs": []
    },
    {
      "cell_type": "markdown",
      "source": [
        "6. 'Volume' 열을 3개의 구간('Low', 'Medium', 'High')으로 나누고 레이블 부여하는 코드를 작성하세요."
      ],
      "metadata": {
        "id": "QEP-A0BeqaGG"
      }
    },
    {
      "cell_type": "code",
      "source": [
        "# 답을 작성하세요.\n",
        "answer6 ="
      ],
      "metadata": {
        "id": "pSa5yXluqtVi"
      },
      "execution_count": null,
      "outputs": []
    },
    {
      "cell_type": "code",
      "source": [
        "# 테스트\n",
        "print(answer6)"
      ],
      "metadata": {
        "id": "x0FYEHbNqqWU"
      },
      "execution_count": null,
      "outputs": []
    },
    {
      "cell_type": "markdown",
      "source": [
        "7. 'Open' 열과 'Close' 열의 값에 각각 10을 곱한 값을 반환하는 코드를 작성하세요"
      ],
      "metadata": {
        "id": "k9Ue2YCbuOJ5"
      }
    },
    {
      "cell_type": "code",
      "source": [
        "# 답을 작성하세요.\n",
        "def multiple_10(x):\n",
        "\n",
        "answer7 = d"
      ],
      "metadata": {
        "id": "m3r1yoy1uOhe"
      },
      "execution_count": null,
      "outputs": []
    },
    {
      "cell_type": "code",
      "source": [
        "# 테스트\n",
        "print(answer7)"
      ],
      "metadata": {
        "id": "vkX8ptmgueHl"
      },
      "execution_count": null,
      "outputs": []
    },
    {
      "cell_type": "code",
      "source": [
        "dates = pd.date_range(start='2023-06-01', end='2023-06-20')\n",
        "data3 = {\n",
        "    'Date': dates,\n",
        "    'Open': [110, 115, None, None, 120, 125, None, 127, 130, None, 132, 135, 138, 140, 145, 143, None, 150, 155, 153],\n",
        "    'Close': [112, 118, 115, None, 123, 128, 126, None, 133, 132, 135, 138, 142, None, 149, 147, 152, 154, 158, 156],\n",
        "    'Volume': [2500, None, 2700, 2800, 2900, 3000, 3100, 3200, 3300, 3400, 3500, None, 3700, 3800, 3900, 4000, 4100, 4200, None, 4400]\n",
        "}\n",
        "df = pd.DataFrame(data)"
      ],
      "metadata": {
        "id": "CtkQnV0txKat"
      },
      "execution_count": null,
      "outputs": []
    },
    {
      "cell_type": "markdown",
      "source": [
        "@. 다음 데이터에서 결측치를 제거한 후, Volume_Category를 추가하는 코드를 작성하세요. *Volume_Category에는 ('Very Low', 'Low', 'Medium', 'High', 'Very High') 를 포함하고 있습니다."
      ],
      "metadata": {
        "id": "mP640DvNukC2"
      }
    },
    {
      "cell_type": "code",
      "source": [
        "# 답을 작성하세요.\n",
        "\n",
        "answer8 ="
      ],
      "metadata": {
        "id": "8X5LSZO5v51M"
      },
      "execution_count": null,
      "outputs": []
    },
    {
      "cell_type": "code",
      "source": [
        "# 테스트\n",
        "print(answer8)"
      ],
      "metadata": {
        "id": "YdN7fvyvxFwo"
      },
      "execution_count": null,
      "outputs": []
    }
  ]
}