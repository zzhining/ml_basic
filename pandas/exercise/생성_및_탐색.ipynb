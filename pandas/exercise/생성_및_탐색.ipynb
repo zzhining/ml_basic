{
  "nbformat": 4,
  "nbformat_minor": 0,
  "metadata": {
    "colab": {
      "provenance": [],
      "include_colab_link": true
    },
    "kernelspec": {
      "name": "python3",
      "display_name": "Python 3"
    },
    "language_info": {
      "name": "python"
    }
  },
  "cells": [
    {
      "cell_type": "markdown",
      "metadata": {
        "id": "view-in-github",
        "colab_type": "text"
      },
      "source": [
        "<a href=\"https://colab.research.google.com/github/zzhining/ml_basic/blob/main/pandas/exercise/%EC%83%9D%EC%84%B1_%EB%B0%8F_%ED%83%90%EC%83%89.ipynb\" target=\"_parent\"><img src=\"https://colab.research.google.com/assets/colab-badge.svg\" alt=\"Open In Colab\"/></a>"
      ]
    },
    {
      "cell_type": "markdown",
      "source": [
        "주어진 주가 데이터를 이용해 데이터프레임을 만들고, 다양한 요약 통계를 계산하는 파이썬 코드를 작성하세요. 주가 데이터는 주식의 날짜, 종가(Close), 최고가(High), 최저가(Low), 거래량(Volume)이 있습니다."
      ],
      "metadata": {
        "id": "EUdB4MCjmjC-"
      }
    },
    {
      "cell_type": "markdown",
      "source": [
        "|Date|Close|High|Low|Volume|\n",
        "|---|---|---|---|---|\n",
        "|2024-06-01|150|155|148|3500000|\n",
        "|2024-06-02|152|156|149|3200000|\n",
        "|2024-06-03|149|153|147|4000000|\n",
        "|2024-06-04|153|157|150|3700000|\n",
        "|2024-06-05|151|154|148|3800000|"
      ],
      "metadata": {
        "id": "FYvl-tDkky_8"
      }
    },
    {
      "cell_type": "markdown",
      "source": [
        "1. 위 데이터를 포함하는 데이터프레임을 생성하세요"
      ],
      "metadata": {
        "id": "n1xxc2n4lpqK"
      }
    },
    {
      "cell_type": "code",
      "source": [
        "#답을 작성하세요.\n",
        "answer1 ="
      ],
      "metadata": {
        "id": "skbIOBMamyf3"
      },
      "execution_count": null,
      "outputs": []
    },
    {
      "cell_type": "code",
      "source": [
        "# 테스트\n",
        "print(answer1)"
      ],
      "metadata": {
        "id": "QR7wBFUqo2LZ"
      },
      "execution_count": null,
      "outputs": []
    },
    {
      "cell_type": "markdown",
      "source": [
        "2. 각 열(column)의 요약 통계를 계산하세요."
      ],
      "metadata": {
        "id": "I0P0Pwf_m09H"
      }
    },
    {
      "cell_type": "code",
      "execution_count": null,
      "metadata": {
        "id": "HIm0guS9kIJH"
      },
      "outputs": [],
      "source": [
        "#답을 작성하세요.\n",
        "answer2 ="
      ]
    },
    {
      "cell_type": "code",
      "source": [
        "# 테스트\n",
        "print(answer2)"
      ],
      "metadata": {
        "id": "jHk9QVxno7ip"
      },
      "execution_count": null,
      "outputs": []
    },
    {
      "cell_type": "markdown",
      "source": [
        "3. 종가의 평균값을 구하세요."
      ],
      "metadata": {
        "id": "ml9545Azm-bx"
      }
    },
    {
      "cell_type": "code",
      "source": [
        "#답을 작성하세요.\n",
        "answer3 ="
      ],
      "metadata": {
        "id": "pEChBxV-nC78"
      },
      "execution_count": null,
      "outputs": []
    },
    {
      "cell_type": "code",
      "source": [
        "# 테스트\n",
        "print(answer3)"
      ],
      "metadata": {
        "id": "99hyc2Aqo8DJ"
      },
      "execution_count": null,
      "outputs": []
    },
    {
      "cell_type": "markdown",
      "source": [
        "4. 최고가의 최대값을 구하세요."
      ],
      "metadata": {
        "id": "Wxa3HeaYnDVD"
      }
    },
    {
      "cell_type": "code",
      "source": [
        "#답을 작성하세요.\n",
        "answer4 ="
      ],
      "metadata": {
        "id": "Yb4wi7hinFdn"
      },
      "execution_count": null,
      "outputs": []
    },
    {
      "cell_type": "code",
      "source": [
        "# 테스트\n",
        "print(answer4)"
      ],
      "metadata": {
        "id": "kTg2LUxao8i6"
      },
      "execution_count": null,
      "outputs": []
    },
    {
      "cell_type": "markdown",
      "source": [
        "5. 최저가의 최소값을 구하세요."
      ],
      "metadata": {
        "id": "5910exn3nMQS"
      }
    },
    {
      "cell_type": "code",
      "source": [
        "#답을 작성하세요.\n",
        "answer5 ="
      ],
      "metadata": {
        "id": "r-_OQWaTnbt7"
      },
      "execution_count": null,
      "outputs": []
    },
    {
      "cell_type": "code",
      "source": [
        "# 테스트\n",
        "print(answer5)"
      ],
      "metadata": {
        "id": "TLYpuolio9Hw"
      },
      "execution_count": null,
      "outputs": []
    },
    {
      "cell_type": "markdown",
      "source": [
        "6. 거래량의 총합을 구하세요."
      ],
      "metadata": {
        "id": "4AK4iSCinjB7"
      }
    },
    {
      "cell_type": "code",
      "source": [
        "#답을 작성하세요.\n",
        "answer6 ="
      ],
      "metadata": {
        "id": "F3ELY2yInong"
      },
      "execution_count": null,
      "outputs": []
    },
    {
      "cell_type": "code",
      "source": [
        "# 테스트\n",
        "print(answer6)"
      ],
      "metadata": {
        "id": "CdbP9kE4o9rM"
      },
      "execution_count": null,
      "outputs": []
    },
    {
      "cell_type": "markdown",
      "source": [
        "7. 데이터프렘의 전체 요약 통계를 출력하세요."
      ],
      "metadata": {
        "id": "LRbbpSqwnul5"
      }
    },
    {
      "cell_type": "code",
      "source": [
        "#답을 작성하세요.\n",
        "answer7 ="
      ],
      "metadata": {
        "id": "Qe0YOw-Dnx09"
      },
      "execution_count": null,
      "outputs": []
    },
    {
      "cell_type": "code",
      "source": [
        "# 테스트\n",
        "print(answer7)"
      ],
      "metadata": {
        "id": "1cbc6f0Bo-G4"
      },
      "execution_count": null,
      "outputs": []
    },
    {
      "cell_type": "markdown",
      "source": [
        "8. 종가의 값이 150 이상인 행(row)들을 출력하세요."
      ],
      "metadata": {
        "id": "wr2YJa50oOhn"
      }
    },
    {
      "cell_type": "code",
      "source": [
        "#답을 작성하세요.\n",
        "answer8 ="
      ],
      "metadata": {
        "id": "DS06M-VloT_V"
      },
      "execution_count": null,
      "outputs": []
    },
    {
      "cell_type": "code",
      "source": [
        "# 테스트\n",
        "print(answer8)"
      ],
      "metadata": {
        "id": "-mSHRwPjo-k2"
      },
      "execution_count": null,
      "outputs": []
    },
    {
      "cell_type": "markdown",
      "source": [
        "9. 거래량의 값이 3600000 이상인 행(row)들의 날짜(Date)를 출력하세요."
      ],
      "metadata": {
        "id": "FcbFppvdoVCG"
      }
    },
    {
      "cell_type": "code",
      "source": [
        "#답을 작성하세요.\n",
        "answer9 ="
      ],
      "metadata": {
        "id": "B76sdHZLocXh"
      },
      "execution_count": null,
      "outputs": []
    },
    {
      "cell_type": "code",
      "source": [
        "# 테스트\n",
        "print(answer9)"
      ],
      "metadata": {
        "id": "Fq6Dn3MOo_Ee"
      },
      "execution_count": null,
      "outputs": []
    },
    {
      "cell_type": "markdown",
      "source": [
        "@. 최고가와 최저가의 차이(최고가-최저가)를 나타내는 새로운 열 diff 를 만드세요."
      ],
      "metadata": {
        "id": "o9YA_f7ZpN2-"
      }
    },
    {
      "cell_type": "code",
      "source": [
        "#답을 작성하세요.\n"
      ],
      "metadata": {
        "id": "NUxCVVZRpz3W"
      },
      "execution_count": null,
      "outputs": []
    }
  ]
}