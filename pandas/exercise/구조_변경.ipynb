{
  "nbformat": 4,
  "nbformat_minor": 0,
  "metadata": {
    "colab": {
      "provenance": [],
      "include_colab_link": true
    },
    "kernelspec": {
      "name": "python3",
      "display_name": "Python 3"
    },
    "language_info": {
      "name": "python"
    }
  },
  "cells": [
    {
      "cell_type": "markdown",
      "metadata": {
        "id": "view-in-github",
        "colab_type": "text"
      },
      "source": [
        "<a href=\"https://colab.research.google.com/github/zzhining/ml_basic/blob/main/pandas/exercise/%EA%B5%AC%EC%A1%B0_%EB%B3%80%EA%B2%BD.ipynb\" target=\"_parent\"><img src=\"https://colab.research.google.com/assets/colab-badge.svg\" alt=\"Open In Colab\"/></a>"
      ]
    },
    {
      "cell_type": "code",
      "execution_count": null,
      "metadata": {
        "id": "3zw6qb2cOt_4"
      },
      "outputs": [],
      "source": [
        "import pandas as pd\n",
        "\n",
        "data = {\n",
        "    'Date': ['2024-01-01', '2024-01-01', '2024-01-01', '2024-01-02', '2024-01-02', '2024-01-02',\n",
        "            '2024-01-03', '2024-01-03', '2024-01-03', '2024-01-04', '2024-01-04', '2024-01-04'],\n",
        "    'Company': ['A', 'B', 'C', 'A', 'B', 'C', 'A', 'B', 'C', 'A', 'B', 'C'],\n",
        "    'Close': [100, 150, 200, 110, 160, 210, 105, 155, 205, 115, 165, 215],\n",
        "    'Volume': [1000, 1500, 2000, 1100, 1600, 2100, 1050, 1550, 2050, 1150, 1650, 2150]\n",
        "}\n",
        "\n",
        "df = pd.DataFrame(data)"
      ]
    },
    {
      "cell_type": "markdown",
      "source": [
        "1. 각 회사별 평균 종가('Close')를 계산하세요."
      ],
      "metadata": {
        "id": "H3O1s179Pvv2"
      }
    },
    {
      "cell_type": "code",
      "source": [
        "# 답을 작성하세요.\n",
        "answer1 ="
      ],
      "metadata": {
        "id": "ieiGJFgjPvZC"
      },
      "execution_count": null,
      "outputs": []
    },
    {
      "cell_type": "code",
      "source": [
        "# 테스트\n",
        "print(answer1)"
      ],
      "metadata": {
        "id": "NML1h9AXP9vZ"
      },
      "execution_count": null,
      "outputs": []
    },
    {
      "cell_type": "markdown",
      "source": [
        "2. 각 회사별 전체 기간 동안의 총 거래량('Volume')을 계산하세요."
      ],
      "metadata": {
        "id": "ZiEHwpetQCfs"
      }
    },
    {
      "cell_type": "code",
      "source": [
        "# 답을 작성하세요.\n",
        "answer2 ="
      ],
      "metadata": {
        "id": "bkSDMbrzQCQH"
      },
      "execution_count": null,
      "outputs": []
    },
    {
      "cell_type": "code",
      "source": [
        "# 테스트\n",
        "print(answer2)"
      ],
      "metadata": {
        "id": "Nw5mNT4VQHVP"
      },
      "execution_count": null,
      "outputs": []
    },
    {
      "cell_type": "markdown",
      "source": [
        "3. 각 날짜별 총 거래량('Volume')을 계산하세요."
      ],
      "metadata": {
        "id": "XeKiXdWYQL_r"
      }
    },
    {
      "cell_type": "code",
      "source": [
        "# 답을 작성하세요.\n",
        "answer3 ="
      ],
      "metadata": {
        "id": "v108ln-LQY4q"
      },
      "execution_count": null,
      "outputs": []
    },
    {
      "cell_type": "code",
      "source": [
        "# 테스트\n",
        "print(answer3)"
      ],
      "metadata": {
        "id": "G1JmYCvwQaqr"
      },
      "execution_count": null,
      "outputs": []
    },
    {
      "cell_type": "markdown",
      "source": [
        "4. 피봇(pivot) 테이블을 사용하여 날짜별 회사의 평균 종가를 계산하세요."
      ],
      "metadata": {
        "id": "MKRqbhEgQkH-"
      }
    },
    {
      "cell_type": "code",
      "source": [
        "# 답을 작성하세요.\n",
        "answer4 ="
      ],
      "metadata": {
        "id": "US3IOgI0QwEI"
      },
      "execution_count": null,
      "outputs": []
    },
    {
      "cell_type": "code",
      "source": [
        "# 테스트\n",
        "print(answer4)"
      ],
      "metadata": {
        "id": "bfkv3itdQ0ME"
      },
      "execution_count": null,
      "outputs": []
    },
    {
      "cell_type": "markdown",
      "source": [
        "5. 다음 피벗 테이블을 다음과 같은 형태로 복구하세요.\n",
        "\n",
        "|-|Date|Company|Close|\n",
        "|---|---|---|---|\n",
        "|0 |2024-01-01|A|100|\n",
        "|1 |2024-01-02|A|110|\n",
        "|2 |2024-01-03|A|105|\n",
        "|3 |2024-01-04|A|115|\n",
        "|4 |2024-01-01|B|150|\n",
        "|5 |2024-01-02|B|160|\n",
        "|6 |2024-01-03|B|155|\n",
        "|7 |2024-01-04|B|165|\n",
        "|8 |2024-01-01|C|200|\n",
        "|9 |2024-01-02|C|210|\n",
        "|10|2024-01-03|C|205|\n",
        "|11|2024-01-04|C|215|"
      ],
      "metadata": {
        "id": "k39MfVUBXmdn"
      }
    },
    {
      "cell_type": "code",
      "source": [
        "# 답을 작성하세요.\n",
        "answer5 =\n",
        "print(answer5)"
      ],
      "metadata": {
        "id": "dM23Esf8XspD"
      },
      "execution_count": null,
      "outputs": []
    },
    {
      "cell_type": "markdown",
      "source": [
        "6. 각 회사별 일별 종가 변동(최대 종가 - 최소 종가)을 계산하세요."
      ],
      "metadata": {
        "id": "nxExSBTMQ3Me"
      }
    },
    {
      "cell_type": "code",
      "source": [
        "# 답을 작성하세요.\n",
        "answer6 ="
      ],
      "metadata": {
        "id": "haivw8KfQ26W"
      },
      "execution_count": null,
      "outputs": []
    },
    {
      "cell_type": "code",
      "source": [
        "# 테스트\n",
        "print(answer6)"
      ],
      "metadata": {
        "id": "NJUP9UhvQ9o0"
      },
      "execution_count": null,
      "outputs": []
    },
    {
      "cell_type": "markdown",
      "source": [
        "7. 각 회사별 거래량 합계가 5000 이상인 회사만 선택하세요."
      ],
      "metadata": {
        "id": "WNOp2aGKRLad"
      }
    },
    {
      "cell_type": "code",
      "source": [
        "# 답을 작성하세요.\n",
        "answer7 ="
      ],
      "metadata": {
        "id": "aAqo0wFsROnI"
      },
      "execution_count": null,
      "outputs": []
    },
    {
      "cell_type": "code",
      "source": [
        "# 테스트\n",
        "print(answer7)"
      ],
      "metadata": {
        "id": "PDd_drgvRRJR"
      },
      "execution_count": null,
      "outputs": []
    },
    {
      "cell_type": "markdown",
      "source": [],
      "metadata": {
        "id": "f17MUjvwfesE"
      }
    }
  ]
}