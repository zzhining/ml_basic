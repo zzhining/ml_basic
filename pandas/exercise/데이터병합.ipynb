{
  "nbformat": 4,
  "nbformat_minor": 0,
  "metadata": {
    "colab": {
      "provenance": [],
      "include_colab_link": true
    },
    "kernelspec": {
      "name": "python3",
      "display_name": "Python 3"
    },
    "language_info": {
      "name": "python"
    }
  },
  "cells": [
    {
      "cell_type": "markdown",
      "metadata": {
        "id": "view-in-github",
        "colab_type": "text"
      },
      "source": [
        "<a href=\"https://colab.research.google.com/github/zzhining/ml_basic/blob/main/pandas/exercise/%EB%8D%B0%EC%9D%B4%ED%84%B0%EB%B3%91%ED%95%A9.ipynb\" target=\"_parent\"><img src=\"https://colab.research.google.com/assets/colab-badge.svg\" alt=\"Open In Colab\"/></a>"
      ]
    },
    {
      "cell_type": "markdown",
      "source": [
        "1. 두 개의 주가 데이터프레임 df1과 df2가 있습니다. df1은 Date, Open, Close 열을 가지고 있고, df2는 Date, High, Low 열을 가지고 있습니다. 이 두 데이터프레임을 날짜를 기준으로 병합하여 새로운 데이터프레임을 생성하세요."
      ],
      "metadata": {
        "id": "EjSfLi6hvcfj"
      }
    },
    {
      "cell_type": "code",
      "execution_count": null,
      "metadata": {
        "id": "bL_xpC2fvW0Z"
      },
      "outputs": [],
      "source": [
        "import pandas as pd\n",
        "\n",
        "\n",
        "df1 = pd.DataFrame({\n",
        "    'Date': pd.date_range(start='2023-01-01', periods=15),\n",
        "    'Open': [100, 105, 110, 115, 120, 125, 130, 135, 140, 145, 150, 155, 160, 165, 170],\n",
        "    'Close': [102, 108, 112, 116, 122, 127, 132, 137, 142, 147, 152, 157, 162, 167, 172]\n",
        "})\n",
        "\n",
        "df2 = pd.DataFrame({\n",
        "    'Date': pd.date_range(start='2023-01-01', periods=15),\n",
        "    'High': [105, 110, 115, 120, 125, 130, 135, 140, 145, 150, 155, 160, 165, 170, 175],\n",
        "    'Low': [98, 103, 108, 113, 118, 123, 128, 133, 138, 143, 148, 153, 158, 163, 168]\n",
        "})"
      ]
    },
    {
      "cell_type": "code",
      "source": [
        "# 답을 작성하세요\n",
        "answer1 ="
      ],
      "metadata": {
        "id": "79FAhLTCvz09"
      },
      "execution_count": null,
      "outputs": []
    },
    {
      "cell_type": "code",
      "source": [
        "# 테스트\n",
        "print(answer1)"
      ],
      "metadata": {
        "collapsed": true,
        "id": "SQkKZG7_v6VN"
      },
      "execution_count": null,
      "outputs": []
    },
    {
      "cell_type": "markdown",
      "source": [
        "2. 주가 데이터프레임 df1과 기업 정보 데이터프레임 df2가 있습니다. df1은 Date, Close 열을 가지고 있고, df2는 Ticker (주식 코드), Sector (업종) 열을 가지고 있습니다. 이 두 데이터프레임을 주식 코드를 기준으로 병합하여 새로운 데이터프레임을 생성하세요."
      ],
      "metadata": {
        "id": "BGOCHIKWwAou"
      }
    },
    {
      "cell_type": "code",
      "source": [
        "df1 = pd.DataFrame({\n",
        "    'Date': pd.date_range(start='2023-01-01', periods=15),\n",
        "    'Close': [100, 105, 110, 115, 120, 125, 130, 135, 140, 145, 150, 155, 160, 165, 170],\n",
        "    'Ticker': ['AAPL', 'AAPL', 'AAPL', 'AAPL', 'AAPL', 'GOOGL', 'GOOGL', 'GOOGL', 'GOOGL', 'GOOGL', 'MSFT', 'MSFT', 'MSFT', 'MSFT', 'MSFT']\n",
        "})\n",
        "\n",
        "df2 = pd.DataFrame({\n",
        "    'Ticker': ['AAPL', 'GOOGL', 'MSFT'],\n",
        "    'Sector': ['Technology', 'Technology', 'Technology']\n",
        "})"
      ],
      "metadata": {
        "collapsed": true,
        "id": "qcNzOSebwGnz"
      },
      "execution_count": null,
      "outputs": []
    },
    {
      "cell_type": "code",
      "source": [
        "# 답을 작성하세요\n",
        "answer2 ="
      ],
      "metadata": {
        "id": "XMfvas5SwYdc"
      },
      "execution_count": null,
      "outputs": []
    },
    {
      "cell_type": "code",
      "source": [
        "\n",
        "print(answer2)"
      ],
      "metadata": {
        "colab": {
          "base_uri": "https://localhost:8080/"
        },
        "id": "fZc40iWKwfe9",
        "outputId": "9a64ed06-0a31-4b34-ffec-7e5c93878972"
      },
      "execution_count": null,
      "outputs": [
        {
          "output_type": "stream",
          "name": "stdout",
          "text": [
            "         Date  Close Ticker      Sector\n",
            "0  2023-01-01    100   AAPL  Technology\n",
            "1  2023-01-02    105   AAPL  Technology\n",
            "2  2023-01-03    110   AAPL  Technology\n",
            "3  2023-01-04    115   AAPL  Technology\n",
            "4  2023-01-05    120   AAPL  Technology\n",
            "5  2023-01-06    125  GOOGL  Technology\n",
            "6  2023-01-07    130  GOOGL  Technology\n",
            "7  2023-01-08    135  GOOGL  Technology\n",
            "8  2023-01-09    140  GOOGL  Technology\n",
            "9  2023-01-10    145  GOOGL  Technology\n",
            "10 2023-01-11    150   MSFT  Technology\n",
            "11 2023-01-12    155   MSFT  Technology\n",
            "12 2023-01-13    160   MSFT  Technology\n",
            "13 2023-01-14    165   MSFT  Technology\n",
            "14 2023-01-15    170   MSFT  Technology\n"
          ]
        }
      ]
    },
    {
      "cell_type": "markdown",
      "source": [
        "3. 주가 데이터프레임 df1과 투자자 정보 데이터프레임 df2가 있습니다. df1은 Date, Close 열을 가지고 있고, df2는 Date, Investor (투자자명), Shares (보유 주식 수) 열을 가지고 있습니다. 이 두 데이터프레임을 날짜와 투자자명을 기준으로 병합하여 새로운 데이터프레임을 생성하세요."
      ],
      "metadata": {
        "id": "zUhNjqS9wiiC"
      }
    },
    {
      "cell_type": "code",
      "source": [
        "df1 = pd.DataFrame({\n",
        "    'Date': pd.date_range(start='2023-01-01', periods=15),\n",
        "    'Investor': ['John', 'John', 'Alice', 'Alice', 'Bob', 'Bob', 'Jane', 'Jane', 'Eve', 'Eve', 'John', 'Alice', 'Bob', 'Jane', 'Eve'],\n",
        "    'Close': [100, 105, 110, 115, 120, 125, 130, 135, 140, 145, 150, 155, 160, 165, 170]\n",
        "})\n",
        "\n",
        "df2 = pd.DataFrame({\n",
        "    'Date': pd.date_range(start='2023-01-01', periods=15),\n",
        "    'Investor': ['John', 'John', 'Alice', 'Alice', 'Bob', 'Bob', 'Jane', 'Jane', 'Eve', 'Eve', 'John', 'Alice', 'Bob', 'Jane', 'Eve'],\n",
        "    'Shares': [100, 120, 130, 110, 105, 115, 125, 130, 140, 150, 135, 145, 155, 165, 175]\n",
        "})"
      ],
      "metadata": {
        "id": "rlZz8duJwqGX"
      },
      "execution_count": null,
      "outputs": []
    },
    {
      "cell_type": "code",
      "source": [
        "# 답을 작성하세요\n",
        "answer3 ="
      ],
      "metadata": {
        "id": "DIg4CgdQwwUB"
      },
      "execution_count": null,
      "outputs": []
    },
    {
      "cell_type": "code",
      "source": [
        "# 테스트\n",
        "print(answer3)"
      ],
      "metadata": {
        "id": "8dT1nGYSw0t7"
      },
      "execution_count": null,
      "outputs": []
    },
    {
      "cell_type": "markdown",
      "source": [
        "4. 위 두 데이터프레임에서 날짜 기준으로 왼쪽 외부 조인을 하여 새로운 데이터프레임을 생성하세요."
      ],
      "metadata": {
        "id": "0S-SvM-VzfTD"
      }
    },
    {
      "cell_type": "code",
      "source": [
        "# 답을 작성하세요.\n",
        "answer4 ="
      ],
      "metadata": {
        "id": "pnxQunRUzmua"
      },
      "execution_count": null,
      "outputs": []
    },
    {
      "cell_type": "code",
      "source": [
        "# 테스트\n",
        "print(answer4)"
      ],
      "metadata": {
        "id": "Kdok_I0xzolE"
      },
      "execution_count": null,
      "outputs": []
    },
    {
      "cell_type": "markdown",
      "source": [
        "5. 두 개의 주가 데이터프레임 df1과 df2가 있습니다. df1은 Date, Close 열을 가지고 있고, df2는 Date, Open 열을 가지고 있습니다. df1과 df2를 날짜를 기준으로 수직으로 병합하여 새로운 데이터프레임을 생성하세요."
      ],
      "metadata": {
        "id": "J7c9gNLB0GZF"
      }
    },
    {
      "cell_type": "code",
      "source": [
        "df1 = pd.DataFrame({\n",
        "    'Date': pd.date_range(start='2023-01-01', periods=15),\n",
        "    'Close': [100, 105, 110, 115, 120, 125, 130, 135, 140, 145, 150, 155, 160, 165, 170]\n",
        "})\n",
        "\n",
        "df2 = pd.DataFrame({\n",
        "    'Date': pd.date_range(start='2023-01-01', periods=15),\n",
        "    'Open': [98, 103, 108, 113, 118, 123, 128, 133, 138, 143, 148, 153, 158, 163, 168]\n",
        "})"
      ],
      "metadata": {
        "id": "9AcEhxZH0J8w"
      },
      "execution_count": null,
      "outputs": []
    },
    {
      "cell_type": "code",
      "source": [
        "# 답을 작성하세요.\n",
        "answer5 ="
      ],
      "metadata": {
        "id": "vPsJT8WE0Kwq"
      },
      "execution_count": null,
      "outputs": []
    },
    {
      "cell_type": "code",
      "source": [
        "# 테스트\n",
        "print(answer5)"
      ],
      "metadata": {
        "id": "FueAtBcq0K9i"
      },
      "execution_count": null,
      "outputs": []
    },
    {
      "cell_type": "markdown",
      "source": [
        "6. 주가 데이터프레임 df1과 주가 데이터프레임 df2가 있습니다. df1은 Date, Ticker, Close 열을 가지고 있고, df2는 Date, Ticker, Open, High, Low 열을 가지고 있습니다. 두 데이터프레임을 날짜와 티커를 기준으로 병합하고, 결과 데이터프레임을 Ticker와 Date 기준으로 정렬하세요."
      ],
      "metadata": {
        "id": "pggAWR8237i0"
      }
    },
    {
      "cell_type": "code",
      "source": [
        "df1 = pd.DataFrame({\n",
        "    'Date': pd.date_range(start='2023-01-01', periods=10),\n",
        "    'Ticker': ['AAPL', 'AAPL', 'GOOGL', 'GOOGL', 'MSFT', 'MSFT', 'AAPL', 'GOOGL', 'MSFT', 'AAPL'],\n",
        "    'Close': [100, 105, 110, 115, 120, 125, 130, 135, 140, 145]\n",
        "})\n",
        "\n",
        "df2 = pd.DataFrame({\n",
        "    'Date': pd.date_range(start='2023-01-01', periods=10),\n",
        "    'Ticker': ['AAPL', 'AAPL', 'GOOGL', 'GOOGL', 'MSFT', 'MSFT', 'AAPL', 'GOOGL', 'MSFT', 'AAPL'],\n",
        "    'Open': [98, 103, 108, 113, 118, 123, 128, 133, 138, 143],\n",
        "    'High': [102, 108, 112, 118, 122, 128, 132, 138, 144, 148],\n",
        "    'Low': [97, 102, 107, 112, 117, 122, 127, 132, 137, 142]\n",
        "})\n",
        "\n"
      ],
      "metadata": {
        "id": "lzw-lFRi3_3Q"
      },
      "execution_count": null,
      "outputs": []
    },
    {
      "cell_type": "code",
      "source": [
        "answer6 =\n",
        "print(answer6)"
      ],
      "metadata": {
        "colab": {
          "base_uri": "https://localhost:8080/"
        },
        "id": "YqiVqwTY4A2J",
        "outputId": "a51ea56c-6740-4ee2-9d7a-f3933cb8f2f9"
      },
      "execution_count": null,
      "outputs": [
        {
          "output_type": "stream",
          "name": "stdout",
          "text": [
            "        Date Ticker  Close  Open  High  Low\n",
            "0 2023-01-01   AAPL    100    98   102   97\n",
            "1 2023-01-02   AAPL    105   103   108  102\n",
            "6 2023-01-07   AAPL    130   128   132  127\n",
            "9 2023-01-10   AAPL    145   143   148  142\n",
            "2 2023-01-03  GOOGL    110   108   112  107\n",
            "3 2023-01-04  GOOGL    115   113   118  112\n",
            "7 2023-01-08  GOOGL    135   133   138  132\n",
            "4 2023-01-05   MSFT    120   118   122  117\n",
            "5 2023-01-06   MSFT    125   123   128  122\n",
            "8 2023-01-09   MSFT    140   138   144  137\n"
          ]
        }
      ]
    },
    {
      "cell_type": "markdown",
      "source": [
        "7. 주가 데이터프레임 df1과 거래량 데이터프레임 df2가 있습니다. df1은 Date, Ticker, Close 열을 가지고 있고, df2는 Date, Ticker, Volume 열을 가지고 있습니다. 두 데이터프레임을 날짜와 티커를 기준으로 병합하고, 결측값을 0으로 채우세요."
      ],
      "metadata": {
        "id": "EpqwH7CA4aD7"
      }
    },
    {
      "cell_type": "code",
      "source": [
        "df1 = pd.DataFrame({\n",
        "    'Date': pd.date_range(start='2023-01-01', periods=10),\n",
        "    'Ticker': ['AAPL', 'AAPL', 'AAPL', 'GOOGL', 'GOOGL', 'GOOGL', 'MSFT', 'MSFT', 'MSFT', 'MSFT'],\n",
        "    'Close': [100, 105, 110, 115, 120, 125, 130, 135, 140, 145]\n",
        "})\n",
        "\n",
        "df2 = pd.DataFrame({\n",
        "    'Date': pd.date_range(start='2023-01-03', periods=8),\n",
        "    'Ticker': ['AAPL', 'AAPL', 'GOOGL', 'GOOGL', 'MSFT', 'MSFT', 'MSFT', 'MSFT'],\n",
        "    'Volume': [10000, 12000, 13000, 11000, 10500, 11500, 12500, 13000]\n",
        "})"
      ],
      "metadata": {
        "id": "0x0xgJ5H4d92"
      },
      "execution_count": null,
      "outputs": []
    },
    {
      "cell_type": "code",
      "source": [
        "answer7 =\n",
        "print(answer7)"
      ],
      "metadata": {
        "colab": {
          "base_uri": "https://localhost:8080/"
        },
        "id": "x830sals4esh",
        "outputId": "b4c553eb-5b21-4ffe-edcf-e62c53342a15"
      },
      "execution_count": null,
      "outputs": [
        {
          "output_type": "stream",
          "name": "stdout",
          "text": [
            "         Date Ticker  Close   Volume\n",
            "0  2023-01-01   AAPL  100.0      0.0\n",
            "1  2023-01-02   AAPL  105.0      0.0\n",
            "2  2023-01-03   AAPL  110.0  10000.0\n",
            "3  2023-01-04  GOOGL  115.0      0.0\n",
            "4  2023-01-05  GOOGL  120.0  13000.0\n",
            "5  2023-01-06  GOOGL  125.0  11000.0\n",
            "6  2023-01-07   MSFT  130.0  10500.0\n",
            "7  2023-01-08   MSFT  135.0  11500.0\n",
            "8  2023-01-09   MSFT  140.0  12500.0\n",
            "9  2023-01-10   MSFT  145.0  13000.0\n",
            "10 2023-01-04   AAPL    0.0  12000.0\n"
          ]
        }
      ]
    },
    {
      "cell_type": "markdown",
      "source": [
        "@.주가 데이터프레임 df1과 주가 데이터프레임 df2가 있습니다. df1은 Date, Ticker, Close 열을 가지고 있고, df2는 Date, Ticker, Close 열을 가지고 있습니다. df1과 df2의 Close 열 이름을 각각 Close_A와 Close_B로 변경하여 날짜와 티커를 기준으로 병합하고, Close_A와 Close_B의 차이를 계산하여 새로운 열 Close_Diff를 추가하세요."
      ],
      "metadata": {
        "id": "FdiwNXx55Xi3"
      }
    },
    {
      "cell_type": "code",
      "source": [
        "df1 = pd.DataFrame({\n",
        "    'Date': pd.date_range(start='2023-01-01', periods=10),\n",
        "    'Ticker': ['AAPL', 'AAPL', 'GOOGL', 'GOOGL', 'MSFT', 'MSFT', 'AAPL', 'GOOGL', 'MSFT', 'AAPL'],\n",
        "    'Close': [100, 105, 110, 115, 120, 125, 130, 135, 140, 145]\n",
        "})\n",
        "\n",
        "df2 = pd.DataFrame({\n",
        "    'Date': pd.date_range(start='2023-01-01', periods=10),\n",
        "    'Ticker': ['AAPL', 'AAPL', 'GOOGL', 'GOOGL', 'MSFT', 'MSFT', 'AAPL', 'GOOGL', 'MSFT', 'AAPL'],\n",
        "    'Close': [101, 106, 111, 116, 121, 126, 131, 136, 141, 146]\n",
        "})"
      ],
      "metadata": {
        "id": "KESWxmeu5bGQ"
      },
      "execution_count": null,
      "outputs": []
    },
    {
      "cell_type": "code",
      "source": [
        "# 답을 작성하세요\n",
        "merged_df ="
      ],
      "metadata": {
        "id": "E6-_Bhk55dYs"
      },
      "execution_count": null,
      "outputs": []
    },
    {
      "cell_type": "code",
      "source": [
        "print(merged_df)"
      ],
      "metadata": {
        "id": "3XQ8wdYs5mRq"
      },
      "execution_count": null,
      "outputs": []
    }
  ]
}