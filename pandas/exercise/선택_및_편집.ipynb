{
  "nbformat": 4,
  "nbformat_minor": 0,
  "metadata": {
    "colab": {
      "provenance": [],
      "include_colab_link": true
    },
    "kernelspec": {
      "name": "python3",
      "display_name": "Python 3"
    },
    "language_info": {
      "name": "python"
    }
  },
  "cells": [
    {
      "cell_type": "markdown",
      "metadata": {
        "id": "view-in-github",
        "colab_type": "text"
      },
      "source": [
        "<a href=\"https://colab.research.google.com/github/zzhining/ml_basic/blob/main/pandas/exercise/%EC%84%A0%ED%83%9D_%EB%B0%8F_%ED%8E%B8%EC%A7%91.ipynb\" target=\"_parent\"><img src=\"https://colab.research.google.com/assets/colab-badge.svg\" alt=\"Open In Colab\"/></a>"
      ]
    },
    {
      "cell_type": "markdown",
      "source": [
        "**A. 주어진 주가 데이터를 이용해 특정 조건에 맞는 데이터의 부분 집합을 추출하는 파이썬 코드를 작성하세요.**"
      ],
      "metadata": {
        "id": "sTqi5FFlruay"
      }
    },
    {
      "cell_type": "markdown",
      "source": [
        "|Date|Open|Close|High|Low|Volume|\n",
        "|---|---|---|---|---|---|\n",
        "|2024-06-06|152|155|158|151|3100000|\n",
        "|2024-06-07|154|156|160|153|3300000|\n",
        "|2024-06-08|157|159|161|156|3400000|\n",
        "|2024-06-09|158|162|164|157|3200000|\n",
        "|2024-06-10|160|161|163|159|3500000|\n",
        "|2024-06-11|161|164|166|160|3600000|\n",
        "|2024-06-12|159|162|165|158|3700000|\n",
        "|2024-06-13|160|161|164|157|3800000|"
      ],
      "metadata": {
        "id": "muvxmc89rWcP"
      }
    },
    {
      "cell_type": "code",
      "execution_count": null,
      "metadata": {
        "id": "Ge0CkAyjqm-H"
      },
      "outputs": [],
      "source": [
        "data1 = {\n",
        "    'Date': ['2024-06-06', '2024-06-07', '2024-06-08', '2024-06-09', '2024-06-10', '2024-06-11', '2024-06-12', '2024-06-13'],\n",
        "    'Open': [152, 154, 157, 158, 160, 161, 159, 160],\n",
        "    'Close': [155, 156, 159, 162, 161, 164, 162, 161],\n",
        "    'High': [158, 160, 161, 164, 163, 166, 165, 164],\n",
        "    'Low': [151, 153, 156, 157, 159, 160, 158, 157],\n",
        "    'Volume': [3100000, 3300000, 3400000, 3200000, 3500000, 3600000, 3700000, 3800000]\n",
        "}"
      ]
    },
    {
      "cell_type": "markdown",
      "source": [
        "1. 'Volume' 열의 값이 3500000 이상인 행(row)들을 추출하여 새로운 데이터프레임을 만드세요."
      ],
      "metadata": {
        "id": "qr1qVSQsrpJE"
      }
    },
    {
      "cell_type": "code",
      "source": [
        "#답을 작성하세요.\n"
      ],
      "metadata": {
        "id": "yE35s5mdriwL"
      },
      "execution_count": null,
      "outputs": []
    },
    {
      "cell_type": "markdown",
      "source": [
        "2. 'Close' 열의 값이 160 이상이고 'High' 열의 값이 165 이하인 행(row)들을 추출하여 새로운 데이터프레임을 만드세요."
      ],
      "metadata": {
        "id": "ZTaG25a5r2nH"
      }
    },
    {
      "cell_type": "code",
      "source": [
        "#답을 작성하세요.\n"
      ],
      "metadata": {
        "id": "xXHKtu3Er5BL"
      },
      "execution_count": null,
      "outputs": []
    },
    {
      "cell_type": "markdown",
      "source": [
        "3. 'Date'가 '2024-06-08' 이후인 행(row)들을 추출하여 새로운 데이터프레임을 만드세요.\n"
      ],
      "metadata": {
        "id": "ySV0NCMysASg"
      }
    },
    {
      "cell_type": "code",
      "source": [
        "#답을 작성하세요.\n"
      ],
      "metadata": {
        "id": "-dD1-sfesDNT"
      },
      "execution_count": null,
      "outputs": []
    },
    {
      "cell_type": "markdown",
      "source": [
        "4. 'Date', 'High', 'Low', 'Diff' 만을 갖는 데이터 프레임 중, 'Diff'의 값이 7 이상인 데이터만 추출하는 데이터프레임을 만드세요. (Diff는 'High' - 'Low')"
      ],
      "metadata": {
        "id": "92qtxomLuKmw"
      }
    },
    {
      "cell_type": "code",
      "source": [
        "#답을 작성하세요.\n"
      ],
      "metadata": {
        "id": "qQ33r62MuHOx"
      },
      "execution_count": null,
      "outputs": []
    },
    {
      "cell_type": "markdown",
      "source": [
        "**B. 주어진 주가 데이터를 이용해 특정 조건에 맞는 데이터의 부분 집합을 추출하는 파이썬 코드를 작성하세요.**"
      ],
      "metadata": {
        "id": "a-4VtQyHt9I9"
      }
    },
    {
      "cell_type": "markdown",
      "source": [
        "|Date|Open|Close|High|Low|Volume|\n",
        "|---|---|---|---|---|---|\n",
        "|2024-06-01|152|155|158|151|3100000|\n",
        "|2024-06-02|154|156|160|153|3300000|\n",
        "|2024-06-03|157|159|161|156|3400000|\n",
        "|2024-06-03|157|159|161|156|3400000|\n",
        "|2024-06-04|158|162|164|157|3200000|\n",
        "|2024-06-05|160|161|163|159|3500000|\n",
        "|2024-06-05|160|161|163|159|3500000|"
      ],
      "metadata": {
        "id": "rD-TMCnIstsh"
      }
    },
    {
      "cell_type": "code",
      "source": [
        "data2 = {\n",
        "    'Date': ['2024-06-01', '2024-06-02', '2024-06-03', '2024-06-03', '2024-06-04', '2024-06-05', '2024-06-05'],\n",
        "    'Open': [152, 154, 157, 157, 158, 160, 160],\n",
        "    'Close': [155, 156, 159, 159, 162, 161, 161],\n",
        "    'High': [158, 160, 161, 161, 164, 163, 163],\n",
        "    'Low': [151, 153, 156, 156, 157, 159, 159],\n",
        "    'Volume': [3100000, 3300000, 3400000, 3400000, 3200000, 3500000, 3500000]\n",
        "}"
      ],
      "metadata": {
        "id": "NXYYmsHHswiX"
      },
      "execution_count": null,
      "outputs": []
    },
    {
      "cell_type": "markdown",
      "source": [
        "5. 위 데이터에서 중복된 데이터의 개수를 출력하는 코드를 만드세요."
      ],
      "metadata": {
        "id": "08Zbll2qzNDg"
      }
    },
    {
      "cell_type": "code",
      "source": [
        "#답을 작성하세요.\n"
      ],
      "metadata": {
        "id": "HoAfa7SMxn9Y"
      },
      "execution_count": null,
      "outputs": []
    },
    {
      "cell_type": "markdown",
      "source": [
        "6. 중복된 행(row)을 제거한 데이터프레임을 만드세요."
      ],
      "metadata": {
        "id": "7bgB-A1NzPEF"
      }
    },
    {
      "cell_type": "code",
      "source": [
        "#답을 작성하세요.\n"
      ],
      "metadata": {
        "id": "a7f1XavPtHpe"
      },
      "execution_count": null,
      "outputs": []
    },
    {
      "cell_type": "markdown",
      "source": [
        "7. 중복된 행을 제거하기 전과 후의 데이터프레임의 크기를 출력하세요."
      ],
      "metadata": {
        "id": "0voLRsMgtMP9"
      }
    },
    {
      "cell_type": "code",
      "source": [
        "#답을 작성하세요.\n"
      ],
      "metadata": {
        "id": "D99osaWmtuzZ"
      },
      "execution_count": null,
      "outputs": []
    },
    {
      "cell_type": "markdown",
      "source": [
        "@. data2에서 'Volume' 열이 3500000인 행을 제거한 후, 날짜('Date')와 'Close' 열을 기준으로 중복된 행을 제거하세요. 중복된 행이 여러 개 있다면 가장 최근의 행을 유지하는 코드를 만드세요"
      ],
      "metadata": {
        "id": "w1lnSNRKtva9"
      }
    },
    {
      "cell_type": "code",
      "source": [
        "# 답을 작성하세요\n"
      ],
      "metadata": {
        "id": "3fBkzlx_ysg2"
      },
      "execution_count": null,
      "outputs": []
    },
    {
      "cell_type": "code",
      "source": [
        "df_filtered = df[df['Volume'] != 3500000].drop_duplicates(subset=['Date', 'Close'], keep='last')"
      ],
      "metadata": {
        "id": "K7Umur0YzFkt"
      },
      "execution_count": null,
      "outputs": []
    }
  ]
}