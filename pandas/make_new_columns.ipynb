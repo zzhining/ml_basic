{
  "cells": [
    {
      "cell_type": "markdown",
      "metadata": {
        "id": "view-in-github",
        "colab_type": "text"
      },
      "source": [
        "<a href=\"https://colab.research.google.com/github/zzhining/ml_basic/blob/main/pandas/make_new_columns.ipynb\" target=\"_parent\"><img src=\"https://colab.research.google.com/assets/colab-badge.svg\" alt=\"Open In Colab\"/></a>"
      ]
    },
    {
      "cell_type": "markdown",
      "metadata": {
        "id": "9dGKhYBACK9h"
      },
      "source": [
        "# 데이터 준비"
      ]
    },
    {
      "cell_type": "code",
      "execution_count": null,
      "metadata": {
        "id": "5_jbvpgzCK9k"
      },
      "outputs": [],
      "source": [
        "import pandas as pd\n",
        "df = pd.read_csv(\"https://raw.githubusercontent.com/zzhining/ml_basic/main/dataset/insurance.csv\")\n",
        "df.head()"
      ]
    },
    {
      "cell_type": "markdown",
      "source": [
        "# 신규 컬럼 추가\n",
        "`new` 컬럼: 0부터 순차적으로 증가하는 숫자로 채워짐"
      ],
      "metadata": {
        "id": "sfGO1aEgJVM8"
      }
    },
    {
      "cell_type": "code",
      "source": [],
      "metadata": {
        "id": "kqlgqrjjJYTV"
      },
      "execution_count": null,
      "outputs": []
    },
    {
      "cell_type": "markdown",
      "metadata": {
        "id": "oGTGxI3HCK-E"
      },
      "source": [
        "# 개별화(Discretization) and 양자화(Binning)"
      ]
    },
    {
      "cell_type": "markdown",
      "source": [
        "## cut"
      ],
      "metadata": {
        "id": "wN9qJ91ANAa-"
      }
    },
    {
      "cell_type": "code",
      "execution_count": null,
      "metadata": {
        "id": "p-mjyadpCK-E"
      },
      "outputs": [],
      "source": [
        "ages = [20, 22, 25, 27, 21, 23, 37, 31, 61, 45, 41, 32]"
      ]
    },
    {
      "cell_type": "code",
      "execution_count": null,
      "metadata": {
        "id": "7SznquKNCK-E"
      },
      "outputs": [],
      "source": [
        "bins = [18, 25, 35, 60, 100]\n",
        "categories = pd.cut(ages, bins)\n",
        "categories"
      ]
    },
    {
      "cell_type": "code",
      "execution_count": null,
      "metadata": {
        "id": "qC0MRjHDCK-E"
      },
      "outputs": [],
      "source": [
        "categories.codes"
      ]
    },
    {
      "cell_type": "code",
      "execution_count": null,
      "metadata": {
        "id": "zNCLuuhpCK-E"
      },
      "outputs": [],
      "source": [
        "categories.categories"
      ]
    },
    {
      "cell_type": "code",
      "execution_count": null,
      "metadata": {
        "id": "6y2GwzWICK-E"
      },
      "outputs": [],
      "source": [
        "pd.value_counts(categories)"
      ]
    },
    {
      "cell_type": "code",
      "execution_count": null,
      "metadata": {
        "id": "EJm8WLOfCK-F"
      },
      "outputs": [],
      "source": [
        "pd.cut(ages, bins, right=False)"
      ]
    },
    {
      "cell_type": "code",
      "execution_count": null,
      "metadata": {
        "id": "2ameIqDbCK-F"
      },
      "outputs": [],
      "source": [
        "group_names = ['Youth', 'YoungAdult', 'MiddleAged', 'Senior']\n",
        "pd.cut(ages, bins, labels=group_names)"
      ]
    },
    {
      "cell_type": "markdown",
      "source": [
        "`df['age']`에 bin 적용"
      ],
      "metadata": {
        "id": "qFR7G4K9MGFD"
      }
    },
    {
      "cell_type": "code",
      "source": [],
      "metadata": {
        "id": "GyX2KVFJMFlr"
      },
      "execution_count": null,
      "outputs": []
    },
    {
      "cell_type": "markdown",
      "source": [
        "## qcut"
      ],
      "metadata": {
        "id": "xDPTLPz3NCtp"
      }
    },
    {
      "cell_type": "code",
      "source": [
        "pd.qcut(df['age'], 4)"
      ],
      "metadata": {
        "id": "94MF2BXKM05y"
      },
      "execution_count": null,
      "outputs": []
    },
    {
      "cell_type": "code",
      "execution_count": null,
      "metadata": {
        "id": "HScm1XI6CK-H"
      },
      "outputs": [],
      "source": []
    }
  ],
  "metadata": {
    "kernelspec": {
      "display_name": "Python 3",
      "language": "python",
      "name": "python3"
    },
    "language_info": {
      "codemirror_mode": {
        "name": "ipython",
        "version": 3
      },
      "file_extension": ".py",
      "mimetype": "text/x-python",
      "name": "python",
      "nbconvert_exporter": "python",
      "pygments_lexer": "ipython3",
      "version": "3.8.5"
    },
    "toc": {
      "base_numbering": 1,
      "nav_menu": {},
      "number_sections": false,
      "sideBar": true,
      "skip_h1_title": false,
      "title_cell": "Table of Contents",
      "title_sidebar": "Contents",
      "toc_cell": false,
      "toc_position": {
        "height": "calc(100% - 180px)",
        "left": "10px",
        "top": "150px",
        "width": "318.45px"
      },
      "toc_section_display": true,
      "toc_window_display": true
    },
    "colab": {
      "provenance": [],
      "toc_visible": true,
      "include_colab_link": true
    }
  },
  "nbformat": 4,
  "nbformat_minor": 0
}