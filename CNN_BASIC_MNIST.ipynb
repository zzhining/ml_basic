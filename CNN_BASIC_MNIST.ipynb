{
  "nbformat": 4,
  "nbformat_minor": 0,
  "metadata": {
    "colab": {
      "private_outputs": true,
      "provenance": [],
      "collapsed_sections": [],
      "toc_visible": true,
      "authorship_tag": "ABX9TyPW5AC8cUvVOBpOYjYfYn4H",
      "include_colab_link": true
    },
    "kernelspec": {
      "name": "python3",
      "display_name": "Python 3"
    },
    "language_info": {
      "name": "python"
    },
    "accelerator": "GPU"
  },
  "cells": [
    {
      "cell_type": "markdown",
      "metadata": {
        "id": "view-in-github",
        "colab_type": "text"
      },
      "source": [
        "<a href=\"https://colab.research.google.com/github/zzhining/ml_basic/blob/main/CNN_BASIC_MNIST.ipynb\" target=\"_parent\"><img src=\"https://colab.research.google.com/assets/colab-badge.svg\" alt=\"Open In Colab\"/></a>"
      ]
    },
    {
      "cell_type": "markdown",
      "source": [
        "# 실습 00 - Basic Conv Net\n",
        "\n",
        "## 실습내용\n",
        "-----\n",
        "- AlexNet을 사용하여 이미지를 학습하고 10개의 카테고리를 갖는 이미지를 분류하는 이미지 분류기를 생성합니다.\n",
        "- 데이터셋: [MNIST](https://pytorch.org/vision/0.9/datasets.html#mnist)\n",
        "\n",
        "\n",
        "------\n",
        "**[reference]**\n",
        "- https://tutorials.pytorch.kr/beginner/basics/buildmodel_tutorial.html\n",
        "- https://tutorials.pytorch.kr/beginner/basics/data_tutorial.html\n",
        "- https://medium.com/@djin31/how-to-plot-wholesome-confusion-matrix-40134fd402a8\n"
      ],
      "metadata": {
        "id": "dN3ZQlftiUvA"
      }
    },
    {
      "cell_type": "markdown",
      "source": [
        "## [Step1] 라이브러리 및 데이터 불러오기\n",
        "\n",
        "**[torch.nn](https://pytorch.org/docs/stable/nn.html)** :  신경망을 생성하기 위한 기본 재료들을 제공(Modules, Sequential, Layer, Activations, Loss, Dropout...)\n",
        "\n",
        "\n",
        "\n",
        "**[torchvision.datasets](https://pytorch.org/vision/0.9/datasets.html#fashion-mnist)** : torchvision.transforms를 사용해 변형이 가능한 형태, feature와 label을 반환\n",
        "\n",
        "**[torchvision.transforms](https://tutorials.pytorch.kr/beginner/basics/transforms_tutorial.html)**\n",
        "\n",
        "* ToTensor() : ndarray를 FloatTensor로 변환하고 이미지 픽셀 크기를 [0., 1.]범위로 조정(scale)"
      ],
      "metadata": {
        "id": "d6HMrwnVi_GJ"
      }
    },
    {
      "cell_type": "code",
      "execution_count": null,
      "metadata": {
        "id": "UdsAY_OFiAwA"
      },
      "outputs": [],
      "source": [
        "import numpy as np\n",
        "import matplotlib.pyplot as plt\n",
        "\n",
        "import torch\n",
        "from torch.utils.data import DataLoader\n",
        "from torch import nn\n",
        "\n",
        "from torchvision import datasets\n",
        "from torchvision.transforms import transforms\n",
        "from torchvision.transforms.functional import to_pil_image"
      ]
    },
    {
      "cell_type": "code",
      "source": [
        "%load_ext tensorboard\n",
        "from torch.utils.tensorboard import SummaryWriter"
      ],
      "metadata": {
        "id": "ekYeiz2P3jzf"
      },
      "execution_count": null,
      "outputs": []
    },
    {
      "cell_type": "markdown",
      "source": [
        "### MNIST 데이터 불러오기"
      ],
      "metadata": {
        "id": "13eCjIls7vja"
      }
    },
    {
      "cell_type": "code",
      "source": [
        "train_img = datasets.MNIST(\n",
        "    root = 'data',\n",
        "    train = True,\n",
        "    download = True,\n",
        "    transform = transforms.ToTensor(),\n",
        ")\n",
        "\n",
        "test_img = datasets.MNIST(\n",
        "    root = 'data',\n",
        "    train = False,\n",
        "    download = True,\n",
        "    transform = transforms.ToTensor(),\n",
        ")"
      ],
      "metadata": {
        "id": "6Qj7dJoCG6Vg"
      },
      "execution_count": null,
      "outputs": []
    },
    {
      "cell_type": "markdown",
      "source": [
        "### 하이퍼파라미터 셋팅"
      ],
      "metadata": {
        "id": "DjzgqxxYRZ21"
      }
    },
    {
      "cell_type": "code",
      "source": [
        "# 하이퍼파라미터 준비\n",
        "EPOCH = 10\n",
        "BATCH_SIZE = 64\n",
        "LEARNING_RATE = 1e-3\n",
        "DEVICE = torch.device(\"cuda\" if torch.cuda.is_available() else \"cpu\")\n",
        "print(\"Using Device:\", DEVICE)\n",
        "\n",
        "writer = SummaryWriter('log')"
      ],
      "metadata": {
        "id": "pDqQL8xBdXfc"
      },
      "execution_count": null,
      "outputs": []
    },
    {
      "cell_type": "markdown",
      "source": [
        "### DataLoader 만들기"
      ],
      "metadata": {
        "id": "plROYXHy95Xx"
      }
    },
    {
      "cell_type": "code",
      "source": [
        "train_loader = DataLoader(train_img, batch_size = BATCH_SIZE, shuffle = True)\n",
        "test_loader = DataLoader(test_img, batch_size = BATCH_SIZE, shuffle = False)"
      ],
      "metadata": {
        "id": "7Vg9INIm94Nt"
      },
      "execution_count": null,
      "outputs": []
    },
    {
      "cell_type": "markdown",
      "source": [
        "## [Step2] EDA, 데이터 전처리"
      ],
      "metadata": {
        "id": "4D9i0DX3iSlx"
      }
    },
    {
      "cell_type": "code",
      "source": [
        "figure = plt.figure(figsize = (8, 8))\n",
        "cols, rows = 5, 5\n",
        "\n",
        "for i in range(1, cols * rows +1):\n",
        "    sample_idx = torch.randint(len(train_img), size=(1,)).item()\n",
        "    img, label = train_img[sample_idx]\n",
        "    figure.add_subplot(rows, cols, i)\n",
        "    plt.axis('off')\n",
        "    plt.imshow(to_pil_image(img), cmap='gray')\n",
        "plt.show()"
      ],
      "metadata": {
        "id": "RfTEDUTHjILY"
      },
      "execution_count": null,
      "outputs": []
    },
    {
      "cell_type": "markdown",
      "source": [
        "## [Step3] 모델 생성 및 학습"
      ],
      "metadata": {
        "id": "tpRGRkTXjJB0"
      }
    },
    {
      "cell_type": "markdown",
      "source": [
        "#### Model Calss 만들기"
      ],
      "metadata": {
        "id": "AL5zifjmFE_7"
      }
    },
    {
      "cell_type": "code",
      "source": [
        "class ConvNet(nn.Module):\n",
        "\n",
        "    def __init__(self):\n",
        "        super(ConvNet, self).__init__()\n",
        "        self.features = nn.Sequential(\n",
        "            nn.Conv2d(1, 32, kernel_size=5, stride=1, padding=2, bias=False),\n",
        "            nn.ReLU(inplace=True),\n",
        "            nn.Conv2d(32, 32, kernel_size=5, stride=1, padding=2, bias=False),\n",
        "            nn.ReLU(inplace=True),\n",
        "            nn.MaxPool2d(kernel_size=2, stride=2),\n",
        "\n",
        "            nn.Conv2d(32, 64, kernel_size=5, stride=1, padding=2, bias=False),\n",
        "            nn.ReLU(inplace=True),\n",
        "            nn.Conv2d(64, 64, kernel_size=5, stride=1, padding=2, bias=False),\n",
        "            nn.ReLU(inplace=True),\n",
        "            nn.MaxPool2d(kernel_size=2, stride=2),\n",
        "\n",
        "            nn.Conv2d(64, 128, kernel_size=5, stride=1, padding=2, bias=False),\n",
        "            nn.ReLU(inplace=True),\n",
        "            nn.Conv2d(128, 128, kernel_size=5, stride=1, padding=2, bias=False),\n",
        "            nn.ReLU(inplace=True),\n",
        "            nn.MaxPool2d(kernel_size=2, stride=2),\n",
        "        )\n",
        "        \n",
        "        self.classifier = nn.Sequential(\n",
        "            nn.Linear(128 * 3 * 3, 2),\n",
        "            nn.ReLU(inplace=True),\n",
        "            nn.Dropout(p=0.2),            \n",
        "        )\n",
        "\n",
        "        self.output = nn.Sequential(\n",
        "            nn.Linear(2, 10),\n",
        "        )\n",
        "\n",
        "    def forward(self, x):\n",
        "        x = self.features(x)\n",
        "        x = x.view(x.size(0), -1)\n",
        "        x = self.classifier(x)\n",
        "        x = self.output(x)      \n",
        "        return x"
      ],
      "metadata": {
        "id": "BJ9iQln4FEhF"
      },
      "execution_count": null,
      "outputs": []
    },
    {
      "cell_type": "markdown",
      "source": [
        "#### Model instance 생성"
      ],
      "metadata": {
        "id": "svcCPRGxF5ls"
      }
    },
    {
      "cell_type": "code",
      "source": [
        "model = ConvNet().to(DEVICE)\n",
        "print(model)"
      ],
      "metadata": {
        "id": "FDgZ56RzGAN3"
      },
      "execution_count": null,
      "outputs": []
    },
    {
      "cell_type": "markdown",
      "source": [
        "#### Loss Function"
      ],
      "metadata": {
        "id": "gPwh-CXVGtBp"
      }
    },
    {
      "cell_type": "code",
      "source": [
        "loss = nn.CrossEntropyLoss()"
      ],
      "metadata": {
        "id": "RwM8c2TdGseO"
      },
      "execution_count": null,
      "outputs": []
    },
    {
      "cell_type": "markdown",
      "source": [
        "#### Optimizer"
      ],
      "metadata": {
        "id": "QPQlhp0QG0P-"
      }
    },
    {
      "cell_type": "code",
      "source": [
        "optimizer = torch.optim.Adam(model.parameters(), lr = LEARNING_RATE)"
      ],
      "metadata": {
        "id": "ybxOMRHwG2Zv"
      },
      "execution_count": null,
      "outputs": []
    },
    {
      "cell_type": "markdown",
      "source": [
        "#### Training"
      ],
      "metadata": {
        "id": "mz2OUt7nHAcn"
      }
    },
    {
      "cell_type": "code",
      "source": [
        "def train(train_loader, model, loss_fn, optimizer):\n",
        "    model.train()\n",
        "    \n",
        "    size = len(train_loader.dataset)\n",
        "    num_batches = len(test_loader)\n",
        "    train_loss, correct = 0, 0\n",
        "\n",
        "    for batch, (X, y) in enumerate(train_loader):\n",
        "        X, y = X.to(DEVICE), y.to(DEVICE)\n",
        "        _, pred = model(X)\n",
        "        \n",
        "        # 손실 계산\n",
        "        loss = loss_fn(pred, y)\n",
        "        \n",
        "        # 역전파\n",
        "        optimizer.zero_grad()\n",
        "        loss.backward()\n",
        "        optimizer.step()\n",
        "\n",
        "        train_loss += loss.item()\n",
        "        correct += (pred.argmax(1) == y).type(torch.float).sum().item()\n",
        "\n",
        "        if batch % 100 == 0:\n",
        "            loss, current = loss.item(), batch * len(X)\n",
        "            print(f'loss: {loss:>7f}  [{current:>5d}]/{size:5d}')  \n",
        "\n",
        "    train_loss /= num_batches\n",
        "    correct /= size\n",
        "\n",
        "    return train_loss, correct"
      ],
      "metadata": {
        "id": "ikRtBCZAG_iP"
      },
      "execution_count": null,
      "outputs": []
    },
    {
      "cell_type": "markdown",
      "source": [
        "#### Test"
      ],
      "metadata": {
        "id": "AYsz8VDYH-hq"
      }
    },
    {
      "cell_type": "code",
      "source": [
        "def test(test_loader, model, loss_fn):\n",
        "    feature_list = []\n",
        "    label_list = []\n",
        "    model.eval()\n",
        "\n",
        "    size = len(test_loader.dataset)\n",
        "    num_batches = len(test_loader)\n",
        "    test_loss, correct = 0, 0\n",
        "\n",
        "    with torch.no_grad():\n",
        "        for X, y in test_loader:\n",
        "            X, y = X.to(DEVICE), y.to(DEVICE)\n",
        "            _, pred = model(X)\n",
        "            test_loss += loss_fn(pred, y).item()\n",
        "            correct += (pred.argmax(1) == y).type(torch.float).sum().item()\n",
        "            feature_list.append(pred)\n",
        "            label_list.append(y)\n",
        "\n",
        "    test_loss /= num_batches\n",
        "    correct /= size\n",
        "    print(f\"Test Error: \\n Accuracy: {(100*correct):>0.1f}%, Avg loss: {test_loss:8f}\\n\")\n",
        "\n",
        "    feats = torch.cat(feature_list, 0)\n",
        "    labels = torch.cat(label_list, 0)\n",
        "    return test_loss, correct"
      ],
      "metadata": {
        "id": "Sn1ny3mCH92_"
      },
      "execution_count": null,
      "outputs": []
    },
    {
      "cell_type": "markdown",
      "source": [
        "#### 학습 진행하기"
      ],
      "metadata": {
        "id": "7ecAzx8DI_ri"
      }
    },
    {
      "cell_type": "code",
      "source": [
        "for i in range(EPOCH) :\n",
        "    print(f\"Epoch {i+1} \\n------------------------\")\n",
        "    train_loss, train_acc = train(train_loader, model, loss, optimizer)\n",
        "    test_loss, test_acc = test(test_loader, model, loss)\n",
        "\n",
        "    epoch = i+1\n",
        "    writer.add_scalar('Train Loss', train_loss, epoch)\n",
        "    writer.add_scalar('Train Acc', train_acc*100, epoch)\n",
        "    writer.add_scalar('Test Loss', test_loss, epoch)\n",
        "    writer.add_scalar('Test acc', test_acc*100, epoch)\n",
        "print(\"Done!\")"
      ],
      "metadata": {
        "id": "2OtZ9fhmJBeP"
      },
      "execution_count": null,
      "outputs": []
    },
    {
      "cell_type": "code",
      "source": [
        "writer.close()\n",
        "%tensorboard --logdir 'log'"
      ],
      "metadata": {
        "id": "b173Uzfh5p8O"
      },
      "execution_count": null,
      "outputs": []
    },
    {
      "cell_type": "code",
      "source": [],
      "metadata": {
        "id": "k3IiXQfdQOg0"
      },
      "execution_count": null,
      "outputs": []
    }
  ]
}