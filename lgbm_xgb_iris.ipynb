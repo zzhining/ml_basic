{
  "cells": [
    {
      "cell_type": "markdown",
      "metadata": {
        "id": "view-in-github",
        "colab_type": "text"
      },
      "source": [
        "<a href=\"https://colab.research.google.com/github/zzhining/ml_basic/blob/main/lgbm_xgb_iris.ipynb\" target=\"_parent\"><img src=\"https://colab.research.google.com/assets/colab-badge.svg\" alt=\"Open In Colab\"/></a>"
      ]
    },
    {
      "cell_type": "markdown",
      "metadata": {
        "id": "lHKX8QWiCoPe"
      },
      "source": [
        "# LGBMClassifer, XGBClassifier\n",
        "\n",
        "[붓꽃 데이터](https://scikit-learn.org/stable/modules/generated/sklearn.datasets.load_iris.html#sklearn.datasets.load_iris)의 품종을 분류하는 문제를 해결하기 위해 LGBMClassifer를 구현합니다."
      ]
    },
    {
      "cell_type": "markdown",
      "metadata": {
        "id": "zZcfHJDKCoPj"
      },
      "source": [
        "### 데이터 불러오기"
      ]
    },
    {
      "cell_type": "code",
      "execution_count": 1,
      "metadata": {
        "colab": {
          "base_uri": "https://localhost:8080/",
          "height": 206
        },
        "id": "x12X4rv2CoPj",
        "outputId": "2116815c-38d0-4e24-a2ab-522860ca765e"
      },
      "outputs": [
        {
          "output_type": "execute_result",
          "data": {
            "text/plain": [
              "   sepal length (cm)  sepal width (cm)  petal length (cm)  petal width (cm)  \\\n",
              "0                5.1               3.5                1.4               0.2   \n",
              "1                4.9               3.0                1.4               0.2   \n",
              "2                4.7               3.2                1.3               0.2   \n",
              "3                4.6               3.1                1.5               0.2   \n",
              "4                5.0               3.6                1.4               0.2   \n",
              "\n",
              "   label  \n",
              "0      0  \n",
              "1      0  \n",
              "2      0  \n",
              "3      0  \n",
              "4      0  "
            ],
            "text/html": [
              "\n",
              "  <div id=\"df-c2cdc851-6412-4639-92d6-a24fbfce6765\">\n",
              "    <div class=\"colab-df-container\">\n",
              "      <div>\n",
              "<style scoped>\n",
              "    .dataframe tbody tr th:only-of-type {\n",
              "        vertical-align: middle;\n",
              "    }\n",
              "\n",
              "    .dataframe tbody tr th {\n",
              "        vertical-align: top;\n",
              "    }\n",
              "\n",
              "    .dataframe thead th {\n",
              "        text-align: right;\n",
              "    }\n",
              "</style>\n",
              "<table border=\"1\" class=\"dataframe\">\n",
              "  <thead>\n",
              "    <tr style=\"text-align: right;\">\n",
              "      <th></th>\n",
              "      <th>sepal length (cm)</th>\n",
              "      <th>sepal width (cm)</th>\n",
              "      <th>petal length (cm)</th>\n",
              "      <th>petal width (cm)</th>\n",
              "      <th>label</th>\n",
              "    </tr>\n",
              "  </thead>\n",
              "  <tbody>\n",
              "    <tr>\n",
              "      <th>0</th>\n",
              "      <td>5.1</td>\n",
              "      <td>3.5</td>\n",
              "      <td>1.4</td>\n",
              "      <td>0.2</td>\n",
              "      <td>0</td>\n",
              "    </tr>\n",
              "    <tr>\n",
              "      <th>1</th>\n",
              "      <td>4.9</td>\n",
              "      <td>3.0</td>\n",
              "      <td>1.4</td>\n",
              "      <td>0.2</td>\n",
              "      <td>0</td>\n",
              "    </tr>\n",
              "    <tr>\n",
              "      <th>2</th>\n",
              "      <td>4.7</td>\n",
              "      <td>3.2</td>\n",
              "      <td>1.3</td>\n",
              "      <td>0.2</td>\n",
              "      <td>0</td>\n",
              "    </tr>\n",
              "    <tr>\n",
              "      <th>3</th>\n",
              "      <td>4.6</td>\n",
              "      <td>3.1</td>\n",
              "      <td>1.5</td>\n",
              "      <td>0.2</td>\n",
              "      <td>0</td>\n",
              "    </tr>\n",
              "    <tr>\n",
              "      <th>4</th>\n",
              "      <td>5.0</td>\n",
              "      <td>3.6</td>\n",
              "      <td>1.4</td>\n",
              "      <td>0.2</td>\n",
              "      <td>0</td>\n",
              "    </tr>\n",
              "  </tbody>\n",
              "</table>\n",
              "</div>\n",
              "      <button class=\"colab-df-convert\" onclick=\"convertToInteractive('df-c2cdc851-6412-4639-92d6-a24fbfce6765')\"\n",
              "              title=\"Convert this dataframe to an interactive table.\"\n",
              "              style=\"display:none;\">\n",
              "        \n",
              "  <svg xmlns=\"http://www.w3.org/2000/svg\" height=\"24px\"viewBox=\"0 0 24 24\"\n",
              "       width=\"24px\">\n",
              "    <path d=\"M0 0h24v24H0V0z\" fill=\"none\"/>\n",
              "    <path d=\"M18.56 5.44l.94 2.06.94-2.06 2.06-.94-2.06-.94-.94-2.06-.94 2.06-2.06.94zm-11 1L8.5 8.5l.94-2.06 2.06-.94-2.06-.94L8.5 2.5l-.94 2.06-2.06.94zm10 10l.94 2.06.94-2.06 2.06-.94-2.06-.94-.94-2.06-.94 2.06-2.06.94z\"/><path d=\"M17.41 7.96l-1.37-1.37c-.4-.4-.92-.59-1.43-.59-.52 0-1.04.2-1.43.59L10.3 9.45l-7.72 7.72c-.78.78-.78 2.05 0 2.83L4 21.41c.39.39.9.59 1.41.59.51 0 1.02-.2 1.41-.59l7.78-7.78 2.81-2.81c.8-.78.8-2.07 0-2.86zM5.41 20L4 18.59l7.72-7.72 1.47 1.35L5.41 20z\"/>\n",
              "  </svg>\n",
              "      </button>\n",
              "      \n",
              "  <style>\n",
              "    .colab-df-container {\n",
              "      display:flex;\n",
              "      flex-wrap:wrap;\n",
              "      gap: 12px;\n",
              "    }\n",
              "\n",
              "    .colab-df-convert {\n",
              "      background-color: #E8F0FE;\n",
              "      border: none;\n",
              "      border-radius: 50%;\n",
              "      cursor: pointer;\n",
              "      display: none;\n",
              "      fill: #1967D2;\n",
              "      height: 32px;\n",
              "      padding: 0 0 0 0;\n",
              "      width: 32px;\n",
              "    }\n",
              "\n",
              "    .colab-df-convert:hover {\n",
              "      background-color: #E2EBFA;\n",
              "      box-shadow: 0px 1px 2px rgba(60, 64, 67, 0.3), 0px 1px 3px 1px rgba(60, 64, 67, 0.15);\n",
              "      fill: #174EA6;\n",
              "    }\n",
              "\n",
              "    [theme=dark] .colab-df-convert {\n",
              "      background-color: #3B4455;\n",
              "      fill: #D2E3FC;\n",
              "    }\n",
              "\n",
              "    [theme=dark] .colab-df-convert:hover {\n",
              "      background-color: #434B5C;\n",
              "      box-shadow: 0px 1px 3px 1px rgba(0, 0, 0, 0.15);\n",
              "      filter: drop-shadow(0px 1px 2px rgba(0, 0, 0, 0.3));\n",
              "      fill: #FFFFFF;\n",
              "    }\n",
              "  </style>\n",
              "\n",
              "      <script>\n",
              "        const buttonEl =\n",
              "          document.querySelector('#df-c2cdc851-6412-4639-92d6-a24fbfce6765 button.colab-df-convert');\n",
              "        buttonEl.style.display =\n",
              "          google.colab.kernel.accessAllowed ? 'block' : 'none';\n",
              "\n",
              "        async function convertToInteractive(key) {\n",
              "          const element = document.querySelector('#df-c2cdc851-6412-4639-92d6-a24fbfce6765');\n",
              "          const dataTable =\n",
              "            await google.colab.kernel.invokeFunction('convertToInteractive',\n",
              "                                                     [key], {});\n",
              "          if (!dataTable) return;\n",
              "\n",
              "          const docLinkHtml = 'Like what you see? Visit the ' +\n",
              "            '<a target=\"_blank\" href=https://colab.research.google.com/notebooks/data_table.ipynb>data table notebook</a>'\n",
              "            + ' to learn more about interactive tables.';\n",
              "          element.innerHTML = '';\n",
              "          dataTable['output_type'] = 'display_data';\n",
              "          await google.colab.output.renderOutput(dataTable, element);\n",
              "          const docLink = document.createElement('div');\n",
              "          docLink.innerHTML = docLinkHtml;\n",
              "          element.appendChild(docLink);\n",
              "        }\n",
              "      </script>\n",
              "    </div>\n",
              "  </div>\n",
              "  "
            ]
          },
          "metadata": {},
          "execution_count": 1
        }
      ],
      "source": [
        "import pandas as pd\n",
        "import seaborn as sns\n",
        "from sklearn.datasets import load_iris\n",
        "\n",
        "iris = load_iris()\n",
        "iris_df = pd.DataFrame(data=iris.data, columns=iris.feature_names)\n",
        "iris_df['label'] = iris.target\n",
        "iris_df.head()"
      ]
    },
    {
      "cell_type": "markdown",
      "metadata": {
        "id": "Tjs05Gr8CoPm"
      },
      "source": [
        "### 데이터분할"
      ]
    },
    {
      "cell_type": "code",
      "execution_count": 2,
      "metadata": {
        "id": "xiI843s4CoPm"
      },
      "outputs": [],
      "source": [
        "from sklearn.model_selection import train_test_split\n",
        "\n",
        "X = iris_df.iloc[:, :4]\n",
        "y = iris_df['label']\n",
        "\n",
        "# 학습용 데이터와 테스트용 데이터로 나눔\n",
        "X_train, X_test, y_train, y_test = train_test_split(X, y, random_state=42, stratify=y)"
      ]
    },
    {
      "cell_type": "markdown",
      "metadata": {
        "id": "HeUr3nt-CoPu"
      },
      "source": [
        "## XGBClassifier"
      ]
    },
    {
      "cell_type": "code",
      "execution_count": 3,
      "metadata": {
        "colab": {
          "base_uri": "https://localhost:8080/"
        },
        "id": "248xemmwCoPu",
        "outputId": "9f1c8c0f-74f5-42fa-de66-3522337758a4"
      },
      "outputs": [
        {
          "output_type": "stream",
          "name": "stdout",
          "text": [
            "정확도: 0.9211\n"
          ]
        }
      ],
      "source": [
        "from xgboost import XGBClassifier\n",
        "\n",
        "xgb_model = XGBClassifier(n_estimators=300, learning_rate=0.1, max_depth=3, random_state = 42)\n",
        "\n",
        "xgb_model.fit(X_train , y_train)\n",
        "score = xgb_model.score(X_test, y_test)\n",
        "print('정확도: {:.4f}'.format(score)) "
      ]
    },
    {
      "cell_type": "code",
      "source": [
        "from xgboost import plot_importance\n",
        "\n",
        "plot_importance(xgb_model)"
      ],
      "metadata": {
        "colab": {
          "base_uri": "https://localhost:8080/",
          "height": 313
        },
        "id": "O8GLDdrMGeZh",
        "outputId": "bc9d2191-6e7e-48d9-f870-adb02365c609"
      },
      "execution_count": 4,
      "outputs": [
        {
          "output_type": "execute_result",
          "data": {
            "text/plain": [
              "<matplotlib.axes._subplots.AxesSubplot at 0x7f3465adea30>"
            ]
          },
          "metadata": {},
          "execution_count": 4
        },
        {
          "output_type": "display_data",
          "data": {
            "text/plain": [
              "<Figure size 432x288 with 1 Axes>"
            ],
            "image/png": "[encoded data removed]"
          },
          "metadata": {
            "needs_background": "light"
          }
        }
      ]
    },
    {
      "cell_type": "code",
      "source": [
        "xgb_model.fit(X_train, y_train, early_stopping_rounds=10, eval_set=[(X_test, y_test)])"
      ],
      "metadata": {
        "colab": {
          "base_uri": "https://localhost:8080/"
        },
        "id": "MGiwaxdMG6DF",
        "outputId": "67761089-d013-46fa-d0ad-76773ab47c12"
      },
      "execution_count": 11,
      "outputs": [
        {
          "output_type": "stream",
          "name": "stdout",
          "text": [
            "[0]\tvalidation_0-merror:0.052632\n",
            "Will train until validation_0-merror hasn't improved in 10 rounds.\n",
            "[1]\tvalidation_0-merror:0.052632\n",
            "[2]\tvalidation_0-merror:0.052632\n",
            "[3]\tvalidation_0-merror:0.052632\n",
            "[4]\tvalidation_0-merror:0.052632\n",
            "[5]\tvalidation_0-merror:0.052632\n",
            "[6]\tvalidation_0-merror:0.052632\n",
            "[7]\tvalidation_0-merror:0.052632\n",
            "[8]\tvalidation_0-merror:0.052632\n",
            "[9]\tvalidation_0-merror:0.052632\n",
            "[10]\tvalidation_0-merror:0.052632\n",
            "Stopping. Best iteration:\n",
            "[0]\tvalidation_0-merror:0.052632\n",
            "\n"
          ]
        },
        {
          "output_type": "execute_result",
          "data": {
            "text/plain": [
              "XGBClassifier(n_estimators=300, objective='multi:softprob', random_state=42)"
            ]
          },
          "metadata": {},
          "execution_count": 11
        }
      ]
    },
    {
      "cell_type": "markdown",
      "source": [
        "## LGBMClassifier"
      ],
      "metadata": {
        "id": "d65s-OFREBXt"
      }
    },
    {
      "cell_type": "code",
      "source": [
        "from lightgbm import LGBMClassifier\n",
        "\n",
        "lgb_model = LGBMClassifier(n_estimators=300, random_state = 42)\n",
        "\n",
        "lgb_model.fit(X_train , y_train)\n",
        "score = lgb_model.score(X_test, y_test)\n",
        "print('정확도: {:.4f}'.format(score)) "
      ],
      "metadata": {
        "colab": {
          "base_uri": "https://localhost:8080/"
        },
        "id": "a7LS35IhDoiQ",
        "outputId": "0a0d3ff8-8c06-45d1-a659-241697c35ce9"
      },
      "execution_count": 6,
      "outputs": [
        {
          "output_type": "stream",
          "name": "stdout",
          "text": [
            "정확도: 0.8947\n"
          ]
        }
      ]
    },
    {
      "cell_type": "code",
      "source": [
        "from lightgbm import plot_importance\n",
        "\n",
        "plot_importance(lgb_model)"
      ],
      "metadata": {
        "colab": {
          "base_uri": "https://localhost:8080/",
          "height": 313
        },
        "id": "4qAfvW9cFMSv",
        "outputId": "c7e974d6-7524-455b-e0fa-845f481e6b5b"
      },
      "execution_count": 7,
      "outputs": [
        {
          "output_type": "execute_result",
          "data": {
            "text/plain": [
              "<matplotlib.axes._subplots.AxesSubplot at 0x7f3465574130>"
            ]
          },
          "metadata": {},
          "execution_count": 7
        },
        {
          "output_type": "display_data",
          "data": {
            "text/plain": [
              "<Figure size 432x288 with 1 Axes>"
            ],
            "image/png": "[encoded data removed]"
          },
          "metadata": {
            "needs_background": "light"
          }
        }
      ]
    },
    {
      "cell_type": "code",
      "source": [
        "from lightgbm import plot_tree\n",
        "plot_tree(lgb_model, figsize= (10, 10))"
      ],
      "metadata": {
        "colab": {
          "base_uri": "https://localhost:8080/",
          "height": 204
        },
        "id": "E5YIDQXFFtfT",
        "outputId": "49280ed2-c338-4713-8db3-0c9a03532fc1"
      },
      "execution_count": 8,
      "outputs": [
        {
          "output_type": "execute_result",
          "data": {
            "text/plain": [
              "<matplotlib.axes._subplots.AxesSubplot at 0x7f346502d3a0>"
            ]
          },
          "metadata": {},
          "execution_count": 8
        },
        {
          "output_type": "display_data",
          "data": {
            "text/plain": [
              "<Figure size 720x720 with 1 Axes>"
            ],
            "image/png": "[encoded data removed]"
          },
          "metadata": {
            "needs_background": "light"
          }
        }
      ]
    },
    {
      "cell_type": "markdown",
      "metadata": {
        "id": "R__0XZ4xCoPu"
      },
      "source": [
        "#### early stop"
      ]
    },
    {
      "cell_type": "code",
      "execution_count": 9,
      "metadata": {
        "scrolled": true,
        "colab": {
          "base_uri": "https://localhost:8080/"
        },
        "id": "lFyk7lekCoPu",
        "outputId": "6438f9a9-f567-450d-db65-08442538abac"
      },
      "outputs": [
        {
          "output_type": "stream",
          "name": "stdout",
          "text": [
            "[1]\tvalid_0's multi_logloss: 0.978286\n",
            "Training until validation scores don't improve for 5 rounds.\n",
            "[2]\tvalid_0's multi_logloss: 0.880421\n",
            "[3]\tvalid_0's multi_logloss: 0.796846\n",
            "[4]\tvalid_0's multi_logloss: 0.72486\n",
            "[5]\tvalid_0's multi_logloss: 0.663865\n",
            "[6]\tvalid_0's multi_logloss: 0.610667\n",
            "[7]\tvalid_0's multi_logloss: 0.564415\n",
            "[8]\tvalid_0's multi_logloss: 0.521761\n",
            "[9]\tvalid_0's multi_logloss: 0.483989\n",
            "[10]\tvalid_0's multi_logloss: 0.450948\n",
            "[11]\tvalid_0's multi_logloss: 0.422582\n",
            "[12]\tvalid_0's multi_logloss: 0.39652\n",
            "[13]\tvalid_0's multi_logloss: 0.373639\n",
            "[14]\tvalid_0's multi_logloss: 0.352654\n",
            "[15]\tvalid_0's multi_logloss: 0.334728\n",
            "[16]\tvalid_0's multi_logloss: 0.318677\n",
            "[17]\tvalid_0's multi_logloss: 0.304595\n",
            "[18]\tvalid_0's multi_logloss: 0.292363\n",
            "[19]\tvalid_0's multi_logloss: 0.28144\n",
            "[20]\tvalid_0's multi_logloss: 0.274183\n",
            "[21]\tvalid_0's multi_logloss: 0.265917\n",
            "[22]\tvalid_0's multi_logloss: 0.25878\n",
            "[23]\tvalid_0's multi_logloss: 0.252651\n",
            "[24]\tvalid_0's multi_logloss: 0.248228\n",
            "[25]\tvalid_0's multi_logloss: 0.243841\n",
            "[26]\tvalid_0's multi_logloss: 0.240183\n",
            "[27]\tvalid_0's multi_logloss: 0.23577\n",
            "[28]\tvalid_0's multi_logloss: 0.235445\n",
            "[29]\tvalid_0's multi_logloss: 0.23214\n",
            "[30]\tvalid_0's multi_logloss: 0.230636\n",
            "[31]\tvalid_0's multi_logloss: 0.229553\n",
            "[32]\tvalid_0's multi_logloss: 0.227448\n",
            "[33]\tvalid_0's multi_logloss: 0.227052\n",
            "[34]\tvalid_0's multi_logloss: 0.225531\n",
            "[35]\tvalid_0's multi_logloss: 0.225747\n",
            "[36]\tvalid_0's multi_logloss: 0.225433\n",
            "[37]\tvalid_0's multi_logloss: 0.226243\n",
            "[38]\tvalid_0's multi_logloss: 0.227072\n",
            "[39]\tvalid_0's multi_logloss: 0.227247\n",
            "[40]\tvalid_0's multi_logloss: 0.228439\n",
            "[41]\tvalid_0's multi_logloss: 0.228507\n",
            "Early stopping, best iteration is:\n",
            "[36]\tvalid_0's multi_logloss: 0.225433\n",
            "LGBMClassifier EarlyStopping 정확도: 0.8947\n"
          ]
        }
      ],
      "source": [
        "lgb_model.fit(X_train, y_train, early_stopping_rounds=5, eval_set=[(X_test, y_test)])\n",
        "score = lgb_model.score(X_test, y_test)\n",
        "print('LGBMClassifier EarlyStopping 정확도: {0:.4f}'.format(score))"
      ]
    },
    {
      "cell_type": "code",
      "source": [],
      "metadata": {
        "id": "ATXksS5aGRL6"
      },
      "execution_count": 9,
      "outputs": []
    }
  ],
  "metadata": {
    "kernelspec": {
      "display_name": "Python 3",
      "language": "python",
      "name": "python3"
    },
    "language_info": {
      "codemirror_mode": {
        "name": "ipython",
        "version": 3
      },
      "file_extension": ".py",
      "mimetype": "text/x-python",
      "name": "python",
      "nbconvert_exporter": "python",
      "pygments_lexer": "ipython3",
      "version": "3.8.5"
    },
    "toc": {
      "base_numbering": 1,
      "nav_menu": {},
      "number_sections": false,
      "sideBar": true,
      "skip_h1_title": false,
      "title_cell": "Table of Contents",
      "title_sidebar": "Contents",
      "toc_cell": false,
      "toc_position": {
        "height": "calc(100% - 180px)",
        "left": "10px",
        "top": "150px",
        "width": "313.3px"
      },
      "toc_section_display": true,
      "toc_window_display": false
    },
    "colab": {
      "provenance": [],
      "include_colab_link": true
    }
  },
  "nbformat": 4,
  "nbformat_minor": 0
}